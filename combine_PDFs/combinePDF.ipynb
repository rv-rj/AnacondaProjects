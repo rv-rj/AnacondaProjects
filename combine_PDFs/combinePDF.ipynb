{
 "cells": [
  {
   "cell_type": "code",
   "execution_count": null,
   "metadata": {
    "scrolled": true
   },
   "outputs": [
    {
     "name": "stdout",
     "output_type": "stream",
     "text": [
      "Added: 1_Module 7_QRG.pdf\n",
      "Added: 2_Module_7_Video_Transcripts.pdf\n",
      "Added: 3_Module 7_Notes.pdf\n",
      "Added: 4_Module_7_Readings.pdf\n",
      "Added: 5_Office_Hour.pdf\n",
      "Added: 6_Assignment 7.1 Pick a Leadership Challenge to Address Template.pdf\n",
      "Added: 7_7.1 Pick a Leadership Challenge to Address Submission.pdf\n",
      "Merged 7 PDF files into: G:\\My Drive\\Gardening_2025\\Strategy_MIT\\Module_7 - AI and Leadership\\Module 7 - AI and Leadership.pdf\n"
     ]
    },
    {
     "ename": "",
     "evalue": "",
     "output_type": "error",
     "traceback": [
      "\u001b[1;31mThe Kernel crashed while executing code in the current cell or a previous cell. \n",
      "\u001b[1;31mPlease review the code in the cell(s) to identify a possible cause of the failure. \n",
      "\u001b[1;31mClick <a href='https://aka.ms/vscodeJupyterKernelCrash'>here</a> for more info. \n",
      "\u001b[1;31mView Jupyter <a href='command:jupyter.viewOutput'>log</a> for further details."
     ]
    }
   ],
   "source": [
    "import os\n",
    "import re\n",
    "from PyPDF2 import PdfMerger\n",
    "\n",
    "def natural_key(s):\n",
    "    return [int(text) if text.isdigit() else text.lower() for text in re.split(r'(\\d+)', s)]\n",
    "\n",
    "\n",
    "def merge_pdfs_in_folder(folder_path, output_name=\"merged.pdf\"):\n",
    "    merger = PdfMerger()\n",
    "    # Get all PDF files in the folder, sorted alphabetically\n",
    "    pdf_files = [f for f in os.listdir(folder_path) if f.lower().endswith('.pdf')]\n",
    "    pdf_files.sort(key=natural_key)\n",
    "    # pdf_files.sort(reverse=True)  # Sort in reverse order if needed\n",
    "    \n",
    "    if not pdf_files:\n",
    "        print(\"No PDF files found in the folder.\")\n",
    "        return\n",
    "    \n",
    "    for pdf in pdf_files:\n",
    "        merger.append(os.path.join(folder_path, pdf))\n",
    "        print(f\"Added: {pdf}\")\n",
    "    \n",
    "    output_path = os.path.join(folder_path, output_name)\n",
    "    merger.write(output_path)\n",
    "    merger.close()\n",
    "    print(f\"Merged {len(pdf_files)} PDF files into: {output_path}\")\n",
    "\n",
    "# Example usage:\n",
    "# merge_pdfs_in_folder(r\"C:\\path\\to\\your\\folder\")\n",
    "merge_pdfs_in_folder(\n",
    "    r\"G:\\My Drive\\Gardening_2025\\Strategy_MIT\\Module_7 - AI and Leadership\",\n",
    "   \"Module 7 - AI and Leadership.pdf\"\n",
    ")"
   ]
  }
 ],
 "metadata": {
  "kernelspec": {
   "display_name": ".venv (3.13.4)",
   "language": "python",
   "name": "python3"
  },
  "language_info": {
   "codemirror_mode": {
    "name": "ipython",
    "version": 3
   },
   "file_extension": ".py",
   "mimetype": "text/x-python",
   "name": "python",
   "nbconvert_exporter": "python",
   "pygments_lexer": "ipython3",
   "version": "3.13.4"
  }
 },
 "nbformat": 4,
 "nbformat_minor": 2
}
