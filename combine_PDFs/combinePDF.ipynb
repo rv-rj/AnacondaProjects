{
 "cells": [
  {
   "cell_type": "code",
   "execution_count": 5,
   "metadata": {
    "scrolled": true
   },
   "outputs": [
    {
     "name": "stdout",
     "output_type": "stream",
     "text": [
      "Added: 1.1 Introducing Genospital Submission.pdf\n",
      "Added: 2.1 Genospital’s AI Strategy Submission.pdf\n",
      "Added: 3.1 Mobilizing Genospital Submission.pdf\n",
      "Added: 4.1 Calculating the Costs Submission.pdf\n",
      "Added: 5.1 Overcoming the Risks Submission.pdf\n",
      "Added: 6.1 Preserving Data Privacy and Security Submission.pdf\n",
      "Added: 7.1 Pick a Leadership Challenge to Address Submission.pdf\n",
      "Added: 8.1 A Leadership Challenge to Address Submission.pdf\n",
      "Added: 9.1 Toward a Solution—Part I Submission.pdf\n",
      "Added: 10.1 Toward a Solution—Part II Submission.pdf\n",
      "Added: 11.1 Leadership Responsibility Submission.pdf\n",
      "Added: 12.1 Create Your Strategic Plan Submission.pdf\n",
      "Merged 12 PDF files into: Z:\\OneDrive\\Gardening_2025\\Strategy_MIT\\Submissions\\12_Submissions.pdf\n"
     ]
    }
   ],
   "source": [
    "import os\n",
    "import re\n",
    "from PyPDF2 import PdfMerger\n",
    "\n",
    "def natural_key(s):\n",
    "    return [int(text) if text.isdigit() else text.lower() for text in re.split(r'(\\d+)', s)]\n",
    "\n",
    "\n",
    "def merge_pdfs_in_folder(folder_path, output_name=\"merged.pdf\"):\n",
    "    merger = PdfMerger()\n",
    "    # Get all PDF files in the folder, sorted alphabetically\n",
    "    pdf_files = [f for f in os.listdir(folder_path) if f.lower().endswith('.pdf')]\n",
    "    pdf_files.sort(key=natural_key)\n",
    "    # pdf_files.sort(reverse=True)  # Sort in reverse order if needed\n",
    "    \n",
    "    if not pdf_files:\n",
    "        print(\"No PDF files found in the folder.\")\n",
    "        return\n",
    "    \n",
    "    for pdf in pdf_files:\n",
    "        merger.append(os.path.join(folder_path, pdf))\n",
    "        print(f\"Added: {pdf}\")\n",
    "    \n",
    "    output_path = os.path.join(folder_path, output_name)\n",
    "    merger.write(output_path)\n",
    "    merger.close()\n",
    "    print(f\"Merged {len(pdf_files)} PDF files into: {output_path}\")\n",
    "\n",
    "# Example usage:\n",
    "# merge_pdfs_in_folder(r\"C:\\path\\to\\your\\folder\")\n",
    "merge_pdfs_in_folder(\n",
    "    r\"Z:\\OneDrive\\Gardening_2025\\Strategy_MIT\\Submissions\",\n",
    "   \"12_Submissions.pdf\"\n",
    ")"
   ]
  }
 ],
 "metadata": {
  "kernelspec": {
   "display_name": "git_env (3.13.4)",
   "language": "python",
   "name": "python3"
  },
  "language_info": {
   "codemirror_mode": {
    "name": "ipython",
    "version": 3
   },
   "file_extension": ".py",
   "mimetype": "text/x-python",
   "name": "python",
   "nbconvert_exporter": "python",
   "pygments_lexer": "ipython3",
   "version": "3.13.4"
  }
 },
 "nbformat": 4,
 "nbformat_minor": 2
}
