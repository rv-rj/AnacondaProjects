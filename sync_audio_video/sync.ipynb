{
 "cells": [
  {
   "cell_type": "code",
   "execution_count": null,
   "id": "7c659013",
   "metadata": {},
   "outputs": [
    {
     "ename": "",
     "evalue": "",
     "output_type": "error",
     "traceback": [
      "\u001b[1;31mThe Kernel crashed while executing code in the current cell or a previous cell. \n",
      "\u001b[1;31mPlease review the code in the cell(s) to identify a possible cause of the failure. \n",
      "\u001b[1;31mClick <a href='https://aka.ms/vscodeJupyterKernelCrash'>here</a> for more info. \n",
      "\u001b[1;31mView Jupyter <a href='command:jupyter.viewOutput'>log</a> for further details."
     ]
    }
   ],
   "source": [
    "import os\n",
    "from moviepy import VideoFileClip, AudioFileClip\n",
    "\n",
    "def sync_video_audio(video_path, audio_path):\n",
    "    folder = os.path.dirname(video_path)\n",
    "    base_name = os.path.splitext(os.path.basename(video_path))[0]\n",
    "    output_path = os.path.join(folder, f\"{base_name}_synced.mp4\")\n",
    "    \n",
    "    video = VideoFileClip(video_path)\n",
    "    audio = AudioFileClip(audio_path)\n",
    "    \n",
    "    # Set the audio of the video\n",
    "    video = video.with_audio(audio)\n",
    "    \n",
    "    video.write_videofile(output_path, codec=\"libx264\", audio_codec=\"aac\")\n",
    "    print(f\"Saved synced video to: {output_path}\")\n"
   ]
  },
  {
   "cell_type": "code",
   "execution_count": 2,
   "id": "b4d42337",
   "metadata": {},
   "outputs": [
    {
     "name": "stdout",
     "output_type": "stream",
     "text": [
      "MoviePy - Building video G:\\My Drive\\Gardening_2025\\MIT\\Webinars\\Onboarding ENG + Q&A (720p with 30fps)_synced.mp4.\n",
      "MoviePy - Writing audio in Onboarding ENG + Q&A (720p with 30fps)_syncedTEMP_MPY_wvf_snd.mp4\n"
     ]
    },
    {
     "name": "stderr",
     "output_type": "stream",
     "text": [
      "                                                                         \r"
     ]
    },
    {
     "name": "stdout",
     "output_type": "stream",
     "text": [
      "MoviePy - Done.\n",
      "MoviePy - Writing video G:\\My Drive\\Gardening_2025\\MIT\\Webinars\\Onboarding ENG + Q&A (720p with 30fps)_synced.mp4\n",
      "\n"
     ]
    },
    {
     "name": "stderr",
     "output_type": "stream",
     "text": [
      "                                                                                \r"
     ]
    },
    {
     "name": "stdout",
     "output_type": "stream",
     "text": [
      "MoviePy - Done !\n",
      "MoviePy - video ready G:\\My Drive\\Gardening_2025\\MIT\\Webinars\\Onboarding ENG + Q&A (720p with 30fps)_synced.mp4\n",
      "Saved synced video to: G:\\My Drive\\Gardening_2025\\MIT\\Webinars\\Onboarding ENG + Q&A (720p with 30fps)_synced.mp4\n"
     ]
    }
   ],
   "source": [
    "# Example usage:\n",
    "sync_video_audio(\n",
    "    r\"G:\\My Drive\\Gardening_2025\\MIT\\Webinars\\Onboarding ENG + Q&A (720p with 30fps).mp4\",\n",
    "    r\"G:\\My Drive\\Gardening_2025\\MIT\\Webinars\\Onboarding ENG + Q&A-audio.mp4\"\n",
    ")"
   ]
  },
  {
   "cell_type": "code",
   "execution_count": 3,
   "id": "32b6ef75",
   "metadata": {},
   "outputs": [
    {
     "name": "stdout",
     "output_type": "stream",
     "text": [
      "MoviePy - Building video G:\\My Drive\\Gardening_2025\\MIT\\Webinars\\Applied Generative AI for Digital Transformation - Faculty Webinar (720p with 30fps)_June_synced.mp4.\n",
      "MoviePy - Writing audio in Applied Generative AI for Digital Transformation - Faculty Webinar (720p with 30fps)_June_syncedTEMP_MPY_wvf_snd.mp4\n"
     ]
    },
    {
     "name": "stderr",
     "output_type": "stream",
     "text": [
      "                                                                       \r"
     ]
    },
    {
     "name": "stdout",
     "output_type": "stream",
     "text": [
      "MoviePy - Done.\n",
      "MoviePy - Writing video G:\\My Drive\\Gardening_2025\\MIT\\Webinars\\Applied Generative AI for Digital Transformation - Faculty Webinar (720p with 30fps)_June_synced.mp4\n",
      "\n"
     ]
    },
    {
     "name": "stderr",
     "output_type": "stream",
     "text": [
      "                                                                               \r"
     ]
    },
    {
     "name": "stdout",
     "output_type": "stream",
     "text": [
      "MoviePy - Done !\n",
      "MoviePy - video ready G:\\My Drive\\Gardening_2025\\MIT\\Webinars\\Applied Generative AI for Digital Transformation - Faculty Webinar (720p with 30fps)_June_synced.mp4\n",
      "Saved synced video to: G:\\My Drive\\Gardening_2025\\MIT\\Webinars\\Applied Generative AI for Digital Transformation - Faculty Webinar (720p with 30fps)_June_synced.mp4\n"
     ]
    }
   ],
   "source": [
    "# Example usage:\n",
    "sync_video_audio(\n",
    "    r\"G:\\My Drive\\Gardening_2025\\MIT\\Webinars\\Applied Generative AI for Digital Transformation - Faculty Webinar (720p with 30fps)_June.mp4\",\n",
    "    r\"G:\\My Drive\\Gardening_2025\\MIT\\Webinars\\Applied Generative AI for Digital Transformation - Faculty Webinar-audio_June.mp4\"\n",
    ")"
   ]
  },
  {
   "cell_type": "code",
   "execution_count": 5,
   "id": "5c52b84a",
   "metadata": {},
   "outputs": [
    {
     "name": "stdout",
     "output_type": "stream",
     "text": [
      "MoviePy - Building video G:\\My Drive\\Gardening_2025\\MIT\\Webinars\\Applied Generative AI for Digital Transformation - Faculty Webinar (720p with 30fps)_synced.mp4.\n",
      "MoviePy - Writing audio in Applied Generative AI for Digital Transformation - Faculty Webinar (720p with 30fps)_syncedTEMP_MPY_wvf_snd.mp4\n"
     ]
    },
    {
     "name": "stderr",
     "output_type": "stream",
     "text": [
      "                                                                        \r"
     ]
    },
    {
     "name": "stdout",
     "output_type": "stream",
     "text": [
      "MoviePy - Done.\n",
      "MoviePy - Writing video G:\\My Drive\\Gardening_2025\\MIT\\Webinars\\Applied Generative AI for Digital Transformation - Faculty Webinar (720p with 30fps)_synced.mp4\n",
      "\n"
     ]
    },
    {
     "name": "stderr",
     "output_type": "stream",
     "text": [
      "                                                                              \r"
     ]
    },
    {
     "name": "stdout",
     "output_type": "stream",
     "text": [
      "MoviePy - Done !\n",
      "MoviePy - video ready G:\\My Drive\\Gardening_2025\\MIT\\Webinars\\Applied Generative AI for Digital Transformation - Faculty Webinar (720p with 30fps)_synced.mp4\n",
      "Saved synced video to: G:\\My Drive\\Gardening_2025\\MIT\\Webinars\\Applied Generative AI for Digital Transformation - Faculty Webinar (720p with 30fps)_synced.mp4\n"
     ]
    }
   ],
   "source": [
    "# Example usage:\n",
    "sync_video_audio(\n",
    "    r\"G:\\My Drive\\Gardening_2025\\MIT\\Webinars\\Applied Generative AI for Digital Transformation - Faculty Webinar (720p with 30fps).mp4\",\n",
    "    r\"G:\\My Drive\\Gardening_2025\\MIT\\Webinars\\Applied Generative AI for Digital Transformation - Faculty Webinar-audio.mp4\"\n",
    ")"
   ]
  },
  {
   "cell_type": "code",
   "execution_count": null,
   "id": "3bd60383",
   "metadata": {},
   "outputs": [
    {
     "name": "stdout",
     "output_type": "stream",
     "text": [
      "MoviePy - Building video Z:\\Dropbox\\Career\\Jobs\\Gardening_2025\\MIT\\Module_8\\MITPE_GAI_OE_M8_Key takeaways (720p with 25fps)_synced.mp4.\n",
      "MoviePy - Writing audio in MITPE_GAI_OE_M8_Key takeaways (720p with 25fps)_syncedTEMP_MPY_wvf_snd.mp4\n"
     ]
    },
    {
     "name": "stderr",
     "output_type": "stream",
     "text": [
      "                                                                     \r"
     ]
    },
    {
     "name": "stdout",
     "output_type": "stream",
     "text": [
      "MoviePy - Done.\n",
      "MoviePy - Writing video Z:\\Dropbox\\Career\\Jobs\\Gardening_2025\\MIT\\Module_8\\MITPE_GAI_OE_M8_Key takeaways (720p with 25fps)_synced.mp4\n",
      "\n"
     ]
    },
    {
     "name": "stderr",
     "output_type": "stream",
     "text": [
      "                                                                          \r"
     ]
    },
    {
     "name": "stdout",
     "output_type": "stream",
     "text": [
      "MoviePy - Done !\n",
      "MoviePy - video ready Z:\\Dropbox\\Career\\Jobs\\Gardening_2025\\MIT\\Module_8\\MITPE_GAI_OE_M8_Key takeaways (720p with 25fps)_synced.mp4\n",
      "Saved synced video to: Z:\\Dropbox\\Career\\Jobs\\Gardening_2025\\MIT\\Module_8\\MITPE_GAI_OE_M8_Key takeaways (720p with 25fps)_synced.mp4\n"
     ]
    }
   ],
   "source": [
    "# # Example usage:\n",
    "# sync_video_audio(\n",
    "#     r\"Z:\\Dropbox\\Career\\Jobs\\Gardening_2025\\MIT\\Module_8\\MITPE_GAI_OE_M8_Key takeaways (720p with 25fps).mp4\",\n",
    "#     r\"Z:\\Dropbox\\Career\\Jobs\\Gardening_2025\\MIT\\Module_8\\MITPE_GAI_OE_M8_Key takeaways-audio.mp4\"\n",
    "# )"
   ]
  }
 ],
 "metadata": {
  "kernelspec": {
   "display_name": ".venv (3.13.4)",
   "language": "python",
   "name": "python3"
  },
  "language_info": {
   "codemirror_mode": {
    "name": "ipython",
    "version": 3
   },
   "file_extension": ".py",
   "mimetype": "text/x-python",
   "name": "python",
   "nbconvert_exporter": "python",
   "pygments_lexer": "ipython3",
   "version": "3.13.4"
  }
 },
 "nbformat": 4,
 "nbformat_minor": 5
}
