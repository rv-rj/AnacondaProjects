{
 "cells": [
  {
   "cell_type": "code",
   "execution_count": 8,
   "id": "d5873f03",
   "metadata": {},
   "outputs": [],
   "source": [
    "import os\n",
    "from moviepy import VideoFileClip, concatenate_videoclips\n",
    "\n",
    "def combine_mp4s_with_chapters(folder_path, output_name=\"combined.mp4\"):\n",
    "    # Get all MP4 files in the folder, sorted alphabetically\n",
    "    mp4_files = [f for f in os.listdir(folder_path) if f.lower().endswith('.mp4')]\n",
    "    mp4_files.sort()\n",
    "    if not mp4_files:\n",
    "        print(\"No MP4 files found in the folder.\")\n",
    "        return\n",
    "\n",
    "    clips = []\n",
    "    chapter_times = []\n",
    "    current_time = 0\n",
    "    for mp4 in mp4_files:\n",
    "        clip = VideoFileClip(os.path.join(folder_path, mp4))\n",
    "        clips.append(clip)\n",
    "        chapter_times.append((current_time, os.path.splitext(mp4)[0]))\n",
    "        current_time += clip.duration\n",
    "\n",
    "    final_clip = concatenate_videoclips(clips, method=\"compose\")\n",
    "    output_path = os.path.join(folder_path, output_name)\n",
    "    final_clip.write_videofile(output_path, codec=\"libx264\", audio_codec=\"aac\")\n",
    "\n",
    "    # Write chapters file in ffmetadata format\n",
    "    chapters_path = os.path.join(folder_path, \"chapters.txt\")\n",
    "    with open(chapters_path, \"w\", encoding=\"utf-8\") as f:\n",
    "        f.write(\";FFMETADATA1\\n\")\n",
    "        for i, (start, title) in enumerate(chapter_times):\n",
    "            if i + 1 < len(chapter_times):\n",
    "                end = int(chapter_times[i+1][0])\n",
    "            else:\n",
    "                end = int(current_time)\n",
    "            f.write(\"[CHAPTER]\\n\")\n",
    "            f.write(\"TIMEBASE=1/1\\n\")\n",
    "            f.write(f\"START={int(start)}\\n\")\n",
    "            f.write(f\"END={end}\\n\")\n",
    "            f.write(f\"title={title}\\n\")\n",
    "\n",
    "    print(f\"Combined video saved to: {output_path}\")\n",
    "    print(f\"Chapters file saved to: {chapters_path}\")\n",
    "    print(\"Now run the following ffmpeg command to add chapters:\")\n",
    "\n",
    "    print(f'ffmpeg -i \"{output_path}\" -i \"{chapters_path}\" -map_metadata 1 -codec copy \"{output_path[:-4]}_with_chapters.mp4\"')\n",
    "\n",
    "# Example usage:\n",
    "# combine_mp4s_with_chapters(r\"C:\\path\\to\\your\\mp4_folder\")"
   ]
  },
  {
   "cell_type": "code",
   "execution_count": null,
   "id": "b10b70b2",
   "metadata": {},
   "outputs": [
    {
     "name": "stdout",
     "output_type": "stream",
     "text": [
      "MoviePy - Building video G:\\My Drive\\Gardening_2025\\MIT\\Module_1\\combined.mp4.\n",
      "MoviePy - Writing audio in combinedTEMP_MPY_wvf_snd.mp4\n"
     ]
    },
    {
     "name": "stderr",
     "output_type": "stream",
     "text": [
      "                                                                       \r"
     ]
    },
    {
     "name": "stdout",
     "output_type": "stream",
     "text": [
      "MoviePy - Done.\n",
      "MoviePy - Writing video G:\\My Drive\\Gardening_2025\\MIT\\Module_1\\combined.mp4\n",
      "\n"
     ]
    },
    {
     "name": "stderr",
     "output_type": "stream",
     "text": [
      "frame_index:  20%|██        | 6330/31107 [10:05<37:46, 10.93it/s, now=None]  z:\\My Documents\\AnacondaProjects\\.venv\\Lib\\site-packages\\moviepy\\video\\io\\ffmpeg_reader.py:190: UserWarning: In file G:\\My Drive\\Gardening_2025\\MIT\\Module_1\\Creating a Short Story with GenAI.mp4, 2764800 bytes wanted but 0 bytes read at frame index 6330 (out of a total 6331 frames), at time 253.20/253.25 sec. Using the last valid frame instead.\n",
      "  warnings.warn(\n",
      "frame_index:  20%|██        | 6332/31107 [10:05<37:42, 10.95it/s, now=None]z:\\My Documents\\AnacondaProjects\\.venv\\Lib\\site-packages\\moviepy\\video\\io\\ffmpeg_reader.py:190: UserWarning: In file G:\\My Drive\\Gardening_2025\\MIT\\Module_1\\Creating a Short Story with GenAI.mp4, 2764800 bytes wanted but 0 bytes read at frame index 6331 (out of a total 6331 frames), at time 253.24/253.25 sec. Using the last valid frame instead.\n",
      "  warnings.warn(\n",
      "frame_index:  37%|███▋      | 11492/31107 [21:33<40:35,  8.05it/s, now=None]  z:\\My Documents\\AnacondaProjects\\.venv\\Lib\\site-packages\\moviepy\\video\\io\\ffmpeg_reader.py:190: UserWarning: In file G:\\My Drive\\Gardening_2025\\MIT\\Module_1\\Creating a Voice Over with Generative AI.mp4, 2764800 bytes wanted but 0 bytes read at frame index 5159 (out of a total 5160 frames), at time 206.36/206.42 sec. Using the last valid frame instead.\n",
      "  warnings.warn(\n",
      "frame_index:  58%|█████▊    | 18016/31107 [35:59<22:33,  9.67it/s, now=None]  z:\\My Documents\\AnacondaProjects\\.venv\\Lib\\site-packages\\moviepy\\video\\io\\ffmpeg_reader.py:190: UserWarning: In file G:\\My Drive\\Gardening_2025\\MIT\\Module_1\\History of Generative AI.mp4, 2764800 bytes wanted but 0 bytes read at frame index 6523 (out of a total 6525 frames), at time 260.92/261.01 sec. Using the last valid frame instead.\n",
      "  warnings.warn(\n",
      "frame_index:  58%|█████▊    | 18017/31107 [35:59<22:41,  9.61it/s, now=None]z:\\My Documents\\AnacondaProjects\\.venv\\Lib\\site-packages\\moviepy\\video\\io\\ffmpeg_reader.py:190: UserWarning: In file G:\\My Drive\\Gardening_2025\\MIT\\Module_1\\History of Generative AI.mp4, 2764800 bytes wanted but 0 bytes read at frame index 6524 (out of a total 6525 frames), at time 260.96/261.01 sec. Using the last valid frame instead.\n",
      "  warnings.warn(\n",
      "frame_index:  58%|█████▊    | 18018/31107 [35:59<22:57,  9.51it/s, now=None]z:\\My Documents\\AnacondaProjects\\.venv\\Lib\\site-packages\\moviepy\\video\\io\\ffmpeg_reader.py:190: UserWarning: In file G:\\My Drive\\Gardening_2025\\MIT\\Module_1\\History of Generative AI.mp4, 2764800 bytes wanted but 0 bytes read at frame index 6525 (out of a total 6525 frames), at time 261.00/261.01 sec. Using the last valid frame instead.\n",
      "  warnings.warn(\n",
      "frame_index:  64%|██████▎   | 19757/31107 [39:37<41:10,  4.59it/s, now=None]  z:\\My Documents\\AnacondaProjects\\.venv\\Lib\\site-packages\\moviepy\\video\\io\\ffmpeg_reader.py:190: UserWarning: In file G:\\My Drive\\Gardening_2025\\MIT\\Module_1\\Training and Generating Text in Under a Minute.mp4, 2764800 bytes wanted but 0 bytes read at frame index 1739 (out of a total 1740 frames), at time 69.56/69.61 sec. Using the last valid frame instead.\n",
      "  warnings.warn(\n",
      "frame_index:  64%|██████▎   | 19758/31107 [39:37<40:44,  4.64it/s, now=None]z:\\My Documents\\AnacondaProjects\\.venv\\Lib\\site-packages\\moviepy\\video\\io\\ffmpeg_reader.py:190: UserWarning: In file G:\\My Drive\\Gardening_2025\\MIT\\Module_1\\Training and Generating Text in Under a Minute.mp4, 2764800 bytes wanted but 0 bytes read at frame index 1740 (out of a total 1740 frames), at time 69.60/69.61 sec. Using the last valid frame instead.\n",
      "  warnings.warn(\n",
      "frame_index:  83%|████████▎ | 25846/31107 [52:22<07:48, 11.23it/s, now=None]  z:\\My Documents\\AnacondaProjects\\.venv\\Lib\\site-packages\\moviepy\\video\\io\\ffmpeg_reader.py:190: UserWarning: In file G:\\My Drive\\Gardening_2025\\MIT\\Module_1\\Understanding Our World.mp4, 2764800 bytes wanted but 0 bytes read at frame index 6088 (out of a total 6089 frames), at time 243.52/243.56 sec. Using the last valid frame instead.\n",
      "  warnings.warn(\n",
      "                                                                              \r"
     ]
    },
    {
     "name": "stdout",
     "output_type": "stream",
     "text": [
      "MoviePy - Done !\n",
      "MoviePy - video ready G:\\My Drive\\Gardening_2025\\MIT\\Module_1\\combined.mp4\n",
      "Combined video saved to: G:\\My Drive\\Gardening_2025\\MIT\\Module_1\\combined.mp4\n",
      "Chapters file saved to: G:\\My Drive\\Gardening_2025\\MIT\\Module_1\\chapters.txt\n",
      "Now run the following ffmpeg command to add chapters:\n",
      "ffmpeg -i \"G:\\My Drive\\Gardening_2025\\MIT\\Module_1\\combined.mp4\" -i \"G:\\My Drive\\Gardening_2025\\MIT\\Module_1\\chapters.txt\" -map_metadata 1 -codec copy \"G:\\My Drive\\Gardening_2025\\MIT\\Module_1\\combined_with_chapters.mp4\"\n"
     ]
    },
    {
     "ename": "",
     "evalue": "",
     "output_type": "error",
     "traceback": [
      "\u001b[1;31mThe Kernel crashed while executing code in the current cell or a previous cell. \n",
      "\u001b[1;31mPlease review the code in the cell(s) to identify a possible cause of the failure. \n",
      "\u001b[1;31mClick <a href='https://aka.ms/vscodeJupyterKernelCrash'>here</a> for more info. \n",
      "\u001b[1;31mView Jupyter <a href='command:jupyter.viewOutput'>log</a> for further details."
     ]
    }
   ],
   "source": [
    "combine_mp4s_with_chapters(r\"G:\\My Drive\\Gardening_2025\\MIT\\Module_1\")"
   ]
  }
 ],
 "metadata": {
  "kernelspec": {
   "display_name": ".venv",
   "language": "python",
   "name": "python3"
  },
  "language_info": {
   "codemirror_mode": {
    "name": "ipython",
    "version": 3
   },
   "file_extension": ".py",
   "mimetype": "text/x-python",
   "name": "python",
   "nbconvert_exporter": "python",
   "pygments_lexer": "ipython3",
   "version": "3.13.4"
  }
 },
 "nbformat": 4,
 "nbformat_minor": 5
}
