{
 "cells": [
  {
   "cell_type": "code",
   "execution_count": 1,
   "id": "7f39799c",
   "metadata": {},
   "outputs": [
    {
     "name": "stdout",
     "output_type": "stream",
     "text": [
      "Saved: Z:\\OneDrive\\Gardening_2025\\Managing_LSE\\Module_4\\Module 4 - Leading teams Part 1.pdf (pages 1-2915)\n",
      "Saved: Z:\\OneDrive\\Gardening_2025\\Managing_LSE\\Module_4\\Module 4 - Leading teams Part 2.pdf (pages 2916-5824)\n"
     ]
    }
   ],
   "source": [
    "import os\n",
    "from PyPDF2 import PdfReader, PdfWriter\n",
    "\n",
    "def split_pdf_at_page(input_path, split_at, output_path1, output_path2):\n",
    "    reader = PdfReader(input_path)\n",
    "    writer1 = PdfWriter()\n",
    "    writer2 = PdfWriter()\n",
    "\n",
    "    # First part: pages 0 to split_at-1\n",
    "    for i in range(split_at):\n",
    "        writer1.add_page(reader.pages[i])\n",
    "    with open(output_path1, \"wb\") as f1:\n",
    "        writer1.write(f1)\n",
    "\n",
    "    # Second part: pages split_at to end\n",
    "    for i in range(split_at, len(reader.pages)):\n",
    "        writer2.add_page(reader.pages[i])\n",
    "    with open(output_path2, \"wb\") as f2:\n",
    "        writer2.write(f2)\n",
    "\n",
    "    print(f\"Saved: {output_path1} (pages 1-{split_at})\")\n",
    "    print(f\"Saved: {output_path2} (pages {split_at+1}-{len(reader.pages)})\")\n",
    "\n",
    "# Example usage:\n",
    "split_pdf_at_page(\n",
    "    r\"Z:\\OneDrive\\Gardening_2025\\Managing_LSE\\Module_4\\Module 4 - Leading teams.pdf\",\n",
    "    split_at=2915,  # split after page 5\n",
    "    output_path1=r\"Z:\\OneDrive\\Gardening_2025\\Managing_LSE\\Module_4\\Module 4 - Leading teams Part 1.pdf\",\n",
    "    output_path2=r\"Z:\\OneDrive\\Gardening_2025\\Managing_LSE\\Module_4\\Module 4 - Leading teams Part 2.pdf\"\n",
    ")"
   ]
  }
 ],
 "metadata": {
  "kernelspec": {
   "display_name": "git_env (3.13.4)",
   "language": "python",
   "name": "python3"
  },
  "language_info": {
   "codemirror_mode": {
    "name": "ipython",
    "version": 3
   },
   "file_extension": ".py",
   "mimetype": "text/x-python",
   "name": "python",
   "nbconvert_exporter": "python",
   "pygments_lexer": "ipython3",
   "version": "3.13.4"
  }
 },
 "nbformat": 4,
 "nbformat_minor": 5
}
