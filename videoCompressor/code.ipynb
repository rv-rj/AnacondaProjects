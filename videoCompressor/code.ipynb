{
 "cells": [
  {
   "cell_type": "code",
   "execution_count": 1,
   "id": "5a3408f9",
   "metadata": {},
   "outputs": [],
   "source": [
    "import subprocess\n",
    "import os\n",
    "\n",
    "def compress_mp4_to_target_size(input_path, output_path, target_mb=200, initial_crf=28, max_crf=40):\n",
    "    crf = initial_crf\n",
    "    while crf <= max_crf:\n",
    "        cmd = [\n",
    "            \"ffmpeg\", \"-i\", input_path,\n",
    "            \"-vcodec\", \"libx264\", \"-crf\", str(crf),\n",
    "            \"-preset\", \"medium\",\n",
    "            \"-c:a\", \"aac\", \"-b:a\", \"128k\",\n",
    "            \"-strict\", \"-2\",  # <-- Add this line\n",
    "            \"-y\",\n",
    "            output_path\n",
    "        ]\n",
    "        print(f\"Trying CRF={crf}...\")\n",
    "        result = subprocess.run(cmd, capture_output=True, text=True)\n",
    "        if result.returncode != 0:\n",
    "            print(\"ffmpeg failed with error:\")\n",
    "            print(result.stderr)\n",
    "            return\n",
    "        final_size = os.path.getsize(output_path) / (1024 * 1024)\n",
    "        print(f\"Compressed file size: {final_size:.2f} MB\")\n",
    "        if final_size <= target_mb:\n",
    "            print(f\"Success: Output is under {target_mb} MB.\")\n",
    "            return\n",
    "        crf += 2\n",
    "    print(f\"Could not compress below {target_mb} MB. Final size: {final_size:.2f} MB\")\n"
   ]
  },
  {
   "cell_type": "code",
   "execution_count": null,
   "id": "7accf271",
   "metadata": {},
   "outputs": [
    {
     "name": "stdout",
     "output_type": "stream",
     "text": [
      "Note: you may need to restart the kernel to use updated packages.\n",
      "Trying CRF=28...\n"
     ]
    }
   ],
   "source": [
    "# Ensure opencv-python is installed\n",
    "%pip install opencv-python --quiet\n",
    "\n",
    "# Example usage:\n",
    "# compress_mp4_to_target_size(\"input.mp4\", \"output_compressed.mp4\", target_mb=200)\n",
    "compress_mp4_to_target_size(\n",
    "    r\"g:\\My Drive\\Gardening_2025\\MIT\\Office Hours\\GMT20250617-230309_Recording_1760x900.mp4\",\n",
    "    r\"G:\\My Drive\\Gardening_2025\\MIT\\Office Hours\\OfficeHour_17Jun.mp4\",\n",
    "    target_mb=199\n",
    ")"
   ]
  },
  {
   "cell_type": "markdown",
   "id": "2cbfe1ae",
   "metadata": {},
   "source": []
  }
 ],
 "metadata": {
  "kernelspec": {
   "display_name": ".venv",
   "language": "python",
   "name": "python3"
  },
  "language_info": {
   "codemirror_mode": {
    "name": "ipython",
    "version": 3
   },
   "file_extension": ".py",
   "mimetype": "text/x-python",
   "name": "python",
   "nbconvert_exporter": "python",
   "pygments_lexer": "ipython3",
   "version": "3.13.4"
  }
 },
 "nbformat": 4,
 "nbformat_minor": 5
}
