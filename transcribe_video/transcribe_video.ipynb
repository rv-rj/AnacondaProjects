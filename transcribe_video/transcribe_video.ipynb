{
 "cells": [
  {
   "cell_type": "code",
   "execution_count": null,
   "id": "6120f3be",
   "metadata": {},
   "outputs": [
    {
     "name": "stdout",
     "output_type": "stream",
     "text": [
      "Processing: G:\\My Drive\\Gardening_2025\\GenAI_MIT\\LinkedIn\\LinkedIn_QnA_04Jul.mp4\n"
     ]
    },
    {
     "name": "stderr",
     "output_type": "stream",
     "text": [
      "100%|███████████████████████████████████████| 139M/139M [00:03<00:00, 43.9MiB/s]\n",
      "z:\\My Documents\\AnacondaProjects\\.venv\\Lib\\site-packages\\whisper\\transcribe.py:132: UserWarning: FP16 is not supported on CPU; using FP32 instead\n",
      "  warnings.warn(\"FP16 is not supported on CPU; using FP32 instead\")\n",
      "                                                                               \r"
     ]
    },
    {
     "name": "stdout",
     "output_type": "stream",
     "text": [
      "Processing: G:\\My Drive\\Gardening_2025\\GenAI_MIT\\LinkedIn\\LinkedIn_QnA_11Jul.mp4\n"
     ]
    },
    {
     "name": "stderr",
     "output_type": "stream",
     "text": [
      "                                                                               \r"
     ]
    },
    {
     "name": "stdout",
     "output_type": "stream",
     "text": [
      "Processing: G:\\My Drive\\Gardening_2025\\GenAI_MIT\\LinkedIn\\LinkedIn_QnA_13Jun.mp4\n"
     ]
    },
    {
     "name": "stderr",
     "output_type": "stream",
     "text": [
      "                                                                               \r"
     ]
    },
    {
     "name": "stdout",
     "output_type": "stream",
     "text": [
      "Processing: G:\\My Drive\\Gardening_2025\\GenAI_MIT\\LinkedIn\\LinkedIn_QnA_18Jul.mp4\n"
     ]
    },
    {
     "name": "stderr",
     "output_type": "stream",
     "text": [
      "                                                                               \r"
     ]
    },
    {
     "name": "stdout",
     "output_type": "stream",
     "text": [
      "Processing: G:\\My Drive\\Gardening_2025\\GenAI_MIT\\LinkedIn\\LinkedIn_QnA_20Jun.mp4\n"
     ]
    },
    {
     "name": "stderr",
     "output_type": "stream",
     "text": [
      "                                                                               \r"
     ]
    },
    {
     "name": "stdout",
     "output_type": "stream",
     "text": [
      "Processing: G:\\My Drive\\Gardening_2025\\GenAI_MIT\\LinkedIn\\LinkedIn_QnA_27Jun.mp4\n"
     ]
    },
    {
     "name": "stderr",
     "output_type": "stream",
     "text": [
      "                                                                               \r"
     ]
    },
    {
     "name": "stdout",
     "output_type": "stream",
     "text": [
      "Processing: G:\\My Drive\\Gardening_2025\\GenAI_MIT\\LinkedIn\\LinkedIn_QnA_30May.mp4\n"
     ]
    },
    {
     "name": "stderr",
     "output_type": "stream",
     "text": [
      "                                                                               \r"
     ]
    }
   ],
   "source": [
    "import os\n",
    "from fpdf import FPDF\n",
    "import whisper\n",
    "from tqdm import tqdm\n",
    "\n",
    "def transcribe_video(video_path):\n",
    "    model = whisper.load_model(\"base\")  # Use the base model\n",
    "    result = model.transcribe(video_path)\n",
    "    return result[\"text\"]\n",
    "\n",
    "def videos_to_pdf(folder_path, output_pdf):\n",
    "    pdf = FPDF()\n",
    "    pdf.set_auto_page_break(auto=True, margin=15)\n",
    "    pdf.set_font(\"Arial\", size=12)\n",
    "    \n",
    "    for filename in sorted(os.listdir(folder_path)):\n",
    "        if filename.lower().endswith('.mp4'):\n",
    "            video_path = os.path.join(folder_path, filename)\n",
    "            print(f\"Processing: {video_path}\")\n",
    "            pdf.add_page()\n",
    "            pdf.set_font(\"Arial\", 'B', 16)\n",
    "            pdf.cell(0, 10, filename, ln=True)\n",
    "            pdf.set_font(\"Arial\", size=12)\n",
    "            transcription = transcribe_video(video_path)\n",
    "            lines = transcription.split('\\n')\n",
    "            for line in tqdm(lines, desc=f\"Writing lines for {filename}\", leave=False):\n",
    "                pdf.multi_cell(0, 10, line)\n",
    "    \n",
    "    pdf.output(output_pdf)\n",
    "\n",
    "# Example usage:\n",
    "videos_to_pdf(\n",
    "    r'G:\\My Drive\\Gardening_2025\\GenAI_MIT\\LinkedIn',\n",
    "    r'G:\\My Drive\\Gardening_2025\\GenAI_MIT\\LinkedIn\\output.pdf'\n",
    ")"
   ]
  }
 ],
 "metadata": {
  "kernelspec": {
   "display_name": ".venv (3.13.4)",
   "language": "python",
   "name": "python3"
  },
  "language_info": {
   "codemirror_mode": {
    "name": "ipython",
    "version": 3
   },
   "file_extension": ".py",
   "mimetype": "text/x-python",
   "name": "python",
   "nbconvert_exporter": "python",
   "pygments_lexer": "ipython3",
   "version": "3.13.4"
  }
 },
 "nbformat": 4,
 "nbformat_minor": 5
}
