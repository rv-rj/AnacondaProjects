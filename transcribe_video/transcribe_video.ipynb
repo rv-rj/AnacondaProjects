{
 "cells": [
  {
   "cell_type": "code",
   "execution_count": 4,
   "id": "6120f3be",
   "metadata": {},
   "outputs": [
    {
     "ename": "TypeError",
     "evalue": "argument of type 'NoneType' is not iterable",
     "output_type": "error",
     "traceback": [
      "\u001b[31m---------------------------------------------------------------------------\u001b[39m",
      "\u001b[31mTypeError\u001b[39m                                 Traceback (most recent call last)",
      "\u001b[36mCell\u001b[39m\u001b[36m \u001b[39m\u001b[32mIn[4]\u001b[39m\u001b[32m, line 3\u001b[39m\n\u001b[32m      1\u001b[39m \u001b[38;5;28;01mimport\u001b[39;00m\u001b[38;5;250m \u001b[39m\u001b[34;01mos\u001b[39;00m\n\u001b[32m      2\u001b[39m \u001b[38;5;28;01mfrom\u001b[39;00m\u001b[38;5;250m \u001b[39m\u001b[34;01mfpdf\u001b[39;00m\u001b[38;5;250m \u001b[39m\u001b[38;5;28;01mimport\u001b[39;00m FPDF\n\u001b[32m----> \u001b[39m\u001b[32m3\u001b[39m \u001b[38;5;28;01mimport\u001b[39;00m\u001b[38;5;250m \u001b[39m\u001b[34;01mwhisper\u001b[39;00m\n\u001b[32m      4\u001b[39m \u001b[38;5;28;01mfrom\u001b[39;00m\u001b[38;5;250m \u001b[39m\u001b[34;01mtqdm\u001b[39;00m\u001b[38;5;250m \u001b[39m\u001b[38;5;28;01mimport\u001b[39;00m tqdm\n\u001b[32m      6\u001b[39m \u001b[38;5;66;03m# Load the Whisper model once for all videos (much faster)\u001b[39;00m\n",
      "\u001b[36mFile \u001b[39m\u001b[32mz:\\OneDrive\\Documents\\git_env\\Lib\\site-packages\\whisper.py:69\u001b[39m\n\u001b[32m     67\u001b[39m \u001b[38;5;28;01mif\u001b[39;00m CAN_FALLOCATE:\n\u001b[32m     68\u001b[39m   libc_name = ctypes.util.find_library(\u001b[33m'\u001b[39m\u001b[33mc\u001b[39m\u001b[33m'\u001b[39m)\n\u001b[32m---> \u001b[39m\u001b[32m69\u001b[39m   libc = \u001b[43mctypes\u001b[49m\u001b[43m.\u001b[49m\u001b[43mCDLL\u001b[49m\u001b[43m(\u001b[49m\u001b[43mlibc_name\u001b[49m\u001b[43m)\u001b[49m\n\u001b[32m     70\u001b[39m   c_off64_t = ctypes.c_int64\n\u001b[32m     71\u001b[39m   c_off_t = ctypes.c_int\n",
      "\u001b[36mFile \u001b[39m\u001b[32m~\\AppData\\Local\\Programs\\Python\\Python313\\Lib\\ctypes\\__init__.py:380\u001b[39m, in \u001b[36mCDLL.__init__\u001b[39m\u001b[34m(self, name, mode, handle, use_errno, use_last_error, winmode)\u001b[39m\n\u001b[32m    378\u001b[39m \u001b[38;5;28;01mimport\u001b[39;00m\u001b[38;5;250m \u001b[39m\u001b[34;01mnt\u001b[39;00m\n\u001b[32m    379\u001b[39m mode = nt._LOAD_LIBRARY_SEARCH_DEFAULT_DIRS\n\u001b[32m--> \u001b[39m\u001b[32m380\u001b[39m \u001b[38;5;28;01mif\u001b[39;00m \u001b[33;43m'\u001b[39;49m\u001b[33;43m/\u001b[39;49m\u001b[33;43m'\u001b[39;49m\u001b[43m \u001b[49m\u001b[38;5;129;43;01min\u001b[39;49;00m\u001b[43m \u001b[49m\u001b[43mname\u001b[49m \u001b[38;5;129;01mor\u001b[39;00m \u001b[33m'\u001b[39m\u001b[38;5;130;01m\\\\\u001b[39;00m\u001b[33m'\u001b[39m \u001b[38;5;129;01min\u001b[39;00m name:\n\u001b[32m    381\u001b[39m     \u001b[38;5;28mself\u001b[39m._name = nt._getfullpathname(\u001b[38;5;28mself\u001b[39m._name)\n\u001b[32m    382\u001b[39m     mode |= nt._LOAD_LIBRARY_SEARCH_DLL_LOAD_DIR\n",
      "\u001b[31mTypeError\u001b[39m: argument of type 'NoneType' is not iterable"
     ]
    }
   ],
   "source": [
    "import os\n",
    "from fpdf import FPDF\n",
    "import whisper\n",
    "from tqdm import tqdm\n",
    "\n",
    "# Load the Whisper model once for all videos (much faster)\n",
    "model = whisper.load_model(\"base\")  # Use the base model\n",
    "\n",
    "def transcribe_video(video_path):\n",
    "    result = model.transcribe(video_path)\n",
    "    return result[\"text\"]\n",
    "\n",
    "def videos_to_pdf(folder_path, output_pdf):\n",
    "    pdf = FPDF()\n",
    "    pdf.set_auto_page_break(auto=True, margin=15)\n",
    "    pdf.set_font(\"Arial\", size=12)\n",
    "    \n",
    "    for filename in sorted(os.listdir(folder_path)):\n",
    "        if filename.lower().endswith('.mp4'):\n",
    "            video_path = os.path.join(folder_path, filename)\n",
    "            print(f\"Processing: {video_path}\")\n",
    "            pdf.add_page()\n",
    "            pdf.set_font(\"Arial\", 'B', 16)\n",
    "            pdf.cell(0, 10, filename, ln=True)\n",
    "            pdf.set_font(\"Arial\", size=12)\n",
    "            transcription = transcribe_video(video_path)\n",
    "            lines = transcription.split('\\n')\n",
    "            for line in tqdm(lines, desc=f\"Writing lines for {filename}\", leave=False):\n",
    "                pdf.multi_cell(0, 10, line)\n",
    "    \n",
    "    pdf.output(output_pdf)\n",
    "\n",
    "# Example usage:\n",
    "videos_to_pdf(\n",
    "    r'Z:\\OneDrive\\Gardening_2025\\GenAI_MIT\\Office Hours',\n",
    "    r'Z:\\OneDrive\\Gardening_2025\\GenAI_MIT\\Office Hours\\Office_Hour_Transcripts.pdf'\n",
    ")"
   ]
  }
 ],
 "metadata": {
  "kernelspec": {
   "display_name": "git_env (3.13.4)",
   "language": "python",
   "name": "python3"
  },
  "language_info": {
   "codemirror_mode": {
    "name": "ipython",
    "version": 3
   },
   "file_extension": ".py",
   "mimetype": "text/x-python",
   "name": "python",
   "nbconvert_exporter": "python",
   "pygments_lexer": "ipython3",
   "version": "3.13.4"
  }
 },
 "nbformat": 4,
 "nbformat_minor": 5
}
