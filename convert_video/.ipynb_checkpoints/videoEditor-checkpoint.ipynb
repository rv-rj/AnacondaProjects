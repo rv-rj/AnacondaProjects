{
 "cells": [
  {
   "cell_type": "code",
   "execution_count": 32,
   "metadata": {},
   "outputs": [],
   "source": [
    "import subprocess\n",
    "import sys\n",
    "def convert_video(video_input, video_output):\n",
    "    cmds = ['ffmpeg', '-i', video_input, '-c copy',video_output]\n",
    "    theproc = subprocess.Popen([sys.executable, cmds])\n",
    "    theproc.communicate()"
   ]
  },
  {
   "cell_type": "code",
   "execution_count": 23,
   "metadata": {
    "scrolled": true
   },
   "outputs": [
    {
     "name": "stdout",
     "output_type": "stream",
     "text": [
      "\"Y:\\Torrent\\complete\\Series\\4blocks\\Season 1\\4 Blocks - S01E01 - Brüder.mkv\"\n",
      "\"Y:\\Torrent\\complete\\Series\\4blocks\\Season 1\\4 Blocks - S01E01 - Brüder.mp4\"\n",
      "\"Y:\\Torrent\\complete\\Series\\4blocks\\Season 1\\4 Blocks - S01E02 - Die falsche Neun.mkv\"\n",
      "\"Y:\\Torrent\\complete\\Series\\4blocks\\Season 1\\4 Blocks - S01E02 - Die falsche Neun.mp4\"\n",
      "\"Y:\\Torrent\\complete\\Series\\4blocks\\Season 1\\4 Blocks - S01E03 - Ibrahim.mkv\"\n",
      "\"Y:\\Torrent\\complete\\Series\\4blocks\\Season 1\\4 Blocks - S01E03 - Ibrahim.mp4\"\n",
      "\"Y:\\Torrent\\complete\\Series\\4blocks\\Season 1\\4 Blocks - S01E04 - Verrat.mkv\"\n",
      "\"Y:\\Torrent\\complete\\Series\\4blocks\\Season 1\\4 Blocks - S01E04 - Verrat.mp4\"\n",
      "\"Y:\\Torrent\\complete\\Series\\4blocks\\Season 1\\4 Blocks - S01E05 - Machtlos.mkv\"\n",
      "\"Y:\\Torrent\\complete\\Series\\4blocks\\Season 1\\4 Blocks - S01E05 - Machtlos.mp4\"\n",
      "\"Y:\\Torrent\\complete\\Series\\4blocks\\Season 1\\4 Blocks - S01E06 - Dead Man Walking.mkv\"\n",
      "\"Y:\\Torrent\\complete\\Series\\4blocks\\Season 1\\4 Blocks - S01E06 - Dead Man Walking.mp4\"\n",
      "\"Y:\\Torrent\\complete\\Series\\4blocks\\Season 2\\4 Blocks - S02E01 - Feuer.mkv\"\n",
      "\"Y:\\Torrent\\complete\\Series\\4blocks\\Season 2\\4 Blocks - S02E01 - Feuer.mp4\"\n",
      "\"Y:\\Torrent\\complete\\Series\\4blocks\\Season 2\\4 Blocks - S02E02 - Schafe und Löwen.mkv\"\n",
      "\"Y:\\Torrent\\complete\\Series\\4blocks\\Season 2\\4 Blocks - S02E02 - Schafe und Löwen.mp4\"\n",
      "\"Y:\\Torrent\\complete\\Series\\4blocks\\Season 2\\4 Blocks - S02E03 - Blut.mkv\"\n",
      "\"Y:\\Torrent\\complete\\Series\\4blocks\\Season 2\\4 Blocks - S02E03 - Blut.mp4\"\n",
      "\"Y:\\Torrent\\complete\\Series\\4blocks\\Season 2\\4 Blocks - S02E04 - Frei.mkv\"\n",
      "\"Y:\\Torrent\\complete\\Series\\4blocks\\Season 2\\4 Blocks - S02E04 - Frei.mp4\"\n",
      "\"Y:\\Torrent\\complete\\Series\\4blocks\\Season 2\\4 Blocks - S02E05 - Frieden.mkv\"\n",
      "\"Y:\\Torrent\\complete\\Series\\4blocks\\Season 2\\4 Blocks - S02E05 - Frieden.mp4\"\n",
      "\"Y:\\Torrent\\complete\\Series\\4blocks\\Season 2\\4 Blocks - S02E06 - Wiedergutmachung.mkv\"\n",
      "\"Y:\\Torrent\\complete\\Series\\4blocks\\Season 2\\4 Blocks - S02E06 - Wiedergutmachung.mp4\"\n",
      "\"Y:\\Torrent\\complete\\Series\\4blocks\\Season 2\\4 Blocks - S02E07 - Gewinnen und Verlieren.mkv\"\n",
      "\"Y:\\Torrent\\complete\\Series\\4blocks\\Season 2\\4 Blocks - S02E07 - Gewinnen und Verlieren.mp4\"\n",
      "\"Y:\\Torrent\\complete\\Series\\4blocks\\Season 3\\4 Blocks - S03E01 - Ali.mkv\"\n",
      "\"Y:\\Torrent\\complete\\Series\\4blocks\\Season 3\\4 Blocks - S03E01 - Ali.mp4\"\n",
      "\"Y:\\Torrent\\complete\\Series\\4blocks\\Season 3\\4 Blocks - S03E02 - Der Weg des Geldes.mkv\"\n",
      "\"Y:\\Torrent\\complete\\Series\\4blocks\\Season 3\\4 Blocks - S03E02 - Der Weg des Geldes.mp4\"\n",
      "\"Y:\\Torrent\\complete\\Series\\4blocks\\Season 3\\4 Blocks - S03E03 - Vertrauter Feind.mkv\"\n",
      "\"Y:\\Torrent\\complete\\Series\\4blocks\\Season 3\\4 Blocks - S03E03 - Vertrauter Feind.mp4\"\n",
      "\"Y:\\Torrent\\complete\\Series\\4blocks\\Season 3\\4 Blocks - S03E04 - Diamanten.mkv\"\n",
      "\"Y:\\Torrent\\complete\\Series\\4blocks\\Season 3\\4 Blocks - S03E04 - Diamanten.mp4\"\n",
      "\"Y:\\Torrent\\complete\\Series\\4blocks\\Season 3\\4 Blocks - S03E05 - Der Pakt mit dem Teufel.mkv\"\n",
      "\"Y:\\Torrent\\complete\\Series\\4blocks\\Season 3\\4 Blocks - S03E05 - Der Pakt mit dem Teufel.mp4\"\n",
      "\"Y:\\Torrent\\complete\\Series\\4blocks\\Season 3\\4 Blocks - S03E06 - Brüder für immer.mkv\"\n",
      "\"Y:\\Torrent\\complete\\Series\\4blocks\\Season 3\\4 Blocks - S03E06 - Brüder für immer.mp4\"\n"
     ]
    }
   ],
   "source": [
    "import os\n",
    "path = r'Y:\\Torrent\\complete\\Series\\4blocks'\n",
    "for root, dirs, files in os.walk(path):\n",
    "    for file in files:\n",
    "        if file.endswith(\".mkv\"):\n",
    "            origFile = '\"{}\"'.format(os.path.join(root, file))\n",
    "            convertedFile = '\"{}\"'.format(os.path.join(root, file.replace('mkv','mp4')))\n",
    "            print(origFile)\n",
    "            print(convertedFile)"
   ]
  },
  {
   "cell_type": "code",
   "execution_count": 24,
   "metadata": {},
   "outputs": [
    {
     "data": {
      "text/plain": [
       "'\"Y:\\\\Torrent\\\\complete\\\\Series\\\\4blocks\\\\Season 3\\\\4 Blocks - S03E06 - Brüder für immer.mkv\"'"
      ]
     },
     "execution_count": 24,
     "metadata": {},
     "output_type": "execute_result"
    }
   ],
   "source": [
    "origFile\n"
   ]
  },
  {
   "cell_type": "code",
   "execution_count": 33,
   "metadata": {},
   "outputs": [],
   "source": [
    "convert_video(origFile, convertedFile)"
   ]
  }
 ],
 "metadata": {
  "kernelspec": {
   "display_name": "Python 3",
   "language": "python",
   "name": "python3"
  },
  "language_info": {
   "codemirror_mode": {
    "name": "ipython",
    "version": 3
   },
   "file_extension": ".py",
   "mimetype": "text/x-python",
   "name": "python",
   "nbconvert_exporter": "python",
   "pygments_lexer": "ipython3",
   "version": "3.6.5"
  }
 },
 "nbformat": 4,
 "nbformat_minor": 2
}
