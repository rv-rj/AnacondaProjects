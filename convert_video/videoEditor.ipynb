{
 "cells": [
  {
   "cell_type": "code",
   "execution_count": 43,
   "metadata": {},
   "outputs": [],
   "source": [
    "import os\n",
    "def convert_video(video_input, video_output):\n",
    "    cmds = \"ffmpeg -i \" + video_input + \" -codec copy \" + video_output\n",
    "    os.system(cmds)"
   ]
  },
  {
   "cell_type": "code",
   "execution_count": 44,
   "metadata": {
    "scrolled": true
   },
   "outputs": [
    {
     "name": "stdout",
     "output_type": "stream",
     "text": [
      "\"Y:\\Torrent\\complete\\Series\\4blocks\\Season 1\\4 Blocks - S01E01 - Brüder.mkv\"\n",
      "\"Y:\\Torrent\\complete\\Series\\4blocks\\Season 1\\4 Blocks - S01E01 - Brüder.mp4\"\n",
      "\"Y:\\Torrent\\complete\\Series\\4blocks\\Season 1\\4 Blocks - S01E02 - Die falsche Neun.mkv\"\n",
      "\"Y:\\Torrent\\complete\\Series\\4blocks\\Season 1\\4 Blocks - S01E02 - Die falsche Neun.mp4\"\n",
      "\"Y:\\Torrent\\complete\\Series\\4blocks\\Season 1\\4 Blocks - S01E03 - Ibrahim.mkv\"\n",
      "\"Y:\\Torrent\\complete\\Series\\4blocks\\Season 1\\4 Blocks - S01E03 - Ibrahim.mp4\"\n",
      "\"Y:\\Torrent\\complete\\Series\\4blocks\\Season 1\\4 Blocks - S01E04 - Verrat.mkv\"\n",
      "\"Y:\\Torrent\\complete\\Series\\4blocks\\Season 1\\4 Blocks - S01E04 - Verrat.mp4\"\n",
      "\"Y:\\Torrent\\complete\\Series\\4blocks\\Season 1\\4 Blocks - S01E05 - Machtlos.mkv\"\n",
      "\"Y:\\Torrent\\complete\\Series\\4blocks\\Season 1\\4 Blocks - S01E05 - Machtlos.mp4\"\n",
      "\"Y:\\Torrent\\complete\\Series\\4blocks\\Season 1\\4 Blocks - S01E06 - Dead Man Walking.mkv\"\n",
      "\"Y:\\Torrent\\complete\\Series\\4blocks\\Season 1\\4 Blocks - S01E06 - Dead Man Walking.mp4\"\n",
      "\"Y:\\Torrent\\complete\\Series\\4blocks\\Season 2\\4 Blocks - S02E01 - Feuer.mkv\"\n",
      "\"Y:\\Torrent\\complete\\Series\\4blocks\\Season 2\\4 Blocks - S02E01 - Feuer.mp4\"\n",
      "\"Y:\\Torrent\\complete\\Series\\4blocks\\Season 2\\4 Blocks - S02E02 - Schafe und Löwen.mkv\"\n",
      "\"Y:\\Torrent\\complete\\Series\\4blocks\\Season 2\\4 Blocks - S02E02 - Schafe und Löwen.mp4\"\n",
      "\"Y:\\Torrent\\complete\\Series\\4blocks\\Season 2\\4 Blocks - S02E03 - Blut.mkv\"\n",
      "\"Y:\\Torrent\\complete\\Series\\4blocks\\Season 2\\4 Blocks - S02E03 - Blut.mp4\"\n",
      "\"Y:\\Torrent\\complete\\Series\\4blocks\\Season 2\\4 Blocks - S02E04 - Frei.mkv\"\n",
      "\"Y:\\Torrent\\complete\\Series\\4blocks\\Season 2\\4 Blocks - S02E04 - Frei.mp4\"\n",
      "\"Y:\\Torrent\\complete\\Series\\4blocks\\Season 2\\4 Blocks - S02E05 - Frieden.mkv\"\n",
      "\"Y:\\Torrent\\complete\\Series\\4blocks\\Season 2\\4 Blocks - S02E05 - Frieden.mp4\"\n",
      "\"Y:\\Torrent\\complete\\Series\\4blocks\\Season 2\\4 Blocks - S02E06 - Wiedergutmachung.mkv\"\n",
      "\"Y:\\Torrent\\complete\\Series\\4blocks\\Season 2\\4 Blocks - S02E06 - Wiedergutmachung.mp4\"\n",
      "\"Y:\\Torrent\\complete\\Series\\4blocks\\Season 2\\4 Blocks - S02E07 - Gewinnen und Verlieren.mkv\"\n",
      "\"Y:\\Torrent\\complete\\Series\\4blocks\\Season 2\\4 Blocks - S02E07 - Gewinnen und Verlieren.mp4\"\n",
      "\"Y:\\Torrent\\complete\\Series\\4blocks\\Season 3\\4 Blocks - S03E01 - Ali.mkv\"\n",
      "\"Y:\\Torrent\\complete\\Series\\4blocks\\Season 3\\4 Blocks - S03E01 - Ali.mp4\"\n",
      "\"Y:\\Torrent\\complete\\Series\\4blocks\\Season 3\\4 Blocks - S03E02 - Der Weg des Geldes.mkv\"\n",
      "\"Y:\\Torrent\\complete\\Series\\4blocks\\Season 3\\4 Blocks - S03E02 - Der Weg des Geldes.mp4\"\n",
      "\"Y:\\Torrent\\complete\\Series\\4blocks\\Season 3\\4 Blocks - S03E03 - Vertrauter Feind.mkv\"\n",
      "\"Y:\\Torrent\\complete\\Series\\4blocks\\Season 3\\4 Blocks - S03E03 - Vertrauter Feind.mp4\"\n",
      "\"Y:\\Torrent\\complete\\Series\\4blocks\\Season 3\\4 Blocks - S03E04 - Diamanten.mkv\"\n",
      "\"Y:\\Torrent\\complete\\Series\\4blocks\\Season 3\\4 Blocks - S03E04 - Diamanten.mp4\"\n",
      "\"Y:\\Torrent\\complete\\Series\\4blocks\\Season 3\\4 Blocks - S03E05 - Der Pakt mit dem Teufel.mkv\"\n",
      "\"Y:\\Torrent\\complete\\Series\\4blocks\\Season 3\\4 Blocks - S03E05 - Der Pakt mit dem Teufel.mp4\"\n",
      "\"Y:\\Torrent\\complete\\Series\\4blocks\\Season 3\\4 Blocks - S03E06 - Brüder für immer.mkv\"\n",
      "\"Y:\\Torrent\\complete\\Series\\4blocks\\Season 3\\4 Blocks - S03E06 - Brüder für immer.mp4\"\n"
     ]
    }
   ],
   "source": [
    "import os\n",
    "path = r'Y:\\Torrent\\complete\\Series\\4blocks'\n",
    "for root, dirs, files in os.walk(path):\n",
    "    for file in files:\n",
    "        if file.endswith(\".mkv\"):\n",
    "            origFile = '\"{}\"'.format(os.path.join(root, file))\n",
    "            convertedFile = '\"{}\"'.format(os.path.join(root, file.replace('mkv','mp4')))\n",
    "            print(origFile)\n",
    "            print(convertedFile)\n",
    "            convert_video(origFile, convertedFile)"
   ]
  },
  {
   "cell_type": "code",
   "execution_count": 24,
   "metadata": {},
   "outputs": [
    {
     "data": {
      "text/plain": [
       "'\"Y:\\\\Torrent\\\\complete\\\\Series\\\\4blocks\\\\Season 3\\\\4 Blocks - S03E06 - Brüder für immer.mkv\"'"
      ]
     },
     "execution_count": 24,
     "metadata": {},
     "output_type": "execute_result"
    }
   ],
   "source": []
  },
  {
   "cell_type": "code",
   "execution_count": 42,
   "metadata": {},
   "outputs": [
    {
     "ename": "KeyboardInterrupt",
     "evalue": "",
     "output_type": "error",
     "traceback": [
      "\u001b[1;31m---------------------------------------------------------------------------\u001b[0m",
      "\u001b[1;31mKeyboardInterrupt\u001b[0m                         Traceback (most recent call last)",
      "\u001b[1;32m<ipython-input-42-17cdf10bb4dd>\u001b[0m in \u001b[0;36m<module>\u001b[1;34m\u001b[0m\n\u001b[1;32m----> 1\u001b[1;33m \u001b[0mconvert_video\u001b[0m\u001b[1;33m(\u001b[0m\u001b[0morigFile\u001b[0m\u001b[1;33m,\u001b[0m \u001b[0mconvertedFile\u001b[0m\u001b[1;33m)\u001b[0m\u001b[1;33m\u001b[0m\u001b[0m\n\u001b[0m",
      "\u001b[1;32m<ipython-input-41-fcecc31a0bb4>\u001b[0m in \u001b[0;36mconvert_video\u001b[1;34m(video_input, video_output)\u001b[0m\n\u001b[0;32m      2\u001b[0m \u001b[1;32mdef\u001b[0m \u001b[0mconvert_video\u001b[0m\u001b[1;33m(\u001b[0m\u001b[0mvideo_input\u001b[0m\u001b[1;33m,\u001b[0m \u001b[0mvideo_output\u001b[0m\u001b[1;33m)\u001b[0m\u001b[1;33m:\u001b[0m\u001b[1;33m\u001b[0m\u001b[0m\n\u001b[0;32m      3\u001b[0m     \u001b[0mcmds\u001b[0m \u001b[1;33m=\u001b[0m \u001b[1;34m\"ffmpeg -i \"\u001b[0m \u001b[1;33m+\u001b[0m \u001b[0mvideo_input\u001b[0m \u001b[1;33m+\u001b[0m \u001b[1;34m\" -c copy \"\u001b[0m \u001b[1;33m+\u001b[0m \u001b[0mvideo_output\u001b[0m\u001b[1;33m\u001b[0m\u001b[0m\n\u001b[1;32m----> 4\u001b[1;33m     \u001b[0mos\u001b[0m\u001b[1;33m.\u001b[0m\u001b[0msystem\u001b[0m\u001b[1;33m(\u001b[0m\u001b[0mcmds\u001b[0m\u001b[1;33m)\u001b[0m\u001b[1;33m\u001b[0m\u001b[0m\n\u001b[0m",
      "\u001b[1;31mKeyboardInterrupt\u001b[0m: "
     ]
    }
   ],
   "source": []
  }
 ],
 "metadata": {
  "kernelspec": {
   "display_name": "Python 3",
   "language": "python",
   "name": "python3"
  },
  "language_info": {
   "codemirror_mode": {
    "name": "ipython",
    "version": 3
   },
   "file_extension": ".py",
   "mimetype": "text/x-python",
   "name": "python",
   "nbconvert_exporter": "python",
   "pygments_lexer": "ipython3",
   "version": "3.6.5"
  }
 },
 "nbformat": 4,
 "nbformat_minor": 2
}
