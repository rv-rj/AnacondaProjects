{
 "cells": [
  {
   "cell_type": "code",
   "execution_count": 2,
   "id": "d5873f03",
   "metadata": {},
   "outputs": [],
   "source": [
    "import os\n",
    "import re\n",
    "from moviepy import VideoFileClip, concatenate_videoclips\n",
    "\n",
    "def natural_key(s):\n",
    "    return [int(text) if text.isdigit() else text.lower() for text in re.split(r'(\\d+)', s)]\n",
    "\n",
    "def combine_mp4s_with_chapters(folder_path, output_name=\"combined.mp4\"):\n",
    "    # Get all MP4 files in the folder, sorted alphabetically\n",
    "    mp4_files = [f for f in os.listdir(folder_path) if f.lower().endswith('.mp4')]\n",
    "    mp4_files.sort(key=natural_key)\n",
    "    if not mp4_files:\n",
    "        print(\"No MP4 files found in the folder.\")\n",
    "        return\n",
    "\n",
    "    clips = []\n",
    "    chapter_times = []\n",
    "    current_time = 0\n",
    "    for mp4 in mp4_files:\n",
    "        clip = VideoFileClip(os.path.join(folder_path, mp4))\n",
    "        clips.append(clip)\n",
    "        chapter_times.append((current_time, os.path.splitext(mp4)[0]))\n",
    "        current_time += clip.duration\n",
    "\n",
    "    final_clip = concatenate_videoclips(clips, method=\"compose\")\n",
    "    output_path = os.path.join(folder_path, output_name)\n",
    "    final_clip.write_videofile(output_path, codec=\"libx264\", audio_codec=\"aac\")\n",
    "\n",
    "    # Write chapters file in ffmetadata format\n",
    "    chapters_path = os.path.join(folder_path, \"chapters.txt\")\n",
    "    with open(chapters_path, \"w\", encoding=\"utf-8\") as f:\n",
    "        f.write(\";FFMETADATA1\\n\")\n",
    "        for i, (start, title) in enumerate(chapter_times):\n",
    "            if i + 1 < len(chapter_times):\n",
    "                end = int(chapter_times[i+1][0])\n",
    "            else:\n",
    "                end = int(current_time)\n",
    "            f.write(\"[CHAPTER]\\n\")\n",
    "            f.write(\"TIMEBASE=1/1\\n\")\n",
    "            f.write(f\"START={int(start)}\\n\")\n",
    "            f.write(f\"END={end}\\n\")\n",
    "            f.write(f\"title={title}\\n\")\n",
    "\n",
    "    print(f\"Combined video saved to: {output_path}\")\n",
    "    print(f\"Chapters file saved to: {chapters_path}\")\n",
    "    print(\"Now run the following ffmpeg command to add chapters:\")\n",
    "\n",
    "    print(f'ffmpeg -i \"{output_path}\" -i \"{chapters_path}\" -map_metadata 1 -codec copy \"{output_path[:-4]}_with_chapters.mp4\"')\n",
    "\n",
    "# Example usage:\n",
    "# combine_mp4s_with_chapters(r\"C:\\path\\to\\your\\mp4_folder\")"
   ]
  },
  {
   "cell_type": "code",
   "execution_count": null,
   "id": "b10b70b2",
   "metadata": {},
   "outputs": [
    {
     "name": "stdout",
     "output_type": "stream",
     "text": [
      "MoviePy - Building video Z:\\OneDrive\\Gardening_2025\\Strategy_MIT\\Module_9 - Developing a New Leadership Mindset for Data\\videos\\combined.mp4.\n",
      "MoviePy - Writing audio in combinedTEMP_MPY_wvf_snd.mp4\n"
     ]
    },
    {
     "name": "stderr",
     "output_type": "stream",
     "text": [
      "chunk:  32%|███▏      | 35621/110837 [02:14<15:12, 82.42it/s, now=None] "
     ]
    }
   ],
   "source": [
    "combine_mp4s_with_chapters(r\"Z:\\OneDrive\\Gardening_2025\\Strategy_MIT\\Module_9 - Developing a New Leadership Mindset for Data\\videos\")"
   ]
  }
 ],
 "metadata": {
  "kernelspec": {
   "display_name": "git_env (3.13.4)",
   "language": "python",
   "name": "python3"
  },
  "language_info": {
   "codemirror_mode": {
    "name": "ipython",
    "version": 3
   },
   "file_extension": ".py",
   "mimetype": "text/x-python",
   "name": "python",
   "nbconvert_exporter": "python",
   "pygments_lexer": "ipython3",
   "version": "3.13.4"
  }
 },
 "nbformat": 4,
 "nbformat_minor": 5
}
