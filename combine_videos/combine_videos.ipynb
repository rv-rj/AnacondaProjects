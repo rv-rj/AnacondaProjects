{
 "cells": [
  {
   "cell_type": "code",
   "execution_count": 1,
   "id": "d5873f03",
   "metadata": {},
   "outputs": [],
   "source": [
    "import os\n",
    "import re\n",
    "from moviepy import VideoFileClip, concatenate_videoclips\n",
    "\n",
    "def natural_key(s):\n",
    "    return [int(text) if text.isdigit() else text.lower() for text in re.split(r'(\\d+)', s)]\n",
    "\n",
    "def combine_mp4s_with_chapters(folder_path, output_name=\"combined.mp4\"):\n",
    "    # Get all MP4 files in the folder, sorted alphabetically\n",
    "    mp4_files = [f for f in os.listdir(folder_path) if f.lower().endswith('.mp4')]\n",
    "    mp4_files.sort(key=natural_key)\n",
    "    if not mp4_files:\n",
    "        print(\"No MP4 files found in the folder.\")\n",
    "        return\n",
    "\n",
    "    clips = []\n",
    "    chapter_times = []\n",
    "    current_time = 0\n",
    "    for mp4 in mp4_files:\n",
    "        clip = VideoFileClip(os.path.join(folder_path, mp4))\n",
    "        clips.append(clip)\n",
    "        chapter_times.append((current_time, os.path.splitext(mp4)[0]))\n",
    "        current_time += clip.duration\n",
    "\n",
    "    final_clip = concatenate_videoclips(clips, method=\"compose\")\n",
    "    output_path = os.path.join(folder_path, output_name)\n",
    "    final_clip.write_videofile(output_path, codec=\"libx264\", audio_codec=\"aac\")\n",
    "\n",
    "    # Write chapters file in ffmetadata format\n",
    "    chapters_path = os.path.join(folder_path, \"chapters.txt\")\n",
    "    with open(chapters_path, \"w\", encoding=\"utf-8\") as f:\n",
    "        f.write(\";FFMETADATA1\\n\")\n",
    "        for i, (start, title) in enumerate(chapter_times):\n",
    "            if i + 1 < len(chapter_times):\n",
    "                end = int(chapter_times[i+1][0])\n",
    "            else:\n",
    "                end = int(current_time)\n",
    "            f.write(\"[CHAPTER]\\n\")\n",
    "            f.write(\"TIMEBASE=1/1\\n\")\n",
    "            f.write(f\"START={int(start)}\\n\")\n",
    "            f.write(f\"END={end}\\n\")\n",
    "            f.write(f\"title={title}\\n\")\n",
    "\n",
    "    print(f\"Combined video saved to: {output_path}\")\n",
    "    print(f\"Chapters file saved to: {chapters_path}\")\n",
    "    print(\"Now run the following ffmpeg command to add chapters:\")\n",
    "\n",
    "    print(f'ffmpeg -i \"{output_path}\" -i \"{chapters_path}\" -map_metadata 1 -codec copy \"{output_path[:-4]}_with_chapters.mp4\"')\n",
    "\n",
    "# Example usage:\n",
    "# combine_mp4s_with_chapters(r\"C:\\path\\to\\your\\mp4_folder\")"
   ]
  },
  {
   "cell_type": "code",
   "execution_count": 2,
   "id": "b10b70b2",
   "metadata": {},
   "outputs": [
    {
     "name": "stdout",
     "output_type": "stream",
     "text": [
      "MoviePy - Building video G:\\My Drive\\Gardening_2025\\MIT Strategy\\Module_1\\videos\\combined.mp4.\n",
      "MoviePy - Writing audio in combinedTEMP_MPY_wvf_snd.mp4\n"
     ]
    },
    {
     "name": "stderr",
     "output_type": "stream",
     "text": [
      "                                                                       \r"
     ]
    },
    {
     "name": "stdout",
     "output_type": "stream",
     "text": [
      "MoviePy - Done.\n",
      "MoviePy - Writing video G:\\My Drive\\Gardening_2025\\MIT Strategy\\Module_1\\videos\\combined.mp4\n",
      "\n"
     ]
    },
    {
     "name": "stderr",
     "output_type": "stream",
     "text": [
      "frame_index:  29%|██▉       | 25896/89379 [1:27:39<4:28:36,  3.94it/s, now=None]z:\\My Documents\\AnacondaProjects\\.venv\\Lib\\site-packages\\moviepy\\video\\io\\ffmpeg_reader.py:190: UserWarning: In file G:\\My Drive\\Gardening_2025\\MIT Strategy\\Module_1\\videos\\1.3  Leveraging the Power of AI.mp4, 6220800 bytes wanted but 0 bytes read at frame index 11063 (out of a total 11064 frames), at time 368.77/368.83 sec. Using the last valid frame instead.\n",
      "  warnings.warn(\n",
      "frame_index:  29%|██▉       | 25897/89379 [1:27:40<4:10:27,  4.22it/s, now=None]z:\\My Documents\\AnacondaProjects\\.venv\\Lib\\site-packages\\moviepy\\video\\io\\ffmpeg_reader.py:190: UserWarning: In file G:\\My Drive\\Gardening_2025\\MIT Strategy\\Module_1\\videos\\1.3  Leveraging the Power of AI.mp4, 6220800 bytes wanted but 0 bytes read at frame index 11064 (out of a total 11064 frames), at time 368.80/368.83 sec. Using the last valid frame instead.\n",
      "  warnings.warn(\n",
      "frame_index:  39%|███▉      | 34998/89379 [2:01:45<3:01:47,  4.99it/s, now=None]z:\\My Documents\\AnacondaProjects\\.venv\\Lib\\site-packages\\moviepy\\video\\io\\ffmpeg_reader.py:190: UserWarning: In file G:\\My Drive\\Gardening_2025\\MIT Strategy\\Module_1\\videos\\1.4 Data vs Metadata Part 1.mp4, 6220800 bytes wanted but 0 bytes read at frame index 9100 (out of a total 9101 frames), at time 303.33/303.38 sec. Using the last valid frame instead.\n",
      "  warnings.warn(\n",
      "frame_index:  45%|████▍     | 40162/89379 [2:20:49<2:43:14,  5.03it/s, now=None]z:\\My Documents\\AnacondaProjects\\.venv\\Lib\\site-packages\\moviepy\\video\\io\\ffmpeg_reader.py:190: UserWarning: In file G:\\My Drive\\Gardening_2025\\MIT Strategy\\Module_1\\videos\\1.5 Data vs. Metadata Part 2.mp4, 6220800 bytes wanted but 0 bytes read at frame index 5163 (out of a total 5164 frames), at time 172.10/172.16 sec. Using the last valid frame instead.\n",
      "  warnings.warn(\n",
      "frame_index:  45%|████▍     | 40163/89379 [2:20:49<2:39:32,  5.14it/s, now=None]z:\\My Documents\\AnacondaProjects\\.venv\\Lib\\site-packages\\moviepy\\video\\io\\ffmpeg_reader.py:190: UserWarning: In file G:\\My Drive\\Gardening_2025\\MIT Strategy\\Module_1\\videos\\1.5 Data vs. Metadata Part 2.mp4, 6220800 bytes wanted but 0 bytes read at frame index 5164 (out of a total 5164 frames), at time 172.13/172.16 sec. Using the last valid frame instead.\n",
      "  warnings.warn(\n",
      "frame_index:  54%|█████▎    | 47993/89379 [2:51:40<2:11:24,  5.25it/s, now=None]z:\\My Documents\\AnacondaProjects\\.venv\\Lib\\site-packages\\moviepy\\video\\io\\ffmpeg_reader.py:190: UserWarning: In file G:\\My Drive\\Gardening_2025\\MIT Strategy\\Module_1\\videos\\1.6 Internal Data Part 1.mp4, 6220800 bytes wanted but 0 bytes read at frame index 7829 (out of a total 7830 frames), at time 260.97/261.03 sec. Using the last valid frame instead.\n",
      "  warnings.warn(\n",
      "frame_index:  54%|█████▎    | 47994/89379 [2:51:40<2:09:26,  5.33it/s, now=None]z:\\My Documents\\AnacondaProjects\\.venv\\Lib\\site-packages\\moviepy\\video\\io\\ffmpeg_reader.py:190: UserWarning: In file G:\\My Drive\\Gardening_2025\\MIT Strategy\\Module_1\\videos\\1.6 Internal Data Part 1.mp4, 6220800 bytes wanted but 0 bytes read at frame index 7830 (out of a total 7830 frames), at time 261.00/261.03 sec. Using the last valid frame instead.\n",
      "  warnings.warn(\n",
      "frame_index:  59%|█████▊    | 52296/89379 [3:06:21<2:04:58,  4.95it/s, now=None]z:\\My Documents\\AnacondaProjects\\.venv\\Lib\\site-packages\\moviepy\\video\\io\\ffmpeg_reader.py:190: UserWarning: In file G:\\My Drive\\Gardening_2025\\MIT Strategy\\Module_1\\videos\\1.7 Internal Data Part 2.mp4, 6220800 bytes wanted but 0 bytes read at frame index 4301 (out of a total 4302 frames), at time 143.37/143.42 sec. Using the last valid frame instead.\n",
      "  warnings.warn(\n",
      "frame_index:  59%|█████▊    | 52297/89379 [3:06:21<2:02:38,  5.04it/s, now=None]z:\\My Documents\\AnacondaProjects\\.venv\\Lib\\site-packages\\moviepy\\video\\io\\ffmpeg_reader.py:190: UserWarning: In file G:\\My Drive\\Gardening_2025\\MIT Strategy\\Module_1\\videos\\1.7 Internal Data Part 2.mp4, 6220800 bytes wanted but 0 bytes read at frame index 4302 (out of a total 4302 frames), at time 143.40/143.42 sec. Using the last valid frame instead.\n",
      "  warnings.warn(\n",
      "frame_index:  69%|██████▊   | 61262/89379 [3:44:36<2:58:34,  2.62it/s, now=None]z:\\My Documents\\AnacondaProjects\\.venv\\Lib\\site-packages\\moviepy\\video\\io\\ffmpeg_reader.py:190: UserWarning: In file G:\\My Drive\\Gardening_2025\\MIT Strategy\\Module_1\\videos\\1.8 Internal vs External Data.mp4, 6220800 bytes wanted but 0 bytes read at frame index 8965 (out of a total 8967 frames), at time 298.83/298.90 sec. Using the last valid frame instead.\n",
      "  warnings.warn(\n",
      "frame_index:  69%|██████▊   | 61263/89379 [3:44:37<3:09:13,  2.48it/s, now=None]z:\\My Documents\\AnacondaProjects\\.venv\\Lib\\site-packages\\moviepy\\video\\io\\ffmpeg_reader.py:190: UserWarning: In file G:\\My Drive\\Gardening_2025\\MIT Strategy\\Module_1\\videos\\1.8 Internal vs External Data.mp4, 6220800 bytes wanted but 0 bytes read at frame index 8966 (out of a total 8967 frames), at time 298.87/298.90 sec. Using the last valid frame instead.\n",
      "  warnings.warn(\n",
      "frame_index:  69%|██████▊   | 61264/89379 [3:44:37<3:00:41,  2.59it/s, now=None]z:\\My Documents\\AnacondaProjects\\.venv\\Lib\\site-packages\\moviepy\\video\\io\\ffmpeg_reader.py:190: UserWarning: In file G:\\My Drive\\Gardening_2025\\MIT Strategy\\Module_1\\videos\\1.8 Internal vs External Data.mp4, 6220800 bytes wanted but 0 bytes read at frame index 8967 (out of a total 8967 frames), at time 298.90/298.90 sec. Using the last valid frame instead.\n",
      "  warnings.warn(\n",
      "frame_index:  79%|███████▉  | 70623/89379 [4:23:26<1:00:14,  5.19it/s, now=None]z:\\My Documents\\AnacondaProjects\\.venv\\Lib\\site-packages\\moviepy\\video\\io\\ffmpeg_reader.py:190: UserWarning: In file G:\\My Drive\\Gardening_2025\\MIT Strategy\\Module_1\\videos\\1.9 Data Ownership.mp4, 6220800 bytes wanted but 0 bytes read at frame index 9359 (out of a total 9360 frames), at time 311.97/312.02 sec. Using the last valid frame instead.\n",
      "  warnings.warn(\n",
      "frame_index:  79%|███████▉  | 70624/89379 [4:23:27<59:48,  5.23it/s, now=None]  z:\\My Documents\\AnacondaProjects\\.venv\\Lib\\site-packages\\moviepy\\video\\io\\ffmpeg_reader.py:190: UserWarning: In file G:\\My Drive\\Gardening_2025\\MIT Strategy\\Module_1\\videos\\1.9 Data Ownership.mp4, 6220800 bytes wanted but 0 bytes read at frame index 9360 (out of a total 9360 frames), at time 312.00/312.02 sec. Using the last valid frame instead.\n",
      "  warnings.warn(\n",
      "frame_index:  87%|████████▋ | 77399/89379 [4:47:29<40:24,  4.94it/s, now=None]  z:\\My Documents\\AnacondaProjects\\.venv\\Lib\\site-packages\\moviepy\\video\\io\\ffmpeg_reader.py:190: UserWarning: In file G:\\My Drive\\Gardening_2025\\MIT Strategy\\Module_1\\videos\\1.10  Legal Perspectives on Data Analytics.mp4, 6220800 bytes wanted but 0 bytes read at frame index 6774 (out of a total 6776 frames), at time 225.80/225.88 sec. Using the last valid frame instead.\n",
      "  warnings.warn(\n",
      "frame_index:  87%|████████▋ | 77400/89379 [4:47:29<40:37,  4.91it/s, now=None]z:\\My Documents\\AnacondaProjects\\.venv\\Lib\\site-packages\\moviepy\\video\\io\\ffmpeg_reader.py:190: UserWarning: In file G:\\My Drive\\Gardening_2025\\MIT Strategy\\Module_1\\videos\\1.10  Legal Perspectives on Data Analytics.mp4, 6220800 bytes wanted but 0 bytes read at frame index 6775 (out of a total 6776 frames), at time 225.83/225.88 sec. Using the last valid frame instead.\n",
      "  warnings.warn(\n",
      "frame_index:  87%|████████▋ | 77401/89379 [4:47:30<41:25,  4.82it/s, now=None]z:\\My Documents\\AnacondaProjects\\.venv\\Lib\\site-packages\\moviepy\\video\\io\\ffmpeg_reader.py:190: UserWarning: In file G:\\My Drive\\Gardening_2025\\MIT Strategy\\Module_1\\videos\\1.10  Legal Perspectives on Data Analytics.mp4, 6220800 bytes wanted but 0 bytes read at frame index 6776 (out of a total 6776 frames), at time 225.87/225.88 sec. Using the last valid frame instead.\n",
      "  warnings.warn(\n",
      "frame_index: 100%|█████████▉| 89378/89379 [5:29:53<00:00,  4.98it/s, now=None]z:\\My Documents\\AnacondaProjects\\.venv\\Lib\\site-packages\\moviepy\\video\\io\\ffmpeg_reader.py:190: UserWarning: In file G:\\My Drive\\Gardening_2025\\MIT Strategy\\Module_1\\videos\\1.11 Role of AI and Big Data.mp4, 6220800 bytes wanted but 0 bytes read at frame index 11977 (out of a total 11979 frames), at time 399.23/399.32 sec. Using the last valid frame instead.\n",
      "  warnings.warn(\n",
      "frame_index: 100%|██████████| 89379/89379 [5:29:53<00:00,  4.96it/s, now=None]z:\\My Documents\\AnacondaProjects\\.venv\\Lib\\site-packages\\moviepy\\video\\io\\ffmpeg_reader.py:190: UserWarning: In file G:\\My Drive\\Gardening_2025\\MIT Strategy\\Module_1\\videos\\1.11 Role of AI and Big Data.mp4, 6220800 bytes wanted but 0 bytes read at frame index 11978 (out of a total 11979 frames), at time 399.27/399.32 sec. Using the last valid frame instead.\n",
      "  warnings.warn(\n",
      "                                                                              \r"
     ]
    },
    {
     "name": "stdout",
     "output_type": "stream",
     "text": [
      "MoviePy - Done !\n",
      "MoviePy - video ready G:\\My Drive\\Gardening_2025\\MIT Strategy\\Module_1\\videos\\combined.mp4\n",
      "Combined video saved to: G:\\My Drive\\Gardening_2025\\MIT Strategy\\Module_1\\videos\\combined.mp4\n",
      "Chapters file saved to: G:\\My Drive\\Gardening_2025\\MIT Strategy\\Module_1\\videos\\chapters.txt\n",
      "Now run the following ffmpeg command to add chapters:\n",
      "ffmpeg -i \"G:\\My Drive\\Gardening_2025\\MIT Strategy\\Module_1\\videos\\combined.mp4\" -i \"G:\\My Drive\\Gardening_2025\\MIT Strategy\\Module_1\\videos\\chapters.txt\" -map_metadata 1 -codec copy \"G:\\My Drive\\Gardening_2025\\MIT Strategy\\Module_1\\videos\\combined_with_chapters.mp4\"\n"
     ]
    }
   ],
   "source": [
    "combine_mp4s_with_chapters(r\"G:\\My Drive\\Gardening_2025\\MIT Strategy\\Module_1\\videos\")"
   ]
  }
 ],
 "metadata": {
  "kernelspec": {
   "display_name": ".venv",
   "language": "python",
   "name": "python3"
  },
  "language_info": {
   "codemirror_mode": {
    "name": "ipython",
    "version": 3
   },
   "file_extension": ".py",
   "mimetype": "text/x-python",
   "name": "python",
   "nbconvert_exporter": "python",
   "pygments_lexer": "ipython3",
   "version": "3.13.4"
  }
 },
 "nbformat": 4,
 "nbformat_minor": 5
}
