{
 "cells": [
  {
   "cell_type": "code",
   "execution_count": 1,
   "id": "d5873f03",
   "metadata": {},
   "outputs": [],
   "source": [
    "import os\n",
    "import re\n",
    "from moviepy import VideoFileClip, concatenate_videoclips\n",
    "\n",
    "def natural_key(s):\n",
    "    return [int(text) if text.isdigit() else text.lower() for text in re.split(r'(\\d+)', s)]\n",
    "\n",
    "def combine_mp4s_with_chapters(folder_path, output_name=\"combined.mp4\"):\n",
    "    # Get all MP4 files in the folder, sorted alphabetically\n",
    "    mp4_files = [f for f in os.listdir(folder_path) if f.lower().endswith('.mp4')]\n",
    "    mp4_files.sort(key=natural_key)\n",
    "    if not mp4_files:\n",
    "        print(\"No MP4 files found in the folder.\")\n",
    "        return\n",
    "\n",
    "    clips = []\n",
    "    chapter_times = []\n",
    "    current_time = 0\n",
    "    for mp4 in mp4_files:\n",
    "        clip = VideoFileClip(os.path.join(folder_path, mp4))\n",
    "        clips.append(clip)\n",
    "        chapter_times.append((current_time, os.path.splitext(mp4)[0]))\n",
    "        current_time += clip.duration\n",
    "\n",
    "    final_clip = concatenate_videoclips(clips, method=\"compose\")\n",
    "    output_path = os.path.join(folder_path, output_name)\n",
    "    final_clip.write_videofile(output_path, codec=\"libx264\", audio_codec=\"aac\")\n",
    "\n",
    "    # Write chapters file in ffmetadata format\n",
    "    chapters_path = os.path.join(folder_path, \"chapters.txt\")\n",
    "    with open(chapters_path, \"w\", encoding=\"utf-8\") as f:\n",
    "        f.write(\";FFMETADATA1\\n\")\n",
    "        for i, (start, title) in enumerate(chapter_times):\n",
    "            if i + 1 < len(chapter_times):\n",
    "                end = int(chapter_times[i+1][0])\n",
    "            else:\n",
    "                end = int(current_time)\n",
    "            f.write(\"[CHAPTER]\\n\")\n",
    "            f.write(\"TIMEBASE=1/1\\n\")\n",
    "            f.write(f\"START={int(start)}\\n\")\n",
    "            f.write(f\"END={end}\\n\")\n",
    "            f.write(f\"title={title}\\n\")\n",
    "\n",
    "    print(f\"Combined video saved to: {output_path}\")\n",
    "    print(f\"Chapters file saved to: {chapters_path}\")\n",
    "    print(\"Now run the following ffmpeg command to add chapters:\")\n",
    "\n",
    "    print(f'ffmpeg -i \"{output_path}\" -i \"{chapters_path}\" -map_metadata 1 -codec copy \"{output_path[:-4]}_with_chapters.mp4\"')\n",
    "\n",
    "# Example usage:\n",
    "# combine_mp4s_with_chapters(r\"C:\\path\\to\\your\\mp4_folder\")"
   ]
  },
  {
   "cell_type": "code",
   "execution_count": 2,
   "id": "b10b70b2",
   "metadata": {},
   "outputs": [
    {
     "name": "stdout",
     "output_type": "stream",
     "text": [
      "MoviePy - Building video G:\\My Drive\\Gardening_2025\\MIT Strategy\\Module_2\\videos\\combined.mp4.\n",
      "MoviePy - Writing audio in combinedTEMP_MPY_wvf_snd.mp4\n"
     ]
    },
    {
     "name": "stderr",
     "output_type": "stream",
     "text": [
      "                                                                       \r"
     ]
    },
    {
     "name": "stdout",
     "output_type": "stream",
     "text": [
      "MoviePy - Done.\n",
      "MoviePy - Writing video G:\\My Drive\\Gardening_2025\\MIT Strategy\\Module_2\\videos\\combined.mp4\n",
      "\n"
     ]
    },
    {
     "name": "stderr",
     "output_type": "stream",
     "text": [
      "frame_index:  23%|██▎       | 6307/27930 [24:56<1:09:24,  5.19it/s, now=None]z:\\My Documents\\AnacondaProjects\\.venv\\Lib\\site-packages\\moviepy\\video\\io\\ffmpeg_reader.py:190: UserWarning: In file G:\\My Drive\\Gardening_2025\\MIT Strategy\\Module_2\\videos\\2.1 Developing an AI Strategy.mp4, 6220800 bytes wanted but 0 bytes read at frame index 6306 (out of a total 6308 frames), at time 210.20/210.28 sec. Using the last valid frame instead.\n",
      "  warnings.warn(\n",
      "frame_index:  23%|██▎       | 6308/27930 [24:56<1:08:32,  5.26it/s, now=None]z:\\My Documents\\AnacondaProjects\\.venv\\Lib\\site-packages\\moviepy\\video\\io\\ffmpeg_reader.py:190: UserWarning: In file G:\\My Drive\\Gardening_2025\\MIT Strategy\\Module_2\\videos\\2.1 Developing an AI Strategy.mp4, 6220800 bytes wanted but 0 bytes read at frame index 6307 (out of a total 6308 frames), at time 210.23/210.28 sec. Using the last valid frame instead.\n",
      "  warnings.warn(\n",
      "frame_index:  23%|██▎       | 6309/27930 [24:56<1:07:07,  5.37it/s, now=None]z:\\My Documents\\AnacondaProjects\\.venv\\Lib\\site-packages\\moviepy\\video\\io\\ffmpeg_reader.py:190: UserWarning: In file G:\\My Drive\\Gardening_2025\\MIT Strategy\\Module_2\\videos\\2.1 Developing an AI Strategy.mp4, 6220800 bytes wanted but 0 bytes read at frame index 6308 (out of a total 6308 frames), at time 210.27/210.28 sec. Using the last valid frame instead.\n",
      "  warnings.warn(\n",
      "frame_index:  53%|█████▎    | 14867/27930 [1:09:38<1:03:22,  3.44it/s, now=None]z:\\My Documents\\AnacondaProjects\\.venv\\Lib\\site-packages\\moviepy\\video\\io\\ffmpeg_reader.py:190: UserWarning: In file G:\\My Drive\\Gardening_2025\\MIT Strategy\\Module_2\\videos\\2.2 Driving Successful Transformation.mp4, 6220800 bytes wanted but 0 bytes read at frame index 8557 (out of a total 8559 frames), at time 285.23/285.31 sec. Using the last valid frame instead.\n",
      "  warnings.warn(\n",
      "frame_index:  53%|█████▎    | 14868/27930 [1:09:38<1:04:20,  3.38it/s, now=None]z:\\My Documents\\AnacondaProjects\\.venv\\Lib\\site-packages\\moviepy\\video\\io\\ffmpeg_reader.py:190: UserWarning: In file G:\\My Drive\\Gardening_2025\\MIT Strategy\\Module_2\\videos\\2.2 Driving Successful Transformation.mp4, 6220800 bytes wanted but 0 bytes read at frame index 8558 (out of a total 8559 frames), at time 285.27/285.31 sec. Using the last valid frame instead.\n",
      "  warnings.warn(\n",
      "frame_index:  72%|███████▏  | 20131/27930 [1:34:18<30:09,  4.31it/s, now=None]  z:\\My Documents\\AnacondaProjects\\.venv\\Lib\\site-packages\\moviepy\\video\\io\\ffmpeg_reader.py:190: UserWarning: In file G:\\My Drive\\Gardening_2025\\MIT Strategy\\Module_2\\videos\\2.3 Designing a Scalable AI Strategy.mp4, 6220800 bytes wanted but 0 bytes read at frame index 5262 (out of a total 5264 frames), at time 175.40/175.47 sec. Using the last valid frame instead.\n",
      "  warnings.warn(\n",
      "frame_index:  72%|███████▏  | 20132/27930 [1:34:18<29:11,  4.45it/s, now=None]z:\\My Documents\\AnacondaProjects\\.venv\\Lib\\site-packages\\moviepy\\video\\io\\ffmpeg_reader.py:190: UserWarning: In file G:\\My Drive\\Gardening_2025\\MIT Strategy\\Module_2\\videos\\2.3 Designing a Scalable AI Strategy.mp4, 6220800 bytes wanted but 0 bytes read at frame index 5263 (out of a total 5264 frames), at time 175.43/175.47 sec. Using the last valid frame instead.\n",
      "  warnings.warn(\n",
      "frame_index: 100%|██████████| 27930/27930 [2:03:00<00:00,  5.02it/s, now=None]z:\\My Documents\\AnacondaProjects\\.venv\\Lib\\site-packages\\moviepy\\video\\io\\ffmpeg_reader.py:190: UserWarning: In file G:\\My Drive\\Gardening_2025\\MIT Strategy\\Module_2\\videos\\2.4 Risk Management.mp4, 6220800 bytes wanted but 0 bytes read at frame index 7797 (out of a total 7798 frames), at time 259.90/259.95 sec. Using the last valid frame instead.\n",
      "  warnings.warn(\n",
      "                                                                              \r"
     ]
    },
    {
     "name": "stdout",
     "output_type": "stream",
     "text": [
      "MoviePy - Done !\n",
      "MoviePy - video ready G:\\My Drive\\Gardening_2025\\MIT Strategy\\Module_2\\videos\\combined.mp4\n",
      "Combined video saved to: G:\\My Drive\\Gardening_2025\\MIT Strategy\\Module_2\\videos\\combined.mp4\n",
      "Chapters file saved to: G:\\My Drive\\Gardening_2025\\MIT Strategy\\Module_2\\videos\\chapters.txt\n",
      "Now run the following ffmpeg command to add chapters:\n",
      "ffmpeg -i \"G:\\My Drive\\Gardening_2025\\MIT Strategy\\Module_2\\videos\\combined.mp4\" -i \"G:\\My Drive\\Gardening_2025\\MIT Strategy\\Module_2\\videos\\chapters.txt\" -map_metadata 1 -codec copy \"G:\\My Drive\\Gardening_2025\\MIT Strategy\\Module_2\\videos\\combined_with_chapters.mp4\"\n"
     ]
    }
   ],
   "source": [
    "combine_mp4s_with_chapters(r\"G:\\My Drive\\Gardening_2025\\MIT Strategy\\Module_2\\videos\")"
   ]
  }
 ],
 "metadata": {
  "kernelspec": {
   "display_name": ".venv",
   "language": "python",
   "name": "python3"
  },
  "language_info": {
   "codemirror_mode": {
    "name": "ipython",
    "version": 3
   },
   "file_extension": ".py",
   "mimetype": "text/x-python",
   "name": "python",
   "nbconvert_exporter": "python",
   "pygments_lexer": "ipython3",
   "version": "3.13.4"
  }
 },
 "nbformat": 4,
 "nbformat_minor": 5
}
