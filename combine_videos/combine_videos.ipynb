{
 "cells": [
  {
   "cell_type": "code",
   "execution_count": 1,
   "id": "d5873f03",
   "metadata": {},
   "outputs": [],
   "source": [
    "import os\n",
    "import re\n",
    "from moviepy import VideoFileClip, concatenate_videoclips\n",
    "\n",
    "def natural_key(s):\n",
    "    return [int(text) if text.isdigit() else text.lower() for text in re.split(r'(\\d+)', s)]\n",
    "\n",
    "def combine_mp4s_with_chapters(folder_path, output_name=\"combined.mp4\"):\n",
    "    # Get all MP4 files in the folder, sorted alphabetically\n",
    "    mp4_files = [f for f in os.listdir(folder_path) if f.lower().endswith('.mp4')]\n",
    "    mp4_files.sort(key=natural_key)\n",
    "    if not mp4_files:\n",
    "        print(\"No MP4 files found in the folder.\")\n",
    "        return\n",
    "\n",
    "    clips = []\n",
    "    chapter_times = []\n",
    "    current_time = 0\n",
    "    for mp4 in mp4_files:\n",
    "        clip = VideoFileClip(os.path.join(folder_path, mp4))\n",
    "        clips.append(clip)\n",
    "        chapter_times.append((current_time, os.path.splitext(mp4)[0]))\n",
    "        current_time += clip.duration\n",
    "\n",
    "    final_clip = concatenate_videoclips(clips, method=\"compose\")\n",
    "    output_path = os.path.join(folder_path, output_name)\n",
    "    final_clip.write_videofile(output_path, codec=\"libx264\", audio_codec=\"aac\")\n",
    "\n",
    "    # Write chapters file in ffmetadata format\n",
    "    chapters_path = os.path.join(folder_path, \"chapters.txt\")\n",
    "    with open(chapters_path, \"w\", encoding=\"utf-8\") as f:\n",
    "        f.write(\";FFMETADATA1\\n\")\n",
    "        for i, (start, title) in enumerate(chapter_times):\n",
    "            if i + 1 < len(chapter_times):\n",
    "                end = int(chapter_times[i+1][0])\n",
    "            else:\n",
    "                end = int(current_time)\n",
    "            f.write(\"[CHAPTER]\\n\")\n",
    "            f.write(\"TIMEBASE=1/1\\n\")\n",
    "            f.write(f\"START={int(start)}\\n\")\n",
    "            f.write(f\"END={end}\\n\")\n",
    "            f.write(f\"title={title}\\n\")\n",
    "\n",
    "    print(f\"Combined video saved to: {output_path}\")\n",
    "    print(f\"Chapters file saved to: {chapters_path}\")\n",
    "    print(\"Now run the following ffmpeg command to add chapters:\")\n",
    "\n",
    "    print(f'ffmpeg -i \"{output_path}\" -i \"{chapters_path}\" -map_metadata 1 -codec copy \"{output_path[:-4]}_with_chapters.mp4\"')\n",
    "\n",
    "# Example usage:\n",
    "# combine_mp4s_with_chapters(r\"C:\\path\\to\\your\\mp4_folder\")"
   ]
  },
  {
   "cell_type": "code",
   "execution_count": 2,
   "id": "b10b70b2",
   "metadata": {},
   "outputs": [
    {
     "name": "stdout",
     "output_type": "stream",
     "text": [
      "MoviePy - Building video Z:\\OneDrive\\Gardening_2025\\Strategy_MIT\\Module_11 - AI Governance\\videos\\combined.mp4.\n",
      "MoviePy - Writing audio in combinedTEMP_MPY_wvf_snd.mp4\n"
     ]
    },
    {
     "name": "stderr",
     "output_type": "stream",
     "text": [
      "                                                                       \r"
     ]
    },
    {
     "name": "stdout",
     "output_type": "stream",
     "text": [
      "MoviePy - Done.\n",
      "MoviePy - Writing video Z:\\OneDrive\\Gardening_2025\\Strategy_MIT\\Module_11 - AI Governance\\videos\\combined.mp4\n",
      "\n"
     ]
    },
    {
     "name": "stderr",
     "output_type": "stream",
     "text": [
      "frame_index:  12%|█▏        | 4223/36247 [14:43<1:47:58,  4.94it/s, now=None]z:\\OneDrive\\Documents\\git_env\\Lib\\site-packages\\moviepy\\video\\io\\ffmpeg_reader.py:190: UserWarning: In file Z:\\OneDrive\\Gardening_2025\\Strategy_MIT\\Module_11 - AI Governance\\videos\\11.1 Accountability.mp4, 6220800 bytes wanted but 0 bytes read at frame index 4222 (out of a total 4224 frames), at time 140.73/140.80 sec. Using the last valid frame instead.\n",
      "  warnings.warn(\n",
      "frame_index:  12%|█▏        | 4224/36247 [14:43<1:51:11,  4.80it/s, now=None]z:\\OneDrive\\Documents\\git_env\\Lib\\site-packages\\moviepy\\video\\io\\ffmpeg_reader.py:190: UserWarning: In file Z:\\OneDrive\\Gardening_2025\\Strategy_MIT\\Module_11 - AI Governance\\videos\\11.1 Accountability.mp4, 6220800 bytes wanted but 0 bytes read at frame index 4223 (out of a total 4224 frames), at time 140.77/140.80 sec. Using the last valid frame instead.\n",
      "  warnings.warn(\n",
      "frame_index:  39%|███▉      | 14140/36247 [54:03<1:14:54,  4.92it/s, now=None]z:\\OneDrive\\Documents\\git_env\\Lib\\site-packages\\moviepy\\video\\io\\ffmpeg_reader.py:190: UserWarning: In file Z:\\OneDrive\\Gardening_2025\\Strategy_MIT\\Module_11 - AI Governance\\videos\\11.2 Checks and Balances.mp4, 6220800 bytes wanted but 0 bytes read at frame index 9915 (out of a total 9916 frames), at time 330.50/330.56 sec. Using the last valid frame instead.\n",
      "  warnings.warn(\n",
      "frame_index:  39%|███▉      | 14141/36247 [54:03<1:19:55,  4.61it/s, now=None]z:\\OneDrive\\Documents\\git_env\\Lib\\site-packages\\moviepy\\video\\io\\ffmpeg_reader.py:190: UserWarning: In file Z:\\OneDrive\\Gardening_2025\\Strategy_MIT\\Module_11 - AI Governance\\videos\\11.2 Checks and Balances.mp4, 6220800 bytes wanted but 0 bytes read at frame index 9916 (out of a total 9916 frames), at time 330.53/330.56 sec. Using the last valid frame instead.\n",
      "  warnings.warn(\n",
      "frame_index:  49%|████▊     | 17618/36247 [1:10:11<1:59:59,  2.59it/s, now=None]z:\\OneDrive\\Documents\\git_env\\Lib\\site-packages\\moviepy\\video\\io\\ffmpeg_reader.py:190: UserWarning: In file Z:\\OneDrive\\Gardening_2025\\Strategy_MIT\\Module_11 - AI Governance\\videos\\11.3 AI and Ethics.mp4, 6220800 bytes wanted but 0 bytes read at frame index 3476 (out of a total 3478 frames), at time 115.87/115.95 sec. Using the last valid frame instead.\n",
      "  warnings.warn(\n",
      "frame_index:  49%|████▊     | 17619/36247 [1:10:11<2:06:02,  2.46it/s, now=None]z:\\OneDrive\\Documents\\git_env\\Lib\\site-packages\\moviepy\\video\\io\\ffmpeg_reader.py:190: UserWarning: In file Z:\\OneDrive\\Gardening_2025\\Strategy_MIT\\Module_11 - AI Governance\\videos\\11.3 AI and Ethics.mp4, 6220800 bytes wanted but 0 bytes read at frame index 3477 (out of a total 3478 frames), at time 115.90/115.95 sec. Using the last valid frame instead.\n",
      "  warnings.warn(\n",
      "frame_index:  49%|████▊     | 17620/36247 [1:10:12<2:11:12,  2.37it/s, now=None]z:\\OneDrive\\Documents\\git_env\\Lib\\site-packages\\moviepy\\video\\io\\ffmpeg_reader.py:190: UserWarning: In file Z:\\OneDrive\\Gardening_2025\\Strategy_MIT\\Module_11 - AI Governance\\videos\\11.3 AI and Ethics.mp4, 6220800 bytes wanted but 0 bytes read at frame index 3478 (out of a total 3478 frames), at time 115.93/115.95 sec. Using the last valid frame instead.\n",
      "  warnings.warn(\n",
      "frame_index:  74%|███████▍  | 26878/36247 [1:59:30<58:46,  2.66it/s, now=None]  z:\\OneDrive\\Documents\\git_env\\Lib\\site-packages\\moviepy\\video\\io\\ffmpeg_reader.py:190: UserWarning: In file Z:\\OneDrive\\Gardening_2025\\Strategy_MIT\\Module_11 - AI Governance\\videos\\11.4 Mitigating Fears.mp4, 6220800 bytes wanted but 0 bytes read at frame index 9257 (out of a total 9259 frames), at time 308.57/308.65 sec. Using the last valid frame instead.\n",
      "  warnings.warn(\n",
      "frame_index:  74%|███████▍  | 26879/36247 [1:59:31<55:08,  2.83it/s, now=None]z:\\OneDrive\\Documents\\git_env\\Lib\\site-packages\\moviepy\\video\\io\\ffmpeg_reader.py:190: UserWarning: In file Z:\\OneDrive\\Gardening_2025\\Strategy_MIT\\Module_11 - AI Governance\\videos\\11.4 Mitigating Fears.mp4, 6220800 bytes wanted but 0 bytes read at frame index 9258 (out of a total 9259 frames), at time 308.60/308.65 sec. Using the last valid frame instead.\n",
      "  warnings.warn(\n",
      "frame_index:  82%|████████▏ | 29695/36247 [2:14:31<30:09,  3.62it/s, now=None]  z:\\OneDrive\\Documents\\git_env\\Lib\\site-packages\\moviepy\\video\\io\\ffmpeg_reader.py:190: UserWarning: In file Z:\\OneDrive\\Gardening_2025\\Strategy_MIT\\Module_11 - AI Governance\\videos\\11.5 Avoiding Risks.mp4, 6220800 bytes wanted but 0 bytes read at frame index 2815 (out of a total 2816 frames), at time 93.83/93.89 sec. Using the last valid frame instead.\n",
      "  warnings.warn(\n",
      "frame_index:  82%|████████▏ | 29696/36247 [2:14:31<31:11,  3.50it/s, now=None]z:\\OneDrive\\Documents\\git_env\\Lib\\site-packages\\moviepy\\video\\io\\ffmpeg_reader.py:190: UserWarning: In file Z:\\OneDrive\\Gardening_2025\\Strategy_MIT\\Module_11 - AI Governance\\videos\\11.5 Avoiding Risks.mp4, 6220800 bytes wanted but 0 bytes read at frame index 2816 (out of a total 2816 frames), at time 93.87/93.89 sec. Using the last valid frame instead.\n",
      "  warnings.warn(\n",
      "                                                                              \r"
     ]
    },
    {
     "name": "stdout",
     "output_type": "stream",
     "text": [
      "MoviePy - Done !\n",
      "MoviePy - video ready Z:\\OneDrive\\Gardening_2025\\Strategy_MIT\\Module_11 - AI Governance\\videos\\combined.mp4\n",
      "Combined video saved to: Z:\\OneDrive\\Gardening_2025\\Strategy_MIT\\Module_11 - AI Governance\\videos\\combined.mp4\n",
      "Chapters file saved to: Z:\\OneDrive\\Gardening_2025\\Strategy_MIT\\Module_11 - AI Governance\\videos\\chapters.txt\n",
      "Now run the following ffmpeg command to add chapters:\n",
      "ffmpeg -i \"Z:\\OneDrive\\Gardening_2025\\Strategy_MIT\\Module_11 - AI Governance\\videos\\combined.mp4\" -i \"Z:\\OneDrive\\Gardening_2025\\Strategy_MIT\\Module_11 - AI Governance\\videos\\chapters.txt\" -map_metadata 1 -codec copy \"Z:\\OneDrive\\Gardening_2025\\Strategy_MIT\\Module_11 - AI Governance\\videos\\combined_with_chapters.mp4\"\n"
     ]
    }
   ],
   "source": [
    "combine_mp4s_with_chapters(r\"Z:\\OneDrive\\Gardening_2025\\Strategy_MIT\\Module_11 - AI Governance\\videos\")"
   ]
  }
 ],
 "metadata": {
  "kernelspec": {
   "display_name": "git_env (3.13.4)",
   "language": "python",
   "name": "python3"
  },
  "language_info": {
   "codemirror_mode": {
    "name": "ipython",
    "version": 3
   },
   "file_extension": ".py",
   "mimetype": "text/x-python",
   "name": "python",
   "nbconvert_exporter": "python",
   "pygments_lexer": "ipython3",
   "version": "3.13.4"
  }
 },
 "nbformat": 4,
 "nbformat_minor": 5
}
