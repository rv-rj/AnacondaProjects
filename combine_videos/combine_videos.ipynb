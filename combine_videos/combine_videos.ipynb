{
 "cells": [
  {
   "cell_type": "code",
   "execution_count": 2,
   "id": "d5873f03",
   "metadata": {},
   "outputs": [],
   "source": [
    "import os\n",
    "import re\n",
    "from moviepy import VideoFileClip, concatenate_videoclips\n",
    "\n",
    "def natural_key(s):\n",
    "    return [int(text) if text.isdigit() else text.lower() for text in re.split(r'(\\d+)', s)]\n",
    "\n",
    "def combine_mp4s_with_chapters(folder_path, output_name=\"combined.mp4\"):\n",
    "    # Get all MP4 files in the folder, sorted alphabetically\n",
    "    mp4_files = [f for f in os.listdir(folder_path) if f.lower().endswith('.mp4')]\n",
    "    mp4_files.sort(key=natural_key)\n",
    "    if not mp4_files:\n",
    "        print(\"No MP4 files found in the folder.\")\n",
    "        return\n",
    "\n",
    "    clips = []\n",
    "    chapter_times = []\n",
    "    current_time = 0\n",
    "    for mp4 in mp4_files:\n",
    "        clip = VideoFileClip(os.path.join(folder_path, mp4))\n",
    "        clips.append(clip)\n",
    "        chapter_times.append((current_time, os.path.splitext(mp4)[0]))\n",
    "        current_time += clip.duration\n",
    "\n",
    "    final_clip = concatenate_videoclips(clips, method=\"compose\")\n",
    "    output_path = os.path.join(folder_path, output_name)\n",
    "    final_clip.write_videofile(output_path, codec=\"libx264\", audio_codec=\"aac\")\n",
    "\n",
    "    # Write chapters file in ffmetadata format\n",
    "    chapters_path = os.path.join(folder_path, \"chapters.txt\")\n",
    "    with open(chapters_path, \"w\", encoding=\"utf-8\") as f:\n",
    "        f.write(\";FFMETADATA1\\n\")\n",
    "        for i, (start, title) in enumerate(chapter_times):\n",
    "            if i + 1 < len(chapter_times):\n",
    "                end = int(chapter_times[i+1][0])\n",
    "            else:\n",
    "                end = int(current_time)\n",
    "            f.write(\"[CHAPTER]\\n\")\n",
    "            f.write(\"TIMEBASE=1/1\\n\")\n",
    "            f.write(f\"START={int(start)}\\n\")\n",
    "            f.write(f\"END={end}\\n\")\n",
    "            f.write(f\"title={title}\\n\")\n",
    "\n",
    "    print(f\"Combined video saved to: {output_path}\")\n",
    "    print(f\"Chapters file saved to: {chapters_path}\")\n",
    "    print(\"Now run the following ffmpeg command to add chapters:\")\n",
    "\n",
    "    print(f'ffmpeg -i \"{output_path}\" -i \"{chapters_path}\" -map_metadata 1 -codec copy \"{output_path[:-4]}_with_chapters.mp4\"')\n",
    "\n",
    "# Example usage:\n",
    "# combine_mp4s_with_chapters(r\"C:\\path\\to\\your\\mp4_folder\")"
   ]
  },
  {
   "cell_type": "code",
   "execution_count": 3,
   "id": "b10b70b2",
   "metadata": {},
   "outputs": [
    {
     "name": "stdout",
     "output_type": "stream",
     "text": [
      "MoviePy - Building video Z:\\OneDrive\\Gardening_2025\\Strategy_MIT\\Module_9 - Developing a New Leadership Mindset for Data\\videos\\combined.mp4.\n",
      "MoviePy - Writing audio in combinedTEMP_MPY_wvf_snd.mp4\n"
     ]
    },
    {
     "name": "stderr",
     "output_type": "stream",
     "text": [
      "                                                                         \r"
     ]
    },
    {
     "name": "stdout",
     "output_type": "stream",
     "text": [
      "MoviePy - Done.\n",
      "MoviePy - Writing video Z:\\OneDrive\\Gardening_2025\\Strategy_MIT\\Module_9 - Developing a New Leadership Mindset for Data\\videos\\combined.mp4\n",
      "\n"
     ]
    },
    {
     "name": "stderr",
     "output_type": "stream",
     "text": [
      "frame_index:  10%|█         | 15144/150798 [53:24<8:01:56,  4.69it/s, now=None] z:\\OneDrive\\Documents\\git_env\\Lib\\site-packages\\moviepy\\video\\io\\ffmpeg_reader.py:190: UserWarning: In file Z:\\OneDrive\\Gardening_2025\\Strategy_MIT\\Module_9 - Developing a New Leadership Mindset for Data\\videos\\9.1 Data is Reality.mp4, 6220800 bytes wanted but 0 bytes read at frame index 15143 (out of a total 15144 frames), at time 504.77/504.83 sec. Using the last valid frame instead.\n",
      "  warnings.warn(\n",
      "frame_index:  10%|█         | 15145/150798 [53:24<7:49:19,  4.82it/s, now=None]z:\\OneDrive\\Documents\\git_env\\Lib\\site-packages\\moviepy\\video\\io\\ffmpeg_reader.py:190: UserWarning: In file Z:\\OneDrive\\Gardening_2025\\Strategy_MIT\\Module_9 - Developing a New Leadership Mindset for Data\\videos\\9.1 Data is Reality.mp4, 6220800 bytes wanted but 0 bytes read at frame index 15144 (out of a total 15144 frames), at time 504.80/504.83 sec. Using the last valid frame instead.\n",
      "  warnings.warn(\n",
      "frame_index:  17%|█▋        | 25340/150798 [1:32:39<7:11:20,  4.85it/s, now=None] z:\\OneDrive\\Documents\\git_env\\Lib\\site-packages\\moviepy\\video\\io\\ffmpeg_reader.py:190: UserWarning: In file Z:\\OneDrive\\Gardening_2025\\Strategy_MIT\\Module_9 - Developing a New Leadership Mindset for Data\\videos\\9.2 Federated AI.mp4, 6220800 bytes wanted but 0 bytes read at frame index 10194 (out of a total 10195 frames), at time 339.80/339.86 sec. Using the last valid frame instead.\n",
      "  warnings.warn(\n",
      "frame_index:  17%|█▋        | 25341/150798 [1:32:39<6:56:03,  5.03it/s, now=None]z:\\OneDrive\\Documents\\git_env\\Lib\\site-packages\\moviepy\\video\\io\\ffmpeg_reader.py:190: UserWarning: In file Z:\\OneDrive\\Gardening_2025\\Strategy_MIT\\Module_9 - Developing a New Leadership Mindset for Data\\videos\\9.2 Federated AI.mp4, 6220800 bytes wanted but 0 bytes read at frame index 10195 (out of a total 10195 frames), at time 339.83/339.86 sec. Using the last valid frame instead.\n",
      "  warnings.warn(\n",
      "frame_index:  21%|██        | 31866/150798 [1:56:56<6:21:27,  5.20it/s, now=None] z:\\OneDrive\\Documents\\git_env\\Lib\\site-packages\\moviepy\\video\\io\\ffmpeg_reader.py:190: UserWarning: In file Z:\\OneDrive\\Gardening_2025\\Strategy_MIT\\Module_9 - Developing a New Leadership Mindset for Data\\videos\\9.3 The Hedge Fund Industry as an Example.mp4, 6220800 bytes wanted but 0 bytes read at frame index 6524 (out of a total 6525 frames), at time 217.47/217.51 sec. Using the last valid frame instead.\n",
      "  warnings.warn(\n",
      "frame_index:  29%|██▊       | 42984/150798 [2:35:08<5:43:05,  5.24it/s, now=None]z:\\OneDrive\\Documents\\git_env\\Lib\\site-packages\\moviepy\\video\\io\\ffmpeg_reader.py:190: UserWarning: In file Z:\\OneDrive\\Gardening_2025\\Strategy_MIT\\Module_9 - Developing a New Leadership Mindset for Data\\videos\\9.4 Enabling Traditional Business Using AI Part I.mp4, 6220800 bytes wanted but 0 bytes read at frame index 11117 (out of a total 11119 frames), at time 370.57/370.65 sec. Using the last valid frame instead.\n",
      "  warnings.warn(\n",
      "frame_index:  29%|██▊       | 42985/150798 [2:35:08<5:37:36,  5.32it/s, now=None]z:\\OneDrive\\Documents\\git_env\\Lib\\site-packages\\moviepy\\video\\io\\ffmpeg_reader.py:190: UserWarning: In file Z:\\OneDrive\\Gardening_2025\\Strategy_MIT\\Module_9 - Developing a New Leadership Mindset for Data\\videos\\9.4 Enabling Traditional Business Using AI Part I.mp4, 6220800 bytes wanted but 0 bytes read at frame index 11118 (out of a total 11119 frames), at time 370.60/370.65 sec. Using the last valid frame instead.\n",
      "  warnings.warn(\n",
      "frame_index:  29%|██▊       | 42986/150798 [2:35:08<5:48:44,  5.15it/s, now=None]z:\\OneDrive\\Documents\\git_env\\Lib\\site-packages\\moviepy\\video\\io\\ffmpeg_reader.py:190: UserWarning: In file Z:\\OneDrive\\Gardening_2025\\Strategy_MIT\\Module_9 - Developing a New Leadership Mindset for Data\\videos\\9.4 Enabling Traditional Business Using AI Part I.mp4, 6220800 bytes wanted but 0 bytes read at frame index 11119 (out of a total 11119 frames), at time 370.63/370.65 sec. Using the last valid frame instead.\n",
      "  warnings.warn(\n",
      "frame_index:  35%|███▍      | 52423/150798 [3:08:10<5:26:12,  5.03it/s, now=None]z:\\OneDrive\\Documents\\git_env\\Lib\\site-packages\\moviepy\\video\\io\\ffmpeg_reader.py:190: UserWarning: In file Z:\\OneDrive\\Gardening_2025\\Strategy_MIT\\Module_9 - Developing a New Leadership Mindset for Data\\videos\\9.5 Enabling Traditional Business Using AI Part II.mp4, 6220800 bytes wanted but 0 bytes read at frame index 9436 (out of a total 9438 frames), at time 314.53/314.60 sec. Using the last valid frame instead.\n",
      "  warnings.warn(\n",
      "frame_index:  35%|███▍      | 52424/150798 [3:08:11<5:31:57,  4.94it/s, now=None]z:\\OneDrive\\Documents\\git_env\\Lib\\site-packages\\moviepy\\video\\io\\ffmpeg_reader.py:190: UserWarning: In file Z:\\OneDrive\\Gardening_2025\\Strategy_MIT\\Module_9 - Developing a New Leadership Mindset for Data\\videos\\9.5 Enabling Traditional Business Using AI Part II.mp4, 6220800 bytes wanted but 0 bytes read at frame index 9437 (out of a total 9438 frames), at time 314.57/314.60 sec. Using the last valid frame instead.\n",
      "  warnings.warn(\n",
      "frame_index:  38%|███▊      | 57703/150798 [3:27:11<5:01:22,  5.15it/s, now=None]z:\\OneDrive\\Documents\\git_env\\Lib\\site-packages\\moviepy\\video\\io\\ffmpeg_reader.py:190: UserWarning: In file Z:\\OneDrive\\Gardening_2025\\Strategy_MIT\\Module_9 - Developing a New Leadership Mindset for Data\\videos\\9.6 AI and Data.mp4, 6220800 bytes wanted but 0 bytes read at frame index 5278 (out of a total 5280 frames), at time 175.93/176.00 sec. Using the last valid frame instead.\n",
      "  warnings.warn(\n",
      "frame_index:  38%|███▊      | 57704/150798 [3:27:11<4:57:59,  5.21it/s, now=None]z:\\OneDrive\\Documents\\git_env\\Lib\\site-packages\\moviepy\\video\\io\\ffmpeg_reader.py:190: UserWarning: In file Z:\\OneDrive\\Gardening_2025\\Strategy_MIT\\Module_9 - Developing a New Leadership Mindset for Data\\videos\\9.6 AI and Data.mp4, 6220800 bytes wanted but 0 bytes read at frame index 5279 (out of a total 5280 frames), at time 175.97/176.00 sec. Using the last valid frame instead.\n",
      "  warnings.warn(\n",
      "frame_index:  41%|████      | 62070/150798 [3:42:39<4:59:27,  4.94it/s, now=None]z:\\OneDrive\\Documents\\git_env\\Lib\\site-packages\\moviepy\\video\\io\\ffmpeg_reader.py:190: UserWarning: In file Z:\\OneDrive\\Gardening_2025\\Strategy_MIT\\Module_9 - Developing a New Leadership Mindset for Data\\videos\\9.7 Data and Predictions.mp4, 6220800 bytes wanted but 0 bytes read at frame index 4365 (out of a total 4367 frames), at time 145.50/145.58 sec. Using the last valid frame instead.\n",
      "  warnings.warn(\n",
      "frame_index:  41%|████      | 62071/150798 [3:42:39<4:58:15,  4.96it/s, now=None]z:\\OneDrive\\Documents\\git_env\\Lib\\site-packages\\moviepy\\video\\io\\ffmpeg_reader.py:190: UserWarning: In file Z:\\OneDrive\\Gardening_2025\\Strategy_MIT\\Module_9 - Developing a New Leadership Mindset for Data\\videos\\9.7 Data and Predictions.mp4, 6220800 bytes wanted but 0 bytes read at frame index 4366 (out of a total 4367 frames), at time 145.53/145.58 sec. Using the last valid frame instead.\n",
      "  warnings.warn(\n",
      "frame_index:  48%|████▊     | 71841/150798 [4:17:23<4:21:37,  5.03it/s, now=None]z:\\OneDrive\\Documents\\git_env\\Lib\\site-packages\\moviepy\\video\\io\\ffmpeg_reader.py:190: UserWarning: In file Z:\\OneDrive\\Gardening_2025\\Strategy_MIT\\Module_9 - Developing a New Leadership Mindset for Data\\videos\\9.8 Architecting the Gameboard Team Level.mp4, 6220800 bytes wanted but 0 bytes read at frame index 9769 (out of a total 9771 frames), at time 325.63/325.70 sec. Using the last valid frame instead.\n",
      "  warnings.warn(\n",
      "frame_index:  48%|████▊     | 71842/150798 [4:17:24<4:23:00,  5.00it/s, now=None]z:\\OneDrive\\Documents\\git_env\\Lib\\site-packages\\moviepy\\video\\io\\ffmpeg_reader.py:190: UserWarning: In file Z:\\OneDrive\\Gardening_2025\\Strategy_MIT\\Module_9 - Developing a New Leadership Mindset for Data\\videos\\9.8 Architecting the Gameboard Team Level.mp4, 6220800 bytes wanted but 0 bytes read at frame index 9770 (out of a total 9771 frames), at time 325.67/325.70 sec. Using the last valid frame instead.\n",
      "  warnings.warn(\n",
      "frame_index:  55%|█████▌    | 83443/150798 [4:59:09<3:50:29,  4.87it/s, now=None]z:\\OneDrive\\Documents\\git_env\\Lib\\site-packages\\moviepy\\video\\io\\ffmpeg_reader.py:190: UserWarning: In file Z:\\OneDrive\\Gardening_2025\\Strategy_MIT\\Module_9 - Developing a New Leadership Mindset for Data\\videos\\9.9 xTEAMS Processes.mp4, 6220800 bytes wanted but 0 bytes read at frame index 11600 (out of a total 11601 frames), at time 386.67/386.71 sec. Using the last valid frame instead.\n",
      "  warnings.warn(\n",
      "frame_index:  55%|█████▌    | 83444/150798 [4:59:09<3:50:51,  4.86it/s, now=None]z:\\OneDrive\\Documents\\git_env\\Lib\\site-packages\\moviepy\\video\\io\\ffmpeg_reader.py:190: UserWarning: In file Z:\\OneDrive\\Gardening_2025\\Strategy_MIT\\Module_9 - Developing a New Leadership Mindset for Data\\videos\\9.9 xTEAMS Processes.mp4, 6220800 bytes wanted but 0 bytes read at frame index 11601 (out of a total 11601 frames), at time 386.70/386.71 sec. Using the last valid frame instead.\n",
      "  warnings.warn(\n",
      "frame_index:  59%|█████▉    | 89364/150798 [5:20:41<3:33:56,  4.79it/s, now=None]z:\\OneDrive\\Documents\\git_env\\Lib\\site-packages\\moviepy\\video\\io\\ffmpeg_reader.py:190: UserWarning: In file Z:\\OneDrive\\Gardening_2025\\Strategy_MIT\\Module_9 - Developing a New Leadership Mindset for Data\\videos\\9.10 External Orientation.mp4, 6220800 bytes wanted but 0 bytes read at frame index 5919 (out of a total 5920 frames), at time 197.30/197.35 sec. Using the last valid frame instead.\n",
      "  warnings.warn(\n",
      "frame_index:  66%|██████▋   | 100033/150798 [5:59:45<3:06:23,  4.54it/s, now=None]z:\\OneDrive\\Documents\\git_env\\Lib\\site-packages\\moviepy\\video\\io\\ffmpeg_reader.py:190: UserWarning: In file Z:\\OneDrive\\Gardening_2025\\Strategy_MIT\\Module_9 - Developing a New Leadership Mindset for Data\\videos\\9.11 xTEAMS—What to Expect (Part I).mp4, 6220800 bytes wanted but 0 bytes read at frame index 10668 (out of a total 10669 frames), at time 355.60/355.65 sec. Using the last valid frame instead.\n",
      "  warnings.warn(\n",
      "frame_index:  66%|██████▋   | 100034/150798 [5:59:46<3:12:51,  4.39it/s, now=None]z:\\OneDrive\\Documents\\git_env\\Lib\\site-packages\\moviepy\\video\\io\\ffmpeg_reader.py:190: UserWarning: In file Z:\\OneDrive\\Gardening_2025\\Strategy_MIT\\Module_9 - Developing a New Leadership Mindset for Data\\videos\\9.11 xTEAMS—What to Expect (Part I).mp4, 6220800 bytes wanted but 0 bytes read at frame index 10669 (out of a total 10669 frames), at time 355.63/355.65 sec. Using the last valid frame instead.\n",
      "  warnings.warn(\n",
      "frame_index:  70%|███████   | 106283/150798 [6:22:51<2:35:33,  4.77it/s, now=None]z:\\OneDrive\\Documents\\git_env\\Lib\\site-packages\\moviepy\\video\\io\\ffmpeg_reader.py:190: UserWarning: In file Z:\\OneDrive\\Gardening_2025\\Strategy_MIT\\Module_9 - Developing a New Leadership Mindset for Data\\videos\\9.12 xTEAMS—What to Expect (Part II).mp4, 6220800 bytes wanted but 0 bytes read at frame index 6248 (out of a total 6250 frames), at time 208.27/208.34 sec. Using the last valid frame instead.\n",
      "  warnings.warn(\n",
      "frame_index:  70%|███████   | 106284/150798 [6:22:51<2:29:06,  4.98it/s, now=None]z:\\OneDrive\\Documents\\git_env\\Lib\\site-packages\\moviepy\\video\\io\\ffmpeg_reader.py:190: UserWarning: In file Z:\\OneDrive\\Gardening_2025\\Strategy_MIT\\Module_9 - Developing a New Leadership Mindset for Data\\videos\\9.12 xTEAMS—What to Expect (Part II).mp4, 6220800 bytes wanted but 0 bytes read at frame index 6249 (out of a total 6250 frames), at time 208.30/208.34 sec. Using the last valid frame instead.\n",
      "  warnings.warn(\n",
      "frame_index:  73%|███████▎  | 110219/150798 [6:37:21<2:29:22,  4.53it/s, now=None]z:\\OneDrive\\Documents\\git_env\\Lib\\site-packages\\moviepy\\video\\io\\ffmpeg_reader.py:190: UserWarning: In file Z:\\OneDrive\\Gardening_2025\\Strategy_MIT\\Module_9 - Developing a New Leadership Mindset for Data\\videos\\9.13 AI and xTEAMS.mp4, 6220800 bytes wanted but 0 bytes read at frame index 3934 (out of a total 3935 frames), at time 131.13/131.20 sec. Using the last valid frame instead.\n",
      "  warnings.warn(\n",
      "frame_index:  73%|███████▎  | 110220/150798 [6:37:21<2:27:50,  4.57it/s, now=None]z:\\OneDrive\\Documents\\git_env\\Lib\\site-packages\\moviepy\\video\\io\\ffmpeg_reader.py:190: UserWarning: In file Z:\\OneDrive\\Gardening_2025\\Strategy_MIT\\Module_9 - Developing a New Leadership Mindset for Data\\videos\\9.13 AI and xTEAMS.mp4, 6220800 bytes wanted but 0 bytes read at frame index 3935 (out of a total 3935 frames), at time 131.17/131.20 sec. Using the last valid frame instead.\n",
      "  warnings.warn(\n",
      "frame_index:  77%|███████▋  | 115718/150798 [6:57:57<2:15:33,  4.31it/s, now=None]z:\\OneDrive\\Documents\\git_env\\Lib\\site-packages\\moviepy\\video\\io\\ffmpeg_reader.py:190: UserWarning: In file Z:\\OneDrive\\Gardening_2025\\Strategy_MIT\\Module_9 - Developing a New Leadership Mindset for Data\\videos\\9.14 AI and Leadership.mp4, 6220800 bytes wanted but 0 bytes read at frame index 5497 (out of a total 5499 frames), at time 183.23/183.32 sec. Using the last valid frame instead.\n",
      "  warnings.warn(\n",
      "frame_index:  77%|███████▋  | 115719/150798 [6:57:57<2:10:30,  4.48it/s, now=None]z:\\OneDrive\\Documents\\git_env\\Lib\\site-packages\\moviepy\\video\\io\\ffmpeg_reader.py:190: UserWarning: In file Z:\\OneDrive\\Gardening_2025\\Strategy_MIT\\Module_9 - Developing a New Leadership Mindset for Data\\videos\\9.14 AI and Leadership.mp4, 6220800 bytes wanted but 0 bytes read at frame index 5498 (out of a total 5499 frames), at time 183.27/183.32 sec. Using the last valid frame instead.\n",
      "  warnings.warn(\n",
      "frame_index:  81%|████████  | 121648/150798 [7:21:14<1:43:47,  4.68it/s, now=None]z:\\OneDrive\\Documents\\git_env\\Lib\\site-packages\\moviepy\\video\\io\\ffmpeg_reader.py:190: UserWarning: In file Z:\\OneDrive\\Gardening_2025\\Strategy_MIT\\Module_9 - Developing a New Leadership Mindset for Data\\videos\\9.15 Partnerships with AI and Teams.mp4, 6220800 bytes wanted but 0 bytes read at frame index 5928 (out of a total 5929 frames), at time 197.60/197.65 sec. Using the last valid frame instead.\n",
      "  warnings.warn(\n",
      "frame_index:  81%|████████  | 121649/150798 [7:21:14<1:40:06,  4.85it/s, now=None]z:\\OneDrive\\Documents\\git_env\\Lib\\site-packages\\moviepy\\video\\io\\ffmpeg_reader.py:190: UserWarning: In file Z:\\OneDrive\\Gardening_2025\\Strategy_MIT\\Module_9 - Developing a New Leadership Mindset for Data\\videos\\9.15 Partnerships with AI and Teams.mp4, 6220800 bytes wanted but 0 bytes read at frame index 5929 (out of a total 5929 frames), at time 197.63/197.65 sec. Using the last valid frame instead.\n",
      "  warnings.warn(\n",
      "frame_index:  83%|████████▎ | 125810/150798 [7:36:18<1:30:29,  4.60it/s, now=None]z:\\OneDrive\\Documents\\git_env\\Lib\\site-packages\\moviepy\\video\\io\\ffmpeg_reader.py:190: UserWarning: In file Z:\\OneDrive\\Gardening_2025\\Strategy_MIT\\Module_9 - Developing a New Leadership Mindset for Data\\videos\\9.16 xTEAMS Simulation Introduction.mp4, 6220800 bytes wanted but 0 bytes read at frame index 4160 (out of a total 4161 frames), at time 138.67/138.73 sec. Using the last valid frame instead.\n",
      "  warnings.warn(\n",
      "frame_index:  83%|████████▎ | 125811/150798 [7:36:18<1:27:18,  4.77it/s, now=None]z:\\OneDrive\\Documents\\git_env\\Lib\\site-packages\\moviepy\\video\\io\\ffmpeg_reader.py:190: UserWarning: In file Z:\\OneDrive\\Gardening_2025\\Strategy_MIT\\Module_9 - Developing a New Leadership Mindset for Data\\videos\\9.16 xTEAMS Simulation Introduction.mp4, 6220800 bytes wanted but 0 bytes read at frame index 4161 (out of a total 4161 frames), at time 138.70/138.73 sec. Using the last valid frame instead.\n",
      "  warnings.warn(\n",
      "frame_index:  89%|████████▊ | 133653/150798 [8:05:13<1:06:42,  4.28it/s, now=None]z:\\OneDrive\\Documents\\git_env\\Lib\\site-packages\\moviepy\\video\\io\\ffmpeg_reader.py:190: UserWarning: In file Z:\\OneDrive\\Gardening_2025\\Strategy_MIT\\Module_9 - Developing a New Leadership Mindset for Data\\videos\\9.17 xTEAMS Simulation Debrief.mp4, 6220800 bytes wanted but 0 bytes read at frame index 7841 (out of a total 7842 frames), at time 261.37/261.42 sec. Using the last valid frame instead.\n",
      "  warnings.warn(\n",
      "frame_index:  94%|█████████▎| 141012/150798 [8:32:58<34:31,  4.72it/s, now=None]  z:\\OneDrive\\Documents\\git_env\\Lib\\site-packages\\moviepy\\video\\io\\ffmpeg_reader.py:190: UserWarning: In file Z:\\OneDrive\\Gardening_2025\\Strategy_MIT\\Module_9 - Developing a New Leadership Mindset for Data\\videos\\9.18 The Importance of Collaboration.mp4, 6220800 bytes wanted but 0 bytes read at frame index 7358 (out of a total 7359 frames), at time 245.27/245.33 sec. Using the last valid frame instead.\n",
      "  warnings.warn(\n",
      "frame_index:  94%|█████████▎| 141013/150798 [8:32:58<38:09,  4.27it/s, now=None]z:\\OneDrive\\Documents\\git_env\\Lib\\site-packages\\moviepy\\video\\io\\ffmpeg_reader.py:190: UserWarning: In file Z:\\OneDrive\\Gardening_2025\\Strategy_MIT\\Module_9 - Developing a New Leadership Mindset for Data\\videos\\9.18 The Importance of Collaboration.mp4, 6220800 bytes wanted but 0 bytes read at frame index 7359 (out of a total 7359 frames), at time 245.30/245.33 sec. Using the last valid frame instead.\n",
      "  warnings.warn(\n",
      "frame_index: 100%|██████████| 150798/150798 [9:10:35<00:00,  4.63it/s, now=None]z:\\OneDrive\\Documents\\git_env\\Lib\\site-packages\\moviepy\\video\\io\\ffmpeg_reader.py:190: UserWarning: In file Z:\\OneDrive\\Gardening_2025\\Strategy_MIT\\Module_9 - Developing a New Leadership Mindset for Data\\videos\\9.19 Building Internal and External Networks.mp4, 6220800 bytes wanted but 0 bytes read at frame index 9784 (out of a total 9785 frames), at time 326.13/326.19 sec. Using the last valid frame instead.\n",
      "  warnings.warn(\n",
      "                                                                                \r"
     ]
    },
    {
     "name": "stdout",
     "output_type": "stream",
     "text": [
      "MoviePy - Done !\n",
      "MoviePy - video ready Z:\\OneDrive\\Gardening_2025\\Strategy_MIT\\Module_9 - Developing a New Leadership Mindset for Data\\videos\\combined.mp4\n",
      "Combined video saved to: Z:\\OneDrive\\Gardening_2025\\Strategy_MIT\\Module_9 - Developing a New Leadership Mindset for Data\\videos\\combined.mp4\n",
      "Chapters file saved to: Z:\\OneDrive\\Gardening_2025\\Strategy_MIT\\Module_9 - Developing a New Leadership Mindset for Data\\videos\\chapters.txt\n",
      "Now run the following ffmpeg command to add chapters:\n",
      "ffmpeg -i \"Z:\\OneDrive\\Gardening_2025\\Strategy_MIT\\Module_9 - Developing a New Leadership Mindset for Data\\videos\\combined.mp4\" -i \"Z:\\OneDrive\\Gardening_2025\\Strategy_MIT\\Module_9 - Developing a New Leadership Mindset for Data\\videos\\chapters.txt\" -map_metadata 1 -codec copy \"Z:\\OneDrive\\Gardening_2025\\Strategy_MIT\\Module_9 - Developing a New Leadership Mindset for Data\\videos\\combined_with_chapters.mp4\"\n"
     ]
    }
   ],
   "source": [
    "combine_mp4s_with_chapters(r\"Z:\\OneDrive\\Gardening_2025\\Strategy_MIT\\Module_9 - Developing a New Leadership Mindset for Data\\videos\")"
   ]
  }
 ],
 "metadata": {
  "kernelspec": {
   "display_name": "git_env (3.13.4)",
   "language": "python",
   "name": "python3"
  },
  "language_info": {
   "codemirror_mode": {
    "name": "ipython",
    "version": 3
   },
   "file_extension": ".py",
   "mimetype": "text/x-python",
   "name": "python",
   "nbconvert_exporter": "python",
   "pygments_lexer": "ipython3",
   "version": "3.13.4"
  }
 },
 "nbformat": 4,
 "nbformat_minor": 5
}
