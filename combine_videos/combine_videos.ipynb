{
 "cells": [
  {
   "cell_type": "code",
   "execution_count": 1,
   "id": "d5873f03",
   "metadata": {},
   "outputs": [],
   "source": [
    "import os\n",
    "import re\n",
    "from moviepy import VideoFileClip, concatenate_videoclips\n",
    "\n",
    "def natural_key(s):\n",
    "    return [int(text) if text.isdigit() else text.lower() for text in re.split(r'(\\d+)', s)]\n",
    "\n",
    "def combine_mp4s_with_chapters(folder_path, output_name=\"combined.mp4\"):\n",
    "    # Get all MP4 files in the folder, sorted alphabetically\n",
    "    mp4_files = [f for f in os.listdir(folder_path) if f.lower().endswith('.mp4')]\n",
    "    mp4_files.sort(key=natural_key)\n",
    "    if not mp4_files:\n",
    "        print(\"No MP4 files found in the folder.\")\n",
    "        return\n",
    "\n",
    "    clips = []\n",
    "    chapter_times = []\n",
    "    current_time = 0\n",
    "    for mp4 in mp4_files:\n",
    "        clip = VideoFileClip(os.path.join(folder_path, mp4))\n",
    "        clips.append(clip)\n",
    "        chapter_times.append((current_time, os.path.splitext(mp4)[0]))\n",
    "        current_time += clip.duration\n",
    "\n",
    "    final_clip = concatenate_videoclips(clips, method=\"compose\")\n",
    "    output_path = os.path.join(folder_path, output_name)\n",
    "    final_clip.write_videofile(output_path, codec=\"libx264\", audio_codec=\"aac\")\n",
    "\n",
    "    # Write chapters file in ffmetadata format\n",
    "    chapters_path = os.path.join(folder_path, \"chapters.txt\")\n",
    "    with open(chapters_path, \"w\", encoding=\"utf-8\") as f:\n",
    "        f.write(\";FFMETADATA1\\n\")\n",
    "        for i, (start, title) in enumerate(chapter_times):\n",
    "            if i + 1 < len(chapter_times):\n",
    "                end = int(chapter_times[i+1][0])\n",
    "            else:\n",
    "                end = int(current_time)\n",
    "            f.write(\"[CHAPTER]\\n\")\n",
    "            f.write(\"TIMEBASE=1/1\\n\")\n",
    "            f.write(f\"START={int(start)}\\n\")\n",
    "            f.write(f\"END={end}\\n\")\n",
    "            f.write(f\"title={title}\\n\")\n",
    "\n",
    "    print(f\"Combined video saved to: {output_path}\")\n",
    "    print(f\"Chapters file saved to: {chapters_path}\")\n",
    "    print(\"Now run the following ffmpeg command to add chapters:\")\n",
    "\n",
    "    print(f'ffmpeg -i \"{output_path}\" -i \"{chapters_path}\" -map_metadata 1 -codec copy \"{output_path[:-4]}_with_chapters.mp4\"')\n",
    "\n",
    "# Example usage:\n",
    "# combine_mp4s_with_chapters(r\"C:\\path\\to\\your\\mp4_folder\")"
   ]
  },
  {
   "cell_type": "code",
   "execution_count": null,
   "id": "b10b70b2",
   "metadata": {},
   "outputs": [
    {
     "name": "stdout",
     "output_type": "stream",
     "text": [
      "MoviePy - Building video G:\\My Drive\\Gardening_2025\\Strategy_MIT\\Module_7 - AI and Leadership\\Videos\\combined.mp4.\n",
      "MoviePy - Writing audio in combinedTEMP_MPY_wvf_snd.mp4\n"
     ]
    },
    {
     "name": "stderr",
     "output_type": "stream",
     "text": [
      "                                                                       \r"
     ]
    },
    {
     "name": "stdout",
     "output_type": "stream",
     "text": [
      "MoviePy - Done.\n",
      "MoviePy - Writing video G:\\My Drive\\Gardening_2025\\Strategy_MIT\\Module_7 - AI and Leadership\\Videos\\combined.mp4\n",
      "\n"
     ]
    },
    {
     "name": "stderr",
     "output_type": "stream",
     "text": [
      "frame_index:   5%|▌         | 4238/83053 [17:38<6:13:34,  3.52it/s, now=None] z:\\My Documents\\AnacondaProjects\\.venv\\Lib\\site-packages\\moviepy\\video\\io\\ffmpeg_reader.py:190: UserWarning: In file G:\\My Drive\\Gardening_2025\\Strategy_MIT\\Module_7 - AI and Leadership\\Videos\\7.1 The Need for Adaptability.mp4, 6220800 bytes wanted but 0 bytes read at frame index 4237 (out of a total 4239 frames), at time 141.23/141.31 sec. Using the last valid frame instead.\n",
      "  warnings.warn(\n",
      "frame_index:   5%|▌         | 4239/83053 [17:39<7:03:03,  3.10it/s, now=None]z:\\My Documents\\AnacondaProjects\\.venv\\Lib\\site-packages\\moviepy\\video\\io\\ffmpeg_reader.py:190: UserWarning: In file G:\\My Drive\\Gardening_2025\\Strategy_MIT\\Module_7 - AI and Leadership\\Videos\\7.1 The Need for Adaptability.mp4, 6220800 bytes wanted but 0 bytes read at frame index 4238 (out of a total 4239 frames), at time 141.27/141.31 sec. Using the last valid frame instead.\n",
      "  warnings.warn(\n",
      "frame_index:   5%|▌         | 4240/83053 [17:39<7:01:12,  3.12it/s, now=None]z:\\My Documents\\AnacondaProjects\\.venv\\Lib\\site-packages\\moviepy\\video\\io\\ffmpeg_reader.py:190: UserWarning: In file G:\\My Drive\\Gardening_2025\\Strategy_MIT\\Module_7 - AI and Leadership\\Videos\\7.1 The Need for Adaptability.mp4, 6220800 bytes wanted but 0 bytes read at frame index 4239 (out of a total 4239 frames), at time 141.30/141.31 sec. Using the last valid frame instead.\n",
      "  warnings.warn(\n",
      "frame_index:  20%|██        | 16746/83053 [1:12:34<3:33:00,  5.19it/s, now=None] z:\\My Documents\\AnacondaProjects\\.venv\\Lib\\site-packages\\moviepy\\video\\io\\ffmpeg_reader.py:190: UserWarning: In file G:\\My Drive\\Gardening_2025\\Strategy_MIT\\Module_7 - AI and Leadership\\Videos\\7.2 Evolution of AI.mp4, 6220800 bytes wanted but 0 bytes read at frame index 12505 (out of a total 12507 frames), at time 416.83/416.92 sec. Using the last valid frame instead.\n",
      "  warnings.warn(\n",
      "frame_index:  20%|██        | 16747/83053 [1:12:34<3:27:18,  5.33it/s, now=None]z:\\My Documents\\AnacondaProjects\\.venv\\Lib\\site-packages\\moviepy\\video\\io\\ffmpeg_reader.py:190: UserWarning: In file G:\\My Drive\\Gardening_2025\\Strategy_MIT\\Module_7 - AI and Leadership\\Videos\\7.2 Evolution of AI.mp4, 6220800 bytes wanted but 0 bytes read at frame index 12506 (out of a total 12507 frames), at time 416.87/416.92 sec. Using the last valid frame instead.\n",
      "  warnings.warn(\n",
      "frame_index:  36%|███▌      | 29577/83053 [2:14:14<3:43:28,  3.99it/s, now=None] z:\\My Documents\\AnacondaProjects\\.venv\\Lib\\site-packages\\moviepy\\video\\io\\ffmpeg_reader.py:190: UserWarning: In file G:\\My Drive\\Gardening_2025\\Strategy_MIT\\Module_7 - AI and Leadership\\Videos\\7.3 AI Opportunities.mp4, 6220800 bytes wanted but 0 bytes read at frame index 12829 (out of a total 12830 frames), at time 427.63/427.69 sec. Using the last valid frame instead.\n",
      "  warnings.warn(\n",
      "frame_index:  36%|███▌      | 29578/83053 [2:14:14<3:44:24,  3.97it/s, now=None]z:\\My Documents\\AnacondaProjects\\.venv\\Lib\\site-packages\\moviepy\\video\\io\\ffmpeg_reader.py:190: UserWarning: In file G:\\My Drive\\Gardening_2025\\Strategy_MIT\\Module_7 - AI and Leadership\\Videos\\7.3 AI Opportunities.mp4, 6220800 bytes wanted but 0 bytes read at frame index 12830 (out of a total 12830 frames), at time 427.67/427.69 sec. Using the last valid frame instead.\n",
      "  warnings.warn(\n",
      "frame_index:  45%|████▌     | 37691/83053 [2:51:49<2:48:23,  4.49it/s, now=None] z:\\My Documents\\AnacondaProjects\\.venv\\Lib\\site-packages\\moviepy\\video\\io\\ffmpeg_reader.py:190: UserWarning: In file G:\\My Drive\\Gardening_2025\\Strategy_MIT\\Module_7 - AI and Leadership\\Videos\\7.4 Human and Artificial Intelligence.mp4, 6220800 bytes wanted but 0 bytes read at frame index 8112 (out of a total 8113 frames), at time 270.40/270.46 sec. Using the last valid frame instead.\n",
      "  warnings.warn(\n",
      "frame_index:  45%|████▌     | 37692/83053 [2:51:50<2:46:20,  4.55it/s, now=None]z:\\My Documents\\AnacondaProjects\\.venv\\Lib\\site-packages\\moviepy\\video\\io\\ffmpeg_reader.py:190: UserWarning: In file G:\\My Drive\\Gardening_2025\\Strategy_MIT\\Module_7 - AI and Leadership\\Videos\\7.4 Human and Artificial Intelligence.mp4, 6220800 bytes wanted but 0 bytes read at frame index 8113 (out of a total 8113 frames), at time 270.43/270.46 sec. Using the last valid frame instead.\n",
      "  warnings.warn(\n",
      "frame_index:  57%|█████▋    | 47389/83053 [3:33:42<1:55:30,  5.15it/s, now=None] z:\\My Documents\\AnacondaProjects\\.venv\\Lib\\site-packages\\moviepy\\video\\io\\ffmpeg_reader.py:190: UserWarning: In file G:\\My Drive\\Gardening_2025\\Strategy_MIT\\Module_7 - AI and Leadership\\Videos\\7.5 Role of AI with Examples.mp4, 6220800 bytes wanted but 0 bytes read at frame index 9696 (out of a total 9697 frames), at time 323.20/323.26 sec. Using the last valid frame instead.\n",
      "  warnings.warn(\n",
      "frame_index:  57%|█████▋    | 47390/83053 [3:33:42<2:21:28,  4.20it/s, now=None]z:\\My Documents\\AnacondaProjects\\.venv\\Lib\\site-packages\\moviepy\\video\\io\\ffmpeg_reader.py:190: UserWarning: In file G:\\My Drive\\Gardening_2025\\Strategy_MIT\\Module_7 - AI and Leadership\\Videos\\7.5 Role of AI with Examples.mp4, 6220800 bytes wanted but 0 bytes read at frame index 9697 (out of a total 9697 frames), at time 323.23/323.26 sec. Using the last valid frame instead.\n",
      "  warnings.warn(\n",
      "frame_index:  67%|██████▋   | 55733/83053 [4:02:27<1:30:12,  5.05it/s, now=None]z:\\My Documents\\AnacondaProjects\\.venv\\Lib\\site-packages\\moviepy\\video\\io\\ffmpeg_reader.py:190: UserWarning: In file G:\\My Drive\\Gardening_2025\\Strategy_MIT\\Module_7 - AI and Leadership\\Videos\\7.6 Putting AI to Work.mp4, 6220800 bytes wanted but 0 bytes read at frame index 8342 (out of a total 8344 frames), at time 278.07/278.14 sec. Using the last valid frame instead.\n",
      "  warnings.warn(\n",
      "frame_index:  67%|██████▋   | 55734/83053 [4:02:27<1:29:10,  5.11it/s, now=None]z:\\My Documents\\AnacondaProjects\\.venv\\Lib\\site-packages\\moviepy\\video\\io\\ffmpeg_reader.py:190: UserWarning: In file G:\\My Drive\\Gardening_2025\\Strategy_MIT\\Module_7 - AI and Leadership\\Videos\\7.6 Putting AI to Work.mp4, 6220800 bytes wanted but 0 bytes read at frame index 8343 (out of a total 8344 frames), at time 278.10/278.14 sec. Using the last valid frame instead.\n",
      "  warnings.warn(\n",
      "frame_index:  77%|███████▋  | 63901/83053 [4:31:26<1:03:27,  5.03it/s, now=None]z:\\My Documents\\AnacondaProjects\\.venv\\Lib\\site-packages\\moviepy\\video\\io\\ffmpeg_reader.py:190: UserWarning: In file G:\\My Drive\\Gardening_2025\\Strategy_MIT\\Module_7 - AI and Leadership\\Videos\\7.7 The Role of Big Data.mp4, 6220800 bytes wanted but 0 bytes read at frame index 8166 (out of a total 8168 frames), at time 272.20/272.28 sec. Using the last valid frame instead.\n",
      "  warnings.warn(\n",
      "frame_index:  77%|███████▋  | 63902/83053 [4:31:27<1:10:10,  4.55it/s, now=None]z:\\My Documents\\AnacondaProjects\\.venv\\Lib\\site-packages\\moviepy\\video\\io\\ffmpeg_reader.py:190: UserWarning: In file G:\\My Drive\\Gardening_2025\\Strategy_MIT\\Module_7 - AI and Leadership\\Videos\\7.7 The Role of Big Data.mp4, 6220800 bytes wanted but 0 bytes read at frame index 8167 (out of a total 8168 frames), at time 272.23/272.28 sec. Using the last valid frame instead.\n",
      "  warnings.warn(\n",
      "frame_index:  88%|████████▊ | 72822/83053 [5:03:02<34:19,  4.97it/s, now=None]  z:\\My Documents\\AnacondaProjects\\.venv\\Lib\\site-packages\\moviepy\\video\\io\\ffmpeg_reader.py:190: UserWarning: In file G:\\My Drive\\Gardening_2025\\Strategy_MIT\\Module_7 - AI and Leadership\\Videos\\7.8 Building a Nimble Organization.mp4, 6220800 bytes wanted but 0 bytes read at frame index 8919 (out of a total 8921 frames), at time 297.30/297.37 sec. Using the last valid frame instead.\n",
      "  warnings.warn(\n",
      "frame_index:  88%|████████▊ | 72823/83053 [5:03:03<34:35,  4.93it/s, now=None]z:\\My Documents\\AnacondaProjects\\.venv\\Lib\\site-packages\\moviepy\\video\\io\\ffmpeg_reader.py:190: UserWarning: In file G:\\My Drive\\Gardening_2025\\Strategy_MIT\\Module_7 - AI and Leadership\\Videos\\7.8 Building a Nimble Organization.mp4, 6220800 bytes wanted but 0 bytes read at frame index 8920 (out of a total 8921 frames), at time 297.33/297.37 sec. Using the last valid frame instead.\n",
      "  warnings.warn(\n",
      "frame_index: 100%|█████████▉| 83052/83053 [5:44:21<00:00,  3.70it/s, now=None]z:\\My Documents\\AnacondaProjects\\.venv\\Lib\\site-packages\\moviepy\\video\\io\\ffmpeg_reader.py:190: UserWarning: In file G:\\My Drive\\Gardening_2025\\Strategy_MIT\\Module_7 - AI and Leadership\\Videos\\7.9 Flexibility in Your Organization.mp4, 6220800 bytes wanted but 0 bytes read at frame index 10228 (out of a total 10230 frames), at time 340.93/341.01 sec. Using the last valid frame instead.\n",
      "  warnings.warn(\n",
      "frame_index: 100%|██████████| 83053/83053 [5:44:21<00:00,  3.70it/s, now=None]z:\\My Documents\\AnacondaProjects\\.venv\\Lib\\site-packages\\moviepy\\video\\io\\ffmpeg_reader.py:190: UserWarning: In file G:\\My Drive\\Gardening_2025\\Strategy_MIT\\Module_7 - AI and Leadership\\Videos\\7.9 Flexibility in Your Organization.mp4, 6220800 bytes wanted but 0 bytes read at frame index 10229 (out of a total 10230 frames), at time 340.97/341.01 sec. Using the last valid frame instead.\n",
      "  warnings.warn(\n",
      "                                                                              \r"
     ]
    },
    {
     "name": "stdout",
     "output_type": "stream",
     "text": [
      "MoviePy - Done !\n",
      "MoviePy - video ready G:\\My Drive\\Gardening_2025\\Strategy_MIT\\Module_7 - AI and Leadership\\Videos\\combined.mp4\n",
      "Combined video saved to: G:\\My Drive\\Gardening_2025\\Strategy_MIT\\Module_7 - AI and Leadership\\Videos\\combined.mp4\n",
      "Chapters file saved to: G:\\My Drive\\Gardening_2025\\Strategy_MIT\\Module_7 - AI and Leadership\\Videos\\chapters.txt\n",
      "Now run the following ffmpeg command to add chapters:\n",
      "ffmpeg -i \"G:\\My Drive\\Gardening_2025\\Strategy_MIT\\Module_7 - AI and Leadership\\Videos\\combined.mp4\" -i \"G:\\My Drive\\Gardening_2025\\Strategy_MIT\\Module_7 - AI and Leadership\\Videos\\chapters.txt\" -map_metadata 1 -codec copy \"G:\\My Drive\\Gardening_2025\\Strategy_MIT\\Module_7 - AI and Leadership\\Videos\\combined_with_chapters.mp4\"\n"
     ]
    },
    {
     "ename": "",
     "evalue": "",
     "output_type": "error",
     "traceback": [
      "\u001b[1;31mThe Kernel crashed while executing code in the current cell or a previous cell. \n",
      "\u001b[1;31mPlease review the code in the cell(s) to identify a possible cause of the failure. \n",
      "\u001b[1;31mClick <a href='https://aka.ms/vscodeJupyterKernelCrash'>here</a> for more info. \n",
      "\u001b[1;31mView Jupyter <a href='command:jupyter.viewOutput'>log</a> for further details."
     ]
    }
   ],
   "source": [
    "combine_mp4s_with_chapters(r\"G:\\My Drive\\Gardening_2025\\Strategy_MIT\\Module_8 - Architecting a Nimble Organization\\videos\")"
   ]
  }
 ],
 "metadata": {
  "kernelspec": {
   "display_name": ".venv (3.13.4)",
   "language": "python",
   "name": "python3"
  },
  "language_info": {
   "codemirror_mode": {
    "name": "ipython",
    "version": 3
   },
   "file_extension": ".py",
   "mimetype": "text/x-python",
   "name": "python",
   "nbconvert_exporter": "python",
   "pygments_lexer": "ipython3",
   "version": "3.13.4"
  }
 },
 "nbformat": 4,
 "nbformat_minor": 5
}
