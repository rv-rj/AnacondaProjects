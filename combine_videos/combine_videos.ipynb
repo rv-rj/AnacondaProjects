{
 "cells": [
  {
   "cell_type": "code",
   "execution_count": 4,
   "id": "d5873f03",
   "metadata": {},
   "outputs": [],
   "source": [
    "import os\n",
    "import re\n",
    "from moviepy import VideoFileClip, concatenate_videoclips\n",
    "\n",
    "def natural_key(s):\n",
    "    return [int(text) if text.isdigit() else text.lower() for text in re.split(r'(\\d+)', s)]\n",
    "\n",
    "def combine_mp4s_with_chapters(folder_path, output_name=\"combined.mp4\"):\n",
    "    # Get all MP4 files in the folder, sorted alphabetically\n",
    "    mp4_files = [f for f in os.listdir(folder_path) if f.lower().endswith('.mp4')]\n",
    "    mp4_files.sort(key=natural_key)\n",
    "    if not mp4_files:\n",
    "        print(\"No MP4 files found in the folder.\")\n",
    "        return\n",
    "\n",
    "    clips = []\n",
    "    chapter_times = []\n",
    "    current_time = 0\n",
    "    for mp4 in mp4_files:\n",
    "        clip = VideoFileClip(os.path.join(folder_path, mp4))\n",
    "        clips.append(clip)\n",
    "        chapter_times.append((current_time, os.path.splitext(mp4)[0]))\n",
    "        current_time += clip.duration\n",
    "\n",
    "    final_clip = concatenate_videoclips(clips, method=\"compose\")\n",
    "    output_path = os.path.join(folder_path, output_name)\n",
    "    final_clip.write_videofile(output_path, codec=\"libx264\", audio_codec=\"aac\")\n",
    "\n",
    "    # Write chapters file in ffmetadata format\n",
    "    chapters_path = os.path.join(folder_path, \"chapters.txt\")\n",
    "    with open(chapters_path, \"w\", encoding=\"utf-8\") as f:\n",
    "        f.write(\";FFMETADATA1\\n\")\n",
    "        for i, (start, title) in enumerate(chapter_times):\n",
    "            if i + 1 < len(chapter_times):\n",
    "                end = int(chapter_times[i+1][0])\n",
    "            else:\n",
    "                end = int(current_time)\n",
    "            f.write(\"[CHAPTER]\\n\")\n",
    "            f.write(\"TIMEBASE=1/1\\n\")\n",
    "            f.write(f\"START={int(start)}\\n\")\n",
    "            f.write(f\"END={end}\\n\")\n",
    "            f.write(f\"title={title}\\n\")\n",
    "\n",
    "    print(f\"Combined video saved to: {output_path}\")\n",
    "    print(f\"Chapters file saved to: {chapters_path}\")\n",
    "    print(\"Now run the following ffmpeg command to add chapters:\")\n",
    "\n",
    "    print(f'ffmpeg -i \"{output_path}\" -i \"{chapters_path}\" -map_metadata 1 -codec copy \"{output_path[:-4]}_with_chapters.mp4\"')\n",
    "\n",
    "# Example usage:\n",
    "# combine_mp4s_with_chapters(r\"C:\\path\\to\\your\\mp4_folder\")"
   ]
  },
  {
   "cell_type": "code",
   "execution_count": 5,
   "id": "b10b70b2",
   "metadata": {},
   "outputs": [
    {
     "name": "stdout",
     "output_type": "stream",
     "text": [
      "MoviePy - Building video G:\\My Drive\\Gardening_2025\\Strategy_MIT\\Module_5 - Understanding the Risks\\video\\combined.mp4.\n",
      "MoviePy - Writing audio in combinedTEMP_MPY_wvf_snd.mp4\n"
     ]
    },
    {
     "name": "stderr",
     "output_type": "stream",
     "text": [
      "                                                                       \r"
     ]
    },
    {
     "name": "stdout",
     "output_type": "stream",
     "text": [
      "MoviePy - Done.\n",
      "MoviePy - Writing video G:\\My Drive\\Gardening_2025\\Strategy_MIT\\Module_5 - Understanding the Risks\\video\\combined.mp4\n",
      "\n"
     ]
    },
    {
     "name": "stderr",
     "output_type": "stream",
     "text": [
      "frame_index:  11%|█         | 7214/64910 [32:35<2:55:54,  5.47it/s, now=None] z:\\My Documents\\AnacondaProjects\\.venv\\Lib\\site-packages\\moviepy\\video\\io\\ffmpeg_reader.py:190: UserWarning: In file G:\\My Drive\\Gardening_2025\\Strategy_MIT\\Module_5 - Understanding the Risks\\video\\5.1 Understanding the Risks.mp4, 6220800 bytes wanted but 0 bytes read at frame index 7213 (out of a total 7215 frames), at time 240.43/240.51 sec. Using the last valid frame instead.\n",
      "  warnings.warn(\n",
      "frame_index:  11%|█         | 7215/64910 [32:35<3:11:53,  5.01it/s, now=None]z:\\My Documents\\AnacondaProjects\\.venv\\Lib\\site-packages\\moviepy\\video\\io\\ffmpeg_reader.py:190: UserWarning: In file G:\\My Drive\\Gardening_2025\\Strategy_MIT\\Module_5 - Understanding the Risks\\video\\5.1 Understanding the Risks.mp4, 6220800 bytes wanted but 0 bytes read at frame index 7214 (out of a total 7215 frames), at time 240.47/240.51 sec. Using the last valid frame instead.\n",
      "  warnings.warn(\n",
      "frame_index:  11%|█         | 7216/64910 [32:35<3:02:28,  5.27it/s, now=None]z:\\My Documents\\AnacondaProjects\\.venv\\Lib\\site-packages\\moviepy\\video\\io\\ffmpeg_reader.py:190: UserWarning: In file G:\\My Drive\\Gardening_2025\\Strategy_MIT\\Module_5 - Understanding the Risks\\video\\5.1 Understanding the Risks.mp4, 6220800 bytes wanted but 0 bytes read at frame index 7215 (out of a total 7215 frames), at time 240.50/240.51 sec. Using the last valid frame instead.\n",
      "  warnings.warn(\n",
      "frame_index:  25%|██▍       | 15968/64910 [1:03:08<2:51:28,  4.76it/s, now=None]z:\\My Documents\\AnacondaProjects\\.venv\\Lib\\site-packages\\moviepy\\video\\io\\ffmpeg_reader.py:190: UserWarning: In file G:\\My Drive\\Gardening_2025\\Strategy_MIT\\Module_5 - Understanding the Risks\\video\\5.2 Big Data and Public Policy.mp4, 6220800 bytes wanted but 0 bytes read at frame index 8751 (out of a total 8752 frames), at time 291.70/291.75 sec. Using the last valid frame instead.\n",
      "  warnings.warn(\n",
      "frame_index:  34%|███▎      | 21817/64910 [1:25:48<2:54:04,  4.13it/s, now=None]z:\\My Documents\\AnacondaProjects\\.venv\\Lib\\site-packages\\moviepy\\video\\io\\ffmpeg_reader.py:190: UserWarning: In file G:\\My Drive\\Gardening_2025\\Strategy_MIT\\Module_5 - Understanding the Risks\\video\\5.3 Using Data for Good.mp4, 6220800 bytes wanted but 0 bytes read at frame index 5848 (out of a total 5849 frames), at time 194.93/194.99 sec. Using the last valid frame instead.\n",
      "  warnings.warn(\n",
      "frame_index:  34%|███▎      | 21818/64910 [1:25:48<3:06:23,  3.85it/s, now=None]z:\\My Documents\\AnacondaProjects\\.venv\\Lib\\site-packages\\moviepy\\video\\io\\ffmpeg_reader.py:190: UserWarning: In file G:\\My Drive\\Gardening_2025\\Strategy_MIT\\Module_5 - Understanding the Risks\\video\\5.3 Using Data for Good.mp4, 6220800 bytes wanted but 0 bytes read at frame index 5849 (out of a total 5849 frames), at time 194.97/194.99 sec. Using the last valid frame instead.\n",
      "  warnings.warn(\n",
      "frame_index:  39%|███▊      | 25080/64910 [1:37:04<2:08:38,  5.16it/s, now=None]z:\\My Documents\\AnacondaProjects\\.venv\\Lib\\site-packages\\moviepy\\video\\io\\ffmpeg_reader.py:190: UserWarning: In file G:\\My Drive\\Gardening_2025\\Strategy_MIT\\Module_5 - Understanding the Risks\\video\\5.4 Data Risks.mp4, 6220800 bytes wanted but 0 bytes read at frame index 3261 (out of a total 3262 frames), at time 108.70/108.76 sec. Using the last valid frame instead.\n",
      "  warnings.warn(\n",
      "frame_index:  39%|███▊      | 25081/64910 [1:37:04<2:13:21,  4.98it/s, now=None]z:\\My Documents\\AnacondaProjects\\.venv\\Lib\\site-packages\\moviepy\\video\\io\\ffmpeg_reader.py:190: UserWarning: In file G:\\My Drive\\Gardening_2025\\Strategy_MIT\\Module_5 - Understanding the Risks\\video\\5.4 Data Risks.mp4, 6220800 bytes wanted but 0 bytes read at frame index 3262 (out of a total 3262 frames), at time 108.73/108.76 sec. Using the last valid frame instead.\n",
      "  warnings.warn(\n",
      "frame_index:  43%|████▎     | 28118/64910 [1:47:35<1:59:56,  5.11it/s, now=None]z:\\My Documents\\AnacondaProjects\\.venv\\Lib\\site-packages\\moviepy\\video\\io\\ffmpeg_reader.py:190: UserWarning: In file G:\\My Drive\\Gardening_2025\\Strategy_MIT\\Module_5 - Understanding the Risks\\video\\5.5 Biased Data.mp4, 6220800 bytes wanted but 0 bytes read at frame index 3036 (out of a total 3038 frames), at time 101.20/101.27 sec. Using the last valid frame instead.\n",
      "  warnings.warn(\n",
      "frame_index:  43%|████▎     | 28119/64910 [1:47:36<1:59:01,  5.15it/s, now=None]z:\\My Documents\\AnacondaProjects\\.venv\\Lib\\site-packages\\moviepy\\video\\io\\ffmpeg_reader.py:190: UserWarning: In file G:\\My Drive\\Gardening_2025\\Strategy_MIT\\Module_5 - Understanding the Risks\\video\\5.5 Biased Data.mp4, 6220800 bytes wanted but 0 bytes read at frame index 3037 (out of a total 3038 frames), at time 101.23/101.27 sec. Using the last valid frame instead.\n",
      "  warnings.warn(\n",
      "frame_index:  51%|█████     | 32870/64910 [2:04:09<1:46:13,  5.03it/s, now=None]z:\\My Documents\\AnacondaProjects\\.venv\\Lib\\site-packages\\moviepy\\video\\io\\ffmpeg_reader.py:190: UserWarning: In file G:\\My Drive\\Gardening_2025\\Strategy_MIT\\Module_5 - Understanding the Risks\\video\\5.6 Examples of Bias Minimization.mp4, 6220800 bytes wanted but 0 bytes read at frame index 4750 (out of a total 4752 frames), at time 158.33/158.40 sec. Using the last valid frame instead.\n",
      "  warnings.warn(\n",
      "frame_index:  51%|█████     | 32871/64910 [2:04:09<1:50:24,  4.84it/s, now=None]z:\\My Documents\\AnacondaProjects\\.venv\\Lib\\site-packages\\moviepy\\video\\io\\ffmpeg_reader.py:190: UserWarning: In file G:\\My Drive\\Gardening_2025\\Strategy_MIT\\Module_5 - Understanding the Risks\\video\\5.6 Examples of Bias Minimization.mp4, 6220800 bytes wanted but 0 bytes read at frame index 4751 (out of a total 4752 frames), at time 158.37/158.40 sec. Using the last valid frame instead.\n",
      "  warnings.warn(\n",
      "frame_index:  67%|██████▋   | 43587/64910 [2:42:48<1:14:52,  4.75it/s, now=None]z:\\My Documents\\AnacondaProjects\\.venv\\Lib\\site-packages\\moviepy\\video\\io\\ffmpeg_reader.py:190: UserWarning: In file G:\\My Drive\\Gardening_2025\\Strategy_MIT\\Module_5 - Understanding the Risks\\video\\5.7 Diversity in Decision-Making.mp4, 6220800 bytes wanted but 0 bytes read at frame index 10715 (out of a total 10716 frames), at time 357.17/357.23 sec. Using the last valid frame instead.\n",
      "  warnings.warn(\n",
      "frame_index:  67%|██████▋   | 43588/64910 [2:42:48<1:15:16,  4.72it/s, now=None]z:\\My Documents\\AnacondaProjects\\.venv\\Lib\\site-packages\\moviepy\\video\\io\\ffmpeg_reader.py:190: UserWarning: In file G:\\My Drive\\Gardening_2025\\Strategy_MIT\\Module_5 - Understanding the Risks\\video\\5.7 Diversity in Decision-Making.mp4, 6220800 bytes wanted but 0 bytes read at frame index 10716 (out of a total 10716 frames), at time 357.20/357.23 sec. Using the last valid frame instead.\n",
      "  warnings.warn(\n",
      "frame_index:  75%|███████▌  | 48760/64910 [3:01:31<56:30,  4.76it/s, now=None]  z:\\My Documents\\AnacondaProjects\\.venv\\Lib\\site-packages\\moviepy\\video\\io\\ffmpeg_reader.py:190: UserWarning: In file G:\\My Drive\\Gardening_2025\\Strategy_MIT\\Module_5 - Understanding the Risks\\video\\5.8 Robust Data Governance.mp4, 6220800 bytes wanted but 0 bytes read at frame index 5171 (out of a total 5173 frames), at time 172.37/172.44 sec. Using the last valid frame instead.\n",
      "  warnings.warn(\n",
      "frame_index:  75%|███████▌  | 48761/64910 [3:01:31<57:40,  4.67it/s, now=None]z:\\My Documents\\AnacondaProjects\\.venv\\Lib\\site-packages\\moviepy\\video\\io\\ffmpeg_reader.py:190: UserWarning: In file G:\\My Drive\\Gardening_2025\\Strategy_MIT\\Module_5 - Understanding the Risks\\video\\5.8 Robust Data Governance.mp4, 6220800 bytes wanted but 0 bytes read at frame index 5172 (out of a total 5173 frames), at time 172.40/172.44 sec. Using the last valid frame instead.\n",
      "  warnings.warn(\n",
      "frame_index:  79%|███████▉  | 51147/64910 [3:10:18<50:00,  4.59it/s, now=None]  z:\\My Documents\\AnacondaProjects\\.venv\\Lib\\site-packages\\moviepy\\video\\io\\ffmpeg_reader.py:190: UserWarning: In file G:\\My Drive\\Gardening_2025\\Strategy_MIT\\Module_5 - Understanding the Risks\\video\\5.9 Policy and Regulation of AI.mp4, 6220800 bytes wanted but 0 bytes read at frame index 2385 (out of a total 2386 frames), at time 79.50/79.55 sec. Using the last valid frame instead.\n",
      "  warnings.warn(\n",
      "frame_index:  88%|████████▊ | 57213/64910 [3:32:56<27:10,  4.72it/s, now=None]z:\\My Documents\\AnacondaProjects\\.venv\\Lib\\site-packages\\moviepy\\video\\io\\ffmpeg_reader.py:190: UserWarning: In file G:\\My Drive\\Gardening_2025\\Strategy_MIT\\Module_5 - Understanding the Risks\\video\\5.10 Public Responsible AI Initiatives.mp4, 6220800 bytes wanted but 0 bytes read at frame index 6065 (out of a total 6067 frames), at time 202.17/202.24 sec. Using the last valid frame instead.\n",
      "  warnings.warn(\n",
      "frame_index:  88%|████████▊ | 57214/64910 [3:32:56<27:11,  4.72it/s, now=None]z:\\My Documents\\AnacondaProjects\\.venv\\Lib\\site-packages\\moviepy\\video\\io\\ffmpeg_reader.py:190: UserWarning: In file G:\\My Drive\\Gardening_2025\\Strategy_MIT\\Module_5 - Understanding the Risks\\video\\5.10 Public Responsible AI Initiatives.mp4, 6220800 bytes wanted but 0 bytes read at frame index 6066 (out of a total 6067 frames), at time 202.20/202.24 sec. Using the last valid frame instead.\n",
      "  warnings.warn(\n",
      "frame_index:  88%|████████▊ | 57215/64910 [3:32:56<26:47,  4.79it/s, now=None]z:\\My Documents\\AnacondaProjects\\.venv\\Lib\\site-packages\\moviepy\\video\\io\\ffmpeg_reader.py:190: UserWarning: In file G:\\My Drive\\Gardening_2025\\Strategy_MIT\\Module_5 - Understanding the Risks\\video\\5.10 Public Responsible AI Initiatives.mp4, 6220800 bytes wanted but 0 bytes read at frame index 6067 (out of a total 6067 frames), at time 202.23/202.24 sec. Using the last valid frame instead.\n",
      "  warnings.warn(\n",
      "                                                                              \r"
     ]
    },
    {
     "name": "stdout",
     "output_type": "stream",
     "text": [
      "MoviePy - Done !\n",
      "MoviePy - video ready G:\\My Drive\\Gardening_2025\\Strategy_MIT\\Module_5 - Understanding the Risks\\video\\combined.mp4\n",
      "Combined video saved to: G:\\My Drive\\Gardening_2025\\Strategy_MIT\\Module_5 - Understanding the Risks\\video\\combined.mp4\n",
      "Chapters file saved to: G:\\My Drive\\Gardening_2025\\Strategy_MIT\\Module_5 - Understanding the Risks\\video\\chapters.txt\n",
      "Now run the following ffmpeg command to add chapters:\n",
      "ffmpeg -i \"G:\\My Drive\\Gardening_2025\\Strategy_MIT\\Module_5 - Understanding the Risks\\video\\combined.mp4\" -i \"G:\\My Drive\\Gardening_2025\\Strategy_MIT\\Module_5 - Understanding the Risks\\video\\chapters.txt\" -map_metadata 1 -codec copy \"G:\\My Drive\\Gardening_2025\\Strategy_MIT\\Module_5 - Understanding the Risks\\video\\combined_with_chapters.mp4\"\n"
     ]
    }
   ],
   "source": [
    "combine_mp4s_with_chapters(r\"G:\\My Drive\\Gardening_2025\\Strategy_MIT\\Module_5 - Understanding the Risks\\video\")"
   ]
  }
 ],
 "metadata": {
  "kernelspec": {
   "display_name": ".venv (3.13.4)",
   "language": "python",
   "name": "python3"
  },
  "language_info": {
   "codemirror_mode": {
    "name": "ipython",
    "version": 3
   },
   "file_extension": ".py",
   "mimetype": "text/x-python",
   "name": "python",
   "nbconvert_exporter": "python",
   "pygments_lexer": "ipython3",
   "version": "3.13.4"
  }
 },
 "nbformat": 4,
 "nbformat_minor": 5
}
