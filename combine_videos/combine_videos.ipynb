{
 "cells": [
  {
   "cell_type": "code",
   "execution_count": 1,
   "id": "d5873f03",
   "metadata": {},
   "outputs": [],
   "source": [
    "import os\n",
    "import re\n",
    "from moviepy import VideoFileClip, concatenate_videoclips\n",
    "\n",
    "def natural_key(s):\n",
    "    return [int(text) if text.isdigit() else text.lower() for text in re.split(r'(\\d+)', s)]\n",
    "\n",
    "def combine_mp4s_with_chapters(folder_path, output_name=\"combined.mp4\"):\n",
    "    # Get all MP4 files in the folder, sorted alphabetically\n",
    "    mp4_files = [f for f in os.listdir(folder_path) if f.lower().endswith('.mp4')]\n",
    "    mp4_files.sort(key=natural_key)\n",
    "    if not mp4_files:\n",
    "        print(\"No MP4 files found in the folder.\")\n",
    "        return\n",
    "\n",
    "    clips = []\n",
    "    chapter_times = []\n",
    "    current_time = 0\n",
    "    for mp4 in mp4_files:\n",
    "        clip = VideoFileClip(os.path.join(folder_path, mp4))\n",
    "        clips.append(clip)\n",
    "        chapter_times.append((current_time, os.path.splitext(mp4)[0]))\n",
    "        current_time += clip.duration\n",
    "\n",
    "    final_clip = concatenate_videoclips(clips, method=\"compose\")\n",
    "    output_path = os.path.join(folder_path, output_name)\n",
    "    final_clip.write_videofile(output_path, codec=\"libx264\", audio_codec=\"aac\")\n",
    "\n",
    "    # Write chapters file in ffmetadata format\n",
    "    chapters_path = os.path.join(folder_path, \"chapters.txt\")\n",
    "    with open(chapters_path, \"w\", encoding=\"utf-8\") as f:\n",
    "        f.write(\";FFMETADATA1\\n\")\n",
    "        for i, (start, title) in enumerate(chapter_times):\n",
    "            if i + 1 < len(chapter_times):\n",
    "                end = int(chapter_times[i+1][0])\n",
    "            else:\n",
    "                end = int(current_time)\n",
    "            f.write(\"[CHAPTER]\\n\")\n",
    "            f.write(\"TIMEBASE=1/1\\n\")\n",
    "            f.write(f\"START={int(start)}\\n\")\n",
    "            f.write(f\"END={end}\\n\")\n",
    "            f.write(f\"title={title}\\n\")\n",
    "\n",
    "    print(f\"Combined video saved to: {output_path}\")\n",
    "    print(f\"Chapters file saved to: {chapters_path}\")\n",
    "    print(\"Now run the following ffmpeg command to add chapters:\")\n",
    "\n",
    "    print(f'ffmpeg -i \"{output_path}\" -i \"{chapters_path}\" -map_metadata 1 -codec copy \"{output_path[:-4]}_with_chapters.mp4\"')\n",
    "\n",
    "# Example usage:\n",
    "# combine_mp4s_with_chapters(r\"C:\\path\\to\\your\\mp4_folder\")"
   ]
  },
  {
   "cell_type": "code",
   "execution_count": 2,
   "id": "b10b70b2",
   "metadata": {},
   "outputs": [
    {
     "name": "stdout",
     "output_type": "stream",
     "text": [
      "MoviePy - Building video G:\\My Drive\\Gardening_2025\\Strategy_MIT\\Module_3 - Data Strategy\\videos\\combined.mp4.\n",
      "MoviePy - Writing audio in combinedTEMP_MPY_wvf_snd.mp4\n"
     ]
    },
    {
     "name": "stderr",
     "output_type": "stream",
     "text": [
      "                                                                       \r"
     ]
    },
    {
     "name": "stdout",
     "output_type": "stream",
     "text": [
      "MoviePy - Done.\n",
      "MoviePy - Writing video G:\\My Drive\\Gardening_2025\\Strategy_MIT\\Module_3 - Data Strategy\\videos\\combined.mp4\n",
      "\n"
     ]
    },
    {
     "name": "stderr",
     "output_type": "stream",
     "text": [
      "frame_index:   5%|▍         | 4050/82668 [12:27<3:32:47,  6.16it/s, now=None]z:\\My Documents\\AnacondaProjects\\.venv\\Lib\\site-packages\\moviepy\\video\\io\\ffmpeg_reader.py:190: UserWarning: In file G:\\My Drive\\Gardening_2025\\Strategy_MIT\\Module_3 - Data Strategy\\videos\\3.1 Data Quality.mp4, 6220800 bytes wanted but 0 bytes read at frame index 4047 (out of a total 4048 frames), at time 134.90/134.95 sec. Using the last valid frame instead.\n",
      "  warnings.warn(\n",
      "frame_index:  10%|▉         | 7914/82668 [24:01<3:42:17,  5.60it/s, now=None]z:\\My Documents\\AnacondaProjects\\.venv\\Lib\\site-packages\\moviepy\\video\\io\\ffmpeg_reader.py:190: UserWarning: In file G:\\My Drive\\Gardening_2025\\Strategy_MIT\\Module_3 - Data Strategy\\videos\\3.2 Managing Missing Data with Confidence.mp4, 6220800 bytes wanted but 0 bytes read at frame index 3861 (out of a total 3862 frames), at time 128.70/128.75 sec. Using the last valid frame instead.\n",
      "  warnings.warn(\n",
      "frame_index:  17%|█▋        | 13916/82668 [44:47<3:03:59,  6.23it/s, now=None]z:\\My Documents\\AnacondaProjects\\.venv\\Lib\\site-packages\\moviepy\\video\\io\\ffmpeg_reader.py:190: UserWarning: In file G:\\My Drive\\Gardening_2025\\Strategy_MIT\\Module_3 - Data Strategy\\videos\\3.3 Insights from Hidden Data.mp4, 6220800 bytes wanted but 0 bytes read at frame index 5999 (out of a total 6000 frames), at time 199.97/200.02 sec. Using the last valid frame instead.\n",
      "  warnings.warn(\n",
      "frame_index:  17%|█▋        | 13917/82668 [44:47<2:59:23,  6.39it/s, now=None]z:\\My Documents\\AnacondaProjects\\.venv\\Lib\\site-packages\\moviepy\\video\\io\\ffmpeg_reader.py:190: UserWarning: In file G:\\My Drive\\Gardening_2025\\Strategy_MIT\\Module_3 - Data Strategy\\videos\\3.3 Insights from Hidden Data.mp4, 6220800 bytes wanted but 0 bytes read at frame index 6000 (out of a total 6000 frames), at time 200.00/200.02 sec. Using the last valid frame instead.\n",
      "  warnings.warn(\n",
      "frame_index:  20%|██        | 16763/82668 [52:41<2:52:55,  6.35it/s, now=None]z:\\My Documents\\AnacondaProjects\\.venv\\Lib\\site-packages\\moviepy\\video\\io\\ffmpeg_reader.py:190: UserWarning: In file G:\\My Drive\\Gardening_2025\\Strategy_MIT\\Module_3 - Data Strategy\\videos\\3.4 Hidden Data in your Organization.mp4, 6220800 bytes wanted but 0 bytes read at frame index 2844 (out of a total 2846 frames), at time 94.80/94.87 sec. Using the last valid frame instead.\n",
      "  warnings.warn(\n",
      "frame_index:  20%|██        | 16764/82668 [52:41<2:50:39,  6.44it/s, now=None]z:\\My Documents\\AnacondaProjects\\.venv\\Lib\\site-packages\\moviepy\\video\\io\\ffmpeg_reader.py:190: UserWarning: In file G:\\My Drive\\Gardening_2025\\Strategy_MIT\\Module_3 - Data Strategy\\videos\\3.4 Hidden Data in your Organization.mp4, 6220800 bytes wanted but 0 bytes read at frame index 2845 (out of a total 2846 frames), at time 94.83/94.87 sec. Using the last valid frame instead.\n",
      "  warnings.warn(\n",
      "frame_index:  25%|██▌       | 20724/82668 [1:04:05<3:04:03,  5.61it/s, now=None]z:\\My Documents\\AnacondaProjects\\.venv\\Lib\\site-packages\\moviepy\\video\\io\\ffmpeg_reader.py:190: UserWarning: In file G:\\My Drive\\Gardening_2025\\Strategy_MIT\\Module_3 - Data Strategy\\videos\\3.5 Wellcome Leaps Data Strategy.mp4, 6220800 bytes wanted but 0 bytes read at frame index 3958 (out of a total 3959 frames), at time 131.93/131.99 sec. Using the last valid frame instead.\n",
      "  warnings.warn(\n",
      "frame_index:  25%|██▌       | 20725/82668 [1:04:05<3:03:37,  5.62it/s, now=None]z:\\My Documents\\AnacondaProjects\\.venv\\Lib\\site-packages\\moviepy\\video\\io\\ffmpeg_reader.py:190: UserWarning: In file G:\\My Drive\\Gardening_2025\\Strategy_MIT\\Module_3 - Data Strategy\\videos\\3.5 Wellcome Leaps Data Strategy.mp4, 6220800 bytes wanted but 0 bytes read at frame index 3959 (out of a total 3959 frames), at time 131.97/131.99 sec. Using the last valid frame instead.\n",
      "  warnings.warn(\n",
      "frame_index:  33%|███▎      | 27154/82668 [1:22:48<2:38:43,  5.83it/s, now=None]z:\\My Documents\\AnacondaProjects\\.venv\\Lib\\site-packages\\moviepy\\video\\io\\ffmpeg_reader.py:190: UserWarning: In file G:\\My Drive\\Gardening_2025\\Strategy_MIT\\Module_3 - Data Strategy\\videos\\3.6 Considerations when Analyzing Data.mp4, 6220800 bytes wanted but 0 bytes read at frame index 6426 (out of a total 6428 frames), at time 214.20/214.27 sec. Using the last valid frame instead.\n",
      "  warnings.warn(\n",
      "frame_index:  33%|███▎      | 27155/82668 [1:22:49<2:36:29,  5.91it/s, now=None]z:\\My Documents\\AnacondaProjects\\.venv\\Lib\\site-packages\\moviepy\\video\\io\\ffmpeg_reader.py:190: UserWarning: In file G:\\My Drive\\Gardening_2025\\Strategy_MIT\\Module_3 - Data Strategy\\videos\\3.6 Considerations when Analyzing Data.mp4, 6220800 bytes wanted but 0 bytes read at frame index 6427 (out of a total 6428 frames), at time 214.23/214.27 sec. Using the last valid frame instead.\n",
      "  warnings.warn(\n",
      "frame_index:  36%|███▌      | 29569/82668 [1:29:52<2:31:00,  5.86it/s, now=None]z:\\My Documents\\AnacondaProjects\\.venv\\Lib\\site-packages\\moviepy\\video\\io\\ffmpeg_reader.py:190: UserWarning: In file G:\\My Drive\\Gardening_2025\\Strategy_MIT\\Module_3 - Data Strategy\\videos\\3.7 When to Reevaluate Data Strategies.mp4, 6220800 bytes wanted but 0 bytes read at frame index 2412 (out of a total 2414 frames), at time 80.40/80.47 sec. Using the last valid frame instead.\n",
      "  warnings.warn(\n",
      "frame_index:  36%|███▌      | 29570/82668 [1:29:52<2:27:33,  6.00it/s, now=None]z:\\My Documents\\AnacondaProjects\\.venv\\Lib\\site-packages\\moviepy\\video\\io\\ffmpeg_reader.py:190: UserWarning: In file G:\\My Drive\\Gardening_2025\\Strategy_MIT\\Module_3 - Data Strategy\\videos\\3.7 When to Reevaluate Data Strategies.mp4, 6220800 bytes wanted but 0 bytes read at frame index 2413 (out of a total 2414 frames), at time 80.43/80.47 sec. Using the last valid frame instead.\n",
      "  warnings.warn(\n",
      "frame_index:  41%|████      | 33644/82668 [1:41:48<2:19:38,  5.85it/s, now=None]z:\\My Documents\\AnacondaProjects\\.venv\\Lib\\site-packages\\moviepy\\video\\io\\ffmpeg_reader.py:190: UserWarning: In file G:\\My Drive\\Gardening_2025\\Strategy_MIT\\Module_3 - Data Strategy\\videos\\3.8 Using Data and Organization Efficiencies.mp4, 6220800 bytes wanted but 0 bytes read at frame index 4072 (out of a total 4073 frames), at time 135.73/135.79 sec. Using the last valid frame instead.\n",
      "  warnings.warn(\n",
      "frame_index:  41%|████      | 33645/82668 [1:41:49<2:17:17,  5.95it/s, now=None]z:\\My Documents\\AnacondaProjects\\.venv\\Lib\\site-packages\\moviepy\\video\\io\\ffmpeg_reader.py:190: UserWarning: In file G:\\My Drive\\Gardening_2025\\Strategy_MIT\\Module_3 - Data Strategy\\videos\\3.8 Using Data and Organization Efficiencies.mp4, 6220800 bytes wanted but 0 bytes read at frame index 4073 (out of a total 4073 frames), at time 135.77/135.79 sec. Using the last valid frame instead.\n",
      "  warnings.warn(\n",
      "frame_index:  47%|████▋     | 39238/82668 [1:58:59<2:07:50,  5.66it/s, now=None]z:\\My Documents\\AnacondaProjects\\.venv\\Lib\\site-packages\\moviepy\\video\\io\\ffmpeg_reader.py:190: UserWarning: In file G:\\My Drive\\Gardening_2025\\Strategy_MIT\\Module_3 - Data Strategy\\videos\\3.9 Identifying Resources.mp4, 6220800 bytes wanted but 0 bytes read at frame index 5590 (out of a total 5591 frames), at time 186.33/186.39 sec. Using the last valid frame instead.\n",
      "  warnings.warn(\n",
      "frame_index:  47%|████▋     | 39239/82668 [1:59:00<2:05:17,  5.78it/s, now=None]z:\\My Documents\\AnacondaProjects\\.venv\\Lib\\site-packages\\moviepy\\video\\io\\ffmpeg_reader.py:190: UserWarning: In file G:\\My Drive\\Gardening_2025\\Strategy_MIT\\Module_3 - Data Strategy\\videos\\3.9 Identifying Resources.mp4, 6220800 bytes wanted but 0 bytes read at frame index 5591 (out of a total 5591 frames), at time 186.37/186.39 sec. Using the last valid frame instead.\n",
      "  warnings.warn(\n",
      "frame_index:  53%|█████▎    | 44099/82668 [2:13:20<1:52:08,  5.73it/s, now=None]z:\\My Documents\\AnacondaProjects\\.venv\\Lib\\site-packages\\moviepy\\video\\io\\ffmpeg_reader.py:190: UserWarning: In file G:\\My Drive\\Gardening_2025\\Strategy_MIT\\Module_3 - Data Strategy\\videos\\3.10 Cultivating a Data-Driven Culture.mp4, 6220800 bytes wanted but 0 bytes read at frame index 4859 (out of a total 4863 frames), at time 161.91/162.07 sec. Using the last valid frame instead.\n",
      "  warnings.warn(\n",
      "frame_index:  53%|█████▎    | 44100/82668 [2:13:20<1:49:53,  5.85it/s, now=None]z:\\My Documents\\AnacondaProjects\\.venv\\Lib\\site-packages\\moviepy\\video\\io\\ffmpeg_reader.py:190: UserWarning: In file G:\\My Drive\\Gardening_2025\\Strategy_MIT\\Module_3 - Data Strategy\\videos\\3.10 Cultivating a Data-Driven Culture.mp4, 6220800 bytes wanted but 0 bytes read at frame index 4860 (out of a total 4863 frames), at time 161.95/162.07 sec. Using the last valid frame instead.\n",
      "  warnings.warn(\n",
      "frame_index:  53%|█████▎    | 44101/82668 [2:13:20<1:48:57,  5.90it/s, now=None]z:\\My Documents\\AnacondaProjects\\.venv\\Lib\\site-packages\\moviepy\\video\\io\\ffmpeg_reader.py:190: UserWarning: In file G:\\My Drive\\Gardening_2025\\Strategy_MIT\\Module_3 - Data Strategy\\videos\\3.10 Cultivating a Data-Driven Culture.mp4, 6220800 bytes wanted but 0 bytes read at frame index 4861 (out of a total 4863 frames), at time 161.98/162.07 sec. Using the last valid frame instead.\n",
      "  warnings.warn(\n",
      "frame_index:  53%|█████▎    | 44102/82668 [2:13:20<1:49:33,  5.87it/s, now=None]z:\\My Documents\\AnacondaProjects\\.venv\\Lib\\site-packages\\moviepy\\video\\io\\ffmpeg_reader.py:190: UserWarning: In file G:\\My Drive\\Gardening_2025\\Strategy_MIT\\Module_3 - Data Strategy\\videos\\3.10 Cultivating a Data-Driven Culture.mp4, 6220800 bytes wanted but 0 bytes read at frame index 4862 (out of a total 4863 frames), at time 162.01/162.07 sec. Using the last valid frame instead.\n",
      "  warnings.warn(\n",
      "frame_index:  67%|██████▋   | 55396/82668 [2:47:03<1:19:40,  5.70it/s, now=None]z:\\My Documents\\AnacondaProjects\\.venv\\Lib\\site-packages\\moviepy\\video\\io\\ffmpeg_reader.py:190: UserWarning: In file G:\\My Drive\\Gardening_2025\\Strategy_MIT\\Module_3 - Data Strategy\\videos\\3.11 Data Prediction and Impact.mp4, 6220800 bytes wanted but 0 bytes read at frame index 11289 (out of a total 11290 frames), at time 376.30/376.34 sec. Using the last valid frame instead.\n",
      "  warnings.warn(\n",
      "frame_index:  78%|███████▊  | 64692/82668 [3:14:53<51:49,  5.78it/s, now=None]  z:\\My Documents\\AnacondaProjects\\.venv\\Lib\\site-packages\\moviepy\\video\\io\\ffmpeg_reader.py:190: UserWarning: In file G:\\My Drive\\Gardening_2025\\Strategy_MIT\\Module_3 - Data Strategy\\videos\\3.12 Interpretability of Data.mp4, 6220800 bytes wanted but 0 bytes read at frame index 9292 (out of a total 9293 frames), at time 309.73/309.78 sec. Using the last valid frame instead.\n",
      "  warnings.warn(\n",
      "frame_index:  78%|███████▊  | 64693/82668 [3:14:54<51:16,  5.84it/s, now=None]z:\\My Documents\\AnacondaProjects\\.venv\\Lib\\site-packages\\moviepy\\video\\io\\ffmpeg_reader.py:190: UserWarning: In file G:\\My Drive\\Gardening_2025\\Strategy_MIT\\Module_3 - Data Strategy\\videos\\3.12 Interpretability of Data.mp4, 6220800 bytes wanted but 0 bytes read at frame index 9293 (out of a total 9293 frames), at time 309.77/309.78 sec. Using the last valid frame instead.\n",
      "  warnings.warn(\n",
      "frame_index:  87%|████████▋ | 72284/82668 [3:37:38<30:30,  5.67it/s, now=None]z:\\My Documents\\AnacondaProjects\\.venv\\Lib\\site-packages\\moviepy\\video\\io\\ffmpeg_reader.py:190: UserWarning: In file G:\\My Drive\\Gardening_2025\\Strategy_MIT\\Module_3 - Data Strategy\\videos\\3.13 Data-Driven Decision-Making.mp4, 6220800 bytes wanted but 0 bytes read at frame index 7588 (out of a total 7589 frames), at time 252.93/252.99 sec. Using the last valid frame instead.\n",
      "  warnings.warn(\n",
      "frame_index:  87%|████████▋ | 72285/82668 [3:37:38<30:13,  5.73it/s, now=None]z:\\My Documents\\AnacondaProjects\\.venv\\Lib\\site-packages\\moviepy\\video\\io\\ffmpeg_reader.py:190: UserWarning: In file G:\\My Drive\\Gardening_2025\\Strategy_MIT\\Module_3 - Data Strategy\\videos\\3.13 Data-Driven Decision-Making.mp4, 6220800 bytes wanted but 0 bytes read at frame index 7589 (out of a total 7589 frames), at time 252.97/252.99 sec. Using the last valid frame instead.\n",
      "  warnings.warn(\n",
      "frame_index: 100%|██████████| 82668/82668 [4:08:49<00:00,  5.65it/s, now=None]z:\\My Documents\\AnacondaProjects\\.venv\\Lib\\site-packages\\moviepy\\video\\io\\ffmpeg_reader.py:190: UserWarning: In file G:\\My Drive\\Gardening_2025\\Strategy_MIT\\Module_3 - Data Strategy\\videos\\3.14 Extracting Value from Collected Data.mp4, 6220800 bytes wanted but 0 bytes read at frame index 10379 (out of a total 10380 frames), at time 345.97/346.03 sec. Using the last valid frame instead.\n",
      "  warnings.warn(\n",
      "                                                                              \r"
     ]
    },
    {
     "name": "stdout",
     "output_type": "stream",
     "text": [
      "MoviePy - Done !\n",
      "MoviePy - video ready G:\\My Drive\\Gardening_2025\\Strategy_MIT\\Module_3 - Data Strategy\\videos\\combined.mp4\n",
      "Combined video saved to: G:\\My Drive\\Gardening_2025\\Strategy_MIT\\Module_3 - Data Strategy\\videos\\combined.mp4\n",
      "Chapters file saved to: G:\\My Drive\\Gardening_2025\\Strategy_MIT\\Module_3 - Data Strategy\\videos\\chapters.txt\n",
      "Now run the following ffmpeg command to add chapters:\n",
      "ffmpeg -i \"G:\\My Drive\\Gardening_2025\\Strategy_MIT\\Module_3 - Data Strategy\\videos\\combined.mp4\" -i \"G:\\My Drive\\Gardening_2025\\Strategy_MIT\\Module_3 - Data Strategy\\videos\\chapters.txt\" -map_metadata 1 -codec copy \"G:\\My Drive\\Gardening_2025\\Strategy_MIT\\Module_3 - Data Strategy\\videos\\combined_with_chapters.mp4\"\n"
     ]
    }
   ],
   "source": [
    "combine_mp4s_with_chapters(r\"G:\\My Drive\\Gardening_2025\\Strategy_MIT\\Module_3 - Data Strategy\\videos\")"
   ]
  }
 ],
 "metadata": {
  "kernelspec": {
   "display_name": ".venv",
   "language": "python",
   "name": "python3"
  },
  "language_info": {
   "codemirror_mode": {
    "name": "ipython",
    "version": 3
   },
   "file_extension": ".py",
   "mimetype": "text/x-python",
   "name": "python",
   "nbconvert_exporter": "python",
   "pygments_lexer": "ipython3",
   "version": "3.13.4"
  }
 },
 "nbformat": 4,
 "nbformat_minor": 5
}
