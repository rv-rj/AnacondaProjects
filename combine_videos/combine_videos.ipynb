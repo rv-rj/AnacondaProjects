{
 "cells": [
  {
   "cell_type": "code",
   "execution_count": 1,
   "id": "d5873f03",
   "metadata": {},
   "outputs": [],
   "source": [
    "import os\n",
    "import re\n",
    "from moviepy import VideoFileClip, concatenate_videoclips\n",
    "\n",
    "def natural_key(s):\n",
    "    return [int(text) if text.isdigit() else text.lower() for text in re.split(r'(\\d+)', s)]\n",
    "\n",
    "def combine_mp4s_with_chapters(folder_path, output_name=\"combined.mp4\"):\n",
    "    # Get all MP4 files in the folder, sorted alphabetically\n",
    "    mp4_files = [f for f in os.listdir(folder_path) if f.lower().endswith('.mp4')]\n",
    "    mp4_files.sort(key=natural_key)\n",
    "    if not mp4_files:\n",
    "        print(\"No MP4 files found in the folder.\")\n",
    "        return\n",
    "\n",
    "    clips = []\n",
    "    chapter_times = []\n",
    "    current_time = 0\n",
    "    for mp4 in mp4_files:\n",
    "        clip = VideoFileClip(os.path.join(folder_path, mp4))\n",
    "        clips.append(clip)\n",
    "        chapter_times.append((current_time, os.path.splitext(mp4)[0]))\n",
    "        current_time += clip.duration\n",
    "\n",
    "    final_clip = concatenate_videoclips(clips, method=\"compose\")\n",
    "    output_path = os.path.join(folder_path, output_name)\n",
    "    final_clip.write_videofile(output_path, codec=\"libx264\", audio_codec=\"aac\")\n",
    "\n",
    "    # Write chapters file in ffmetadata format\n",
    "    chapters_path = os.path.join(folder_path, \"chapters.txt\")\n",
    "    with open(chapters_path, \"w\", encoding=\"utf-8\") as f:\n",
    "        f.write(\";FFMETADATA1\\n\")\n",
    "        for i, (start, title) in enumerate(chapter_times):\n",
    "            if i + 1 < len(chapter_times):\n",
    "                end = int(chapter_times[i+1][0])\n",
    "            else:\n",
    "                end = int(current_time)\n",
    "            f.write(\"[CHAPTER]\\n\")\n",
    "            f.write(\"TIMEBASE=1/1\\n\")\n",
    "            f.write(f\"START={int(start)}\\n\")\n",
    "            f.write(f\"END={end}\\n\")\n",
    "            f.write(f\"title={title}\\n\")\n",
    "\n",
    "    print(f\"Combined video saved to: {output_path}\")\n",
    "    print(f\"Chapters file saved to: {chapters_path}\")\n",
    "    print(\"Now run the following ffmpeg command to add chapters:\")\n",
    "\n",
    "    print(f'ffmpeg -i \"{output_path}\" -i \"{chapters_path}\" -map_metadata 1 -codec copy \"{output_path[:-4]}_with_chapters.mp4\"')\n",
    "\n",
    "# Example usage:\n",
    "# combine_mp4s_with_chapters(r\"C:\\path\\to\\your\\mp4_folder\")"
   ]
  },
  {
   "cell_type": "code",
   "execution_count": 2,
   "id": "b10b70b2",
   "metadata": {},
   "outputs": [
    {
     "name": "stdout",
     "output_type": "stream",
     "text": [
      "MoviePy - Building video G:\\My Drive\\Gardening_2025\\Strategy_MIT\\Module_6 - Data Privacy and Security\\Videos\\combined.mp4.\n",
      "MoviePy - Writing audio in combinedTEMP_MPY_wvf_snd.mp4\n"
     ]
    },
    {
     "name": "stderr",
     "output_type": "stream",
     "text": [
      "                                                                       \r"
     ]
    },
    {
     "name": "stdout",
     "output_type": "stream",
     "text": [
      "MoviePy - Done.\n",
      "MoviePy - Writing video G:\\My Drive\\Gardening_2025\\Strategy_MIT\\Module_6 - Data Privacy and Security\\Videos\\combined.mp4\n",
      "\n"
     ]
    },
    {
     "name": "stderr",
     "output_type": "stream",
     "text": [
      "frame_index:  10%|█         | 8143/80316 [49:19<6:38:05,  3.02it/s, now=None] z:\\My Documents\\AnacondaProjects\\.venv\\Lib\\site-packages\\moviepy\\video\\io\\ffmpeg_reader.py:190: UserWarning: In file G:\\My Drive\\Gardening_2025\\Strategy_MIT\\Module_6 - Data Privacy and Security\\Videos\\6.1 Ethical Data Collection.mp4, 6220800 bytes wanted but 0 bytes read at frame index 8142 (out of a total 8144 frames), at time 271.40/271.47 sec. Using the last valid frame instead.\n",
      "  warnings.warn(\n",
      "frame_index:  10%|█         | 8144/80316 [49:20<9:50:39,  2.04it/s, now=None]z:\\My Documents\\AnacondaProjects\\.venv\\Lib\\site-packages\\moviepy\\video\\io\\ffmpeg_reader.py:190: UserWarning: In file G:\\My Drive\\Gardening_2025\\Strategy_MIT\\Module_6 - Data Privacy and Security\\Videos\\6.1 Ethical Data Collection.mp4, 6220800 bytes wanted but 0 bytes read at frame index 8143 (out of a total 8144 frames), at time 271.43/271.47 sec. Using the last valid frame instead.\n",
      "  warnings.warn(\n",
      "frame_index:  10%|█         | 8145/80316 [49:20<8:49:42,  2.27it/s, now=None]z:\\My Documents\\AnacondaProjects\\.venv\\Lib\\site-packages\\moviepy\\video\\io\\ffmpeg_reader.py:190: UserWarning: In file G:\\My Drive\\Gardening_2025\\Strategy_MIT\\Module_6 - Data Privacy and Security\\Videos\\6.1 Ethical Data Collection.mp4, 6220800 bytes wanted but 0 bytes read at frame index 8144 (out of a total 8144 frames), at time 271.47/271.47 sec. Using the last valid frame instead.\n",
      "  warnings.warn(\n",
      "frame_index:  20%|██        | 16209/80316 [1:36:17<6:38:02,  2.68it/s, now=None]z:\\My Documents\\AnacondaProjects\\.venv\\Lib\\site-packages\\moviepy\\video\\io\\ffmpeg_reader.py:190: UserWarning: In file G:\\My Drive\\Gardening_2025\\Strategy_MIT\\Module_6 - Data Privacy and Security\\Videos\\6.2 AI and Data Protection.mp4, 6220800 bytes wanted but 0 bytes read at frame index 8063 (out of a total 8064 frames), at time 268.77/268.82 sec. Using the last valid frame instead.\n",
      "  warnings.warn(\n",
      "frame_index:  27%|██▋       | 21694/80316 [1:58:02<3:05:05,  5.28it/s, now=None]z:\\My Documents\\AnacondaProjects\\.venv\\Lib\\site-packages\\moviepy\\video\\io\\ffmpeg_reader.py:190: UserWarning: In file G:\\My Drive\\Gardening_2025\\Strategy_MIT\\Module_6 - Data Privacy and Security\\Videos\\6.3 Building Trust.mp4, 6220800 bytes wanted but 0 bytes read at frame index 5484 (out of a total 5486 frames), at time 182.80/182.87 sec. Using the last valid frame instead.\n",
      "  warnings.warn(\n",
      "frame_index:  27%|██▋       | 21695/80316 [1:58:02<3:00:22,  5.42it/s, now=None]z:\\My Documents\\AnacondaProjects\\.venv\\Lib\\site-packages\\moviepy\\video\\io\\ffmpeg_reader.py:190: UserWarning: In file G:\\My Drive\\Gardening_2025\\Strategy_MIT\\Module_6 - Data Privacy and Security\\Videos\\6.3 Building Trust.mp4, 6220800 bytes wanted but 0 bytes read at frame index 5485 (out of a total 5486 frames), at time 182.83/182.87 sec. Using the last valid frame instead.\n",
      "  warnings.warn(\n",
      "frame_index:  35%|███▌      | 28416/80316 [2:18:58<2:38:37,  5.45it/s, now=None]z:\\My Documents\\AnacondaProjects\\.venv\\Lib\\site-packages\\moviepy\\video\\io\\ffmpeg_reader.py:190: UserWarning: In file G:\\My Drive\\Gardening_2025\\Strategy_MIT\\Module_6 - Data Privacy and Security\\Videos\\6.4 Vulnerabilities in Anonymized Data.mp4, 6220800 bytes wanted but 0 bytes read at frame index 6720 (out of a total 6721 frames), at time 224.00/224.06 sec. Using the last valid frame instead.\n",
      "  warnings.warn(\n",
      "frame_index:  35%|███▌      | 28417/80316 [2:18:58<2:39:29,  5.42it/s, now=None]z:\\My Documents\\AnacondaProjects\\.venv\\Lib\\site-packages\\moviepy\\video\\io\\ffmpeg_reader.py:190: UserWarning: In file G:\\My Drive\\Gardening_2025\\Strategy_MIT\\Module_6 - Data Privacy and Security\\Videos\\6.4 Vulnerabilities in Anonymized Data.mp4, 6220800 bytes wanted but 0 bytes read at frame index 6721 (out of a total 6721 frames), at time 224.03/224.06 sec. Using the last valid frame instead.\n",
      "  warnings.warn(\n",
      "frame_index:  42%|████▏     | 33829/80316 [2:37:11<2:57:05,  4.38it/s, now=None]z:\\My Documents\\AnacondaProjects\\.venv\\Lib\\site-packages\\moviepy\\video\\io\\ffmpeg_reader.py:190: UserWarning: In file G:\\My Drive\\Gardening_2025\\Strategy_MIT\\Module_6 - Data Privacy and Security\\Videos\\6.5 Implications of Consumers Sharing Data.mp4, 6220800 bytes wanted but 0 bytes read at frame index 5411 (out of a total 5413 frames), at time 180.37/180.44 sec. Using the last valid frame instead.\n",
      "  warnings.warn(\n",
      "frame_index:  42%|████▏     | 33830/80316 [2:37:11<2:55:25,  4.42it/s, now=None]z:\\My Documents\\AnacondaProjects\\.venv\\Lib\\site-packages\\moviepy\\video\\io\\ffmpeg_reader.py:190: UserWarning: In file G:\\My Drive\\Gardening_2025\\Strategy_MIT\\Module_6 - Data Privacy and Security\\Videos\\6.5 Implications of Consumers Sharing Data.mp4, 6220800 bytes wanted but 0 bytes read at frame index 5412 (out of a total 5413 frames), at time 180.40/180.44 sec. Using the last valid frame instead.\n",
      "  warnings.warn(\n",
      "frame_index:  50%|█████     | 40227/80316 [3:00:11<2:05:24,  5.33it/s, now=None]z:\\My Documents\\AnacondaProjects\\.venv\\Lib\\site-packages\\moviepy\\video\\io\\ffmpeg_reader.py:190: UserWarning: In file G:\\My Drive\\Gardening_2025\\Strategy_MIT\\Module_6 - Data Privacy and Security\\Videos\\6.6 Data Rights.mp4, 6220800 bytes wanted but 0 bytes read at frame index 6396 (out of a total 6398 frames), at time 213.20/213.27 sec. Using the last valid frame instead.\n",
      "  warnings.warn(\n",
      "frame_index:  50%|█████     | 40228/80316 [3:00:11<2:03:57,  5.39it/s, now=None]z:\\My Documents\\AnacondaProjects\\.venv\\Lib\\site-packages\\moviepy\\video\\io\\ffmpeg_reader.py:190: UserWarning: In file G:\\My Drive\\Gardening_2025\\Strategy_MIT\\Module_6 - Data Privacy and Security\\Videos\\6.6 Data Rights.mp4, 6220800 bytes wanted but 0 bytes read at frame index 6397 (out of a total 6398 frames), at time 213.23/213.27 sec. Using the last valid frame instead.\n",
      "  warnings.warn(\n",
      "frame_index:  70%|██████▉   | 56025/80316 [3:51:14<1:16:15,  5.31it/s, now=None]z:\\My Documents\\AnacondaProjects\\.venv\\Lib\\site-packages\\moviepy\\video\\io\\ffmpeg_reader.py:190: UserWarning: In file G:\\My Drive\\Gardening_2025\\Strategy_MIT\\Module_6 - Data Privacy and Security\\Videos\\6.7 Data Privacy and Security.mp4, 6220800 bytes wanted but 0 bytes read at frame index 15796 (out of a total 15797 frames), at time 526.53/526.59 sec. Using the last valid frame instead.\n",
      "  warnings.warn(\n",
      "frame_index:  70%|██████▉   | 56026/80316 [3:51:14<1:16:08,  5.32it/s, now=None]z:\\My Documents\\AnacondaProjects\\.venv\\Lib\\site-packages\\moviepy\\video\\io\\ffmpeg_reader.py:190: UserWarning: In file G:\\My Drive\\Gardening_2025\\Strategy_MIT\\Module_6 - Data Privacy and Security\\Videos\\6.7 Data Privacy and Security.mp4, 6220800 bytes wanted but 0 bytes read at frame index 15797 (out of a total 15797 frames), at time 526.57/526.59 sec. Using the last valid frame instead.\n",
      "  warnings.warn(\n",
      "frame_index:  75%|███████▍  | 59981/80316 [4:07:13<1:15:11,  4.51it/s, now=None]z:\\My Documents\\AnacondaProjects\\.venv\\Lib\\site-packages\\moviepy\\video\\io\\ffmpeg_reader.py:190: UserWarning: In file G:\\My Drive\\Gardening_2025\\Strategy_MIT\\Module_6 - Data Privacy and Security\\Videos\\6.8 Importance of Insights.mp4, 6220800 bytes wanted but 0 bytes read at frame index 3954 (out of a total 3955 frames), at time 131.80/131.86 sec. Using the last valid frame instead.\n",
      "  warnings.warn(\n",
      "frame_index:  75%|███████▍  | 59982/80316 [4:07:13<1:16:51,  4.41it/s, now=None]z:\\My Documents\\AnacondaProjects\\.venv\\Lib\\site-packages\\moviepy\\video\\io\\ffmpeg_reader.py:190: UserWarning: In file G:\\My Drive\\Gardening_2025\\Strategy_MIT\\Module_6 - Data Privacy and Security\\Videos\\6.8 Importance of Insights.mp4, 6220800 bytes wanted but 0 bytes read at frame index 3955 (out of a total 3955 frames), at time 131.83/131.86 sec. Using the last valid frame instead.\n",
      "  warnings.warn(\n",
      "frame_index:  90%|████████▉ | 71930/80316 [4:54:17<33:02,  4.23it/s, now=None]  z:\\My Documents\\AnacondaProjects\\.venv\\Lib\\site-packages\\moviepy\\video\\io\\ffmpeg_reader.py:190: UserWarning: In file G:\\My Drive\\Gardening_2025\\Strategy_MIT\\Module_6 - Data Privacy and Security\\Videos\\6.9 Federated Data.mp4, 6220800 bytes wanted but 0 bytes read at frame index 11947 (out of a total 11949 frames), at time 398.23/398.31 sec. Using the last valid frame instead.\n",
      "  warnings.warn(\n",
      "frame_index:  90%|████████▉ | 71931/80316 [4:54:17<31:46,  4.40it/s, now=None]z:\\My Documents\\AnacondaProjects\\.venv\\Lib\\site-packages\\moviepy\\video\\io\\ffmpeg_reader.py:190: UserWarning: In file G:\\My Drive\\Gardening_2025\\Strategy_MIT\\Module_6 - Data Privacy and Security\\Videos\\6.9 Federated Data.mp4, 6220800 bytes wanted but 0 bytes read at frame index 11948 (out of a total 11949 frames), at time 398.27/398.31 sec. Using the last valid frame instead.\n",
      "  warnings.warn(\n",
      "frame_index: 100%|█████████▉| 80315/80316 [5:26:15<00:00,  4.77it/s, now=None]  z:\\My Documents\\AnacondaProjects\\.venv\\Lib\\site-packages\\moviepy\\video\\io\\ffmpeg_reader.py:190: UserWarning: In file G:\\My Drive\\Gardening_2025\\Strategy_MIT\\Module_6 - Data Privacy and Security\\Videos\\6.10 Federated Learning.mp4, 6220800 bytes wanted but 0 bytes read at frame index 8383 (out of a total 8385 frames), at time 279.43/279.51 sec. Using the last valid frame instead.\n",
      "  warnings.warn(\n",
      "frame_index: 100%|██████████| 80316/80316 [5:26:15<00:00,  4.72it/s, now=None]z:\\My Documents\\AnacondaProjects\\.venv\\Lib\\site-packages\\moviepy\\video\\io\\ffmpeg_reader.py:190: UserWarning: In file G:\\My Drive\\Gardening_2025\\Strategy_MIT\\Module_6 - Data Privacy and Security\\Videos\\6.10 Federated Learning.mp4, 6220800 bytes wanted but 0 bytes read at frame index 8384 (out of a total 8385 frames), at time 279.47/279.51 sec. Using the last valid frame instead.\n",
      "  warnings.warn(\n",
      "                                                                              \r"
     ]
    },
    {
     "name": "stdout",
     "output_type": "stream",
     "text": [
      "MoviePy - Done !\n",
      "MoviePy - video ready G:\\My Drive\\Gardening_2025\\Strategy_MIT\\Module_6 - Data Privacy and Security\\Videos\\combined.mp4\n",
      "Combined video saved to: G:\\My Drive\\Gardening_2025\\Strategy_MIT\\Module_6 - Data Privacy and Security\\Videos\\combined.mp4\n",
      "Chapters file saved to: G:\\My Drive\\Gardening_2025\\Strategy_MIT\\Module_6 - Data Privacy and Security\\Videos\\chapters.txt\n",
      "Now run the following ffmpeg command to add chapters:\n",
      "ffmpeg -i \"G:\\My Drive\\Gardening_2025\\Strategy_MIT\\Module_6 - Data Privacy and Security\\Videos\\combined.mp4\" -i \"G:\\My Drive\\Gardening_2025\\Strategy_MIT\\Module_6 - Data Privacy and Security\\Videos\\chapters.txt\" -map_metadata 1 -codec copy \"G:\\My Drive\\Gardening_2025\\Strategy_MIT\\Module_6 - Data Privacy and Security\\Videos\\combined_with_chapters.mp4\"\n"
     ]
    }
   ],
   "source": [
    "combine_mp4s_with_chapters(r\"G:\\My Drive\\Gardening_2025\\Strategy_MIT\\Module_6 - Data Privacy and Security\\Videos\")"
   ]
  }
 ],
 "metadata": {
  "kernelspec": {
   "display_name": ".venv (3.13.4)",
   "language": "python",
   "name": "python3"
  },
  "language_info": {
   "codemirror_mode": {
    "name": "ipython",
    "version": 3
   },
   "file_extension": ".py",
   "mimetype": "text/x-python",
   "name": "python",
   "nbconvert_exporter": "python",
   "pygments_lexer": "ipython3",
   "version": "3.13.4"
  }
 },
 "nbformat": 4,
 "nbformat_minor": 5
}
