{
 "cells": [
  {
   "cell_type": "code",
   "execution_count": 1,
   "id": "d5873f03",
   "metadata": {},
   "outputs": [],
   "source": [
    "import os\n",
    "import re\n",
    "from moviepy import VideoFileClip, concatenate_videoclips\n",
    "\n",
    "def natural_key(s):\n",
    "    return [int(text) if text.isdigit() else text.lower() for text in re.split(r'(\\d+)', s)]\n",
    "\n",
    "def combine_mp4s_with_chapters(folder_path, output_name=\"combined.mp4\"):\n",
    "    # Get all MP4 files in the folder, sorted alphabetically\n",
    "    mp4_files = [f for f in os.listdir(folder_path) if f.lower().endswith('.mp4')]\n",
    "    mp4_files.sort(key=natural_key)\n",
    "    if not mp4_files:\n",
    "        print(\"No MP4 files found in the folder.\")\n",
    "        return\n",
    "\n",
    "    clips = []\n",
    "    chapter_times = []\n",
    "    current_time = 0\n",
    "    for mp4 in mp4_files:\n",
    "        clip = VideoFileClip(os.path.join(folder_path, mp4))\n",
    "        clips.append(clip)\n",
    "        chapter_times.append((current_time, os.path.splitext(mp4)[0]))\n",
    "        current_time += clip.duration\n",
    "\n",
    "    final_clip = concatenate_videoclips(clips, method=\"compose\")\n",
    "    output_path = os.path.join(folder_path, output_name)\n",
    "    final_clip.write_videofile(output_path, codec=\"libx264\", audio_codec=\"aac\")\n",
    "\n",
    "    # Write chapters file in ffmetadata format\n",
    "    chapters_path = os.path.join(folder_path, \"chapters.txt\")\n",
    "    with open(chapters_path, \"w\", encoding=\"utf-8\") as f:\n",
    "        f.write(\";FFMETADATA1\\n\")\n",
    "        for i, (start, title) in enumerate(chapter_times):\n",
    "            if i + 1 < len(chapter_times):\n",
    "                end = int(chapter_times[i+1][0])\n",
    "            else:\n",
    "                end = int(current_time)\n",
    "            f.write(\"[CHAPTER]\\n\")\n",
    "            f.write(\"TIMEBASE=1/1\\n\")\n",
    "            f.write(f\"START={int(start)}\\n\")\n",
    "            f.write(f\"END={end}\\n\")\n",
    "            f.write(f\"title={title}\\n\")\n",
    "\n",
    "    print(f\"Combined video saved to: {output_path}\")\n",
    "    print(f\"Chapters file saved to: {chapters_path}\")\n",
    "    print(\"Now run the following ffmpeg command to add chapters:\")\n",
    "\n",
    "    print(f'ffmpeg -i \"{output_path}\" -i \"{chapters_path}\" -map_metadata 1 -codec copy \"{output_path[:-4]}_with_chapters.mp4\"')\n",
    "\n",
    "# Example usage:\n",
    "# combine_mp4s_with_chapters(r\"C:\\path\\to\\your\\mp4_folder\")"
   ]
  },
  {
   "cell_type": "code",
   "execution_count": null,
   "id": "b10b70b2",
   "metadata": {},
   "outputs": [
    {
     "name": "stdout",
     "output_type": "stream",
     "text": [
      "MoviePy - Building video Z:\\OneDrive\\Gardening_2025\\Strategy_MIT\\Module_12 - Culture of Innovation\\videos\\combined.mp4.\n",
      "MoviePy - Writing audio in combinedTEMP_MPY_wvf_snd.mp4\n"
     ]
    },
    {
     "name": "stderr",
     "output_type": "stream",
     "text": [
      "                                                                       \r"
     ]
    },
    {
     "name": "stdout",
     "output_type": "stream",
     "text": [
      "MoviePy - Done.\n",
      "MoviePy - Writing video Z:\\OneDrive\\Gardening_2025\\Strategy_MIT\\Module_12 - Culture of Innovation\\videos\\combined.mp4\n",
      "\n"
     ]
    },
    {
     "name": "stderr",
     "output_type": "stream",
     "text": [
      "frame_index:  11%|█         | 11823/111308 [41:09<4:59:06,  5.54it/s, now=None] z:\\OneDrive\\Documents\\git_env\\Lib\\site-packages\\moviepy\\video\\io\\ffmpeg_reader.py:190: UserWarning: In file Z:\\OneDrive\\Gardening_2025\\Strategy_MIT\\Module_12 - Culture of Innovation\\videos\\12.1 The Future of AI.mp4, 6220800 bytes wanted but 0 bytes read at frame index 11822 (out of a total 11823 frames), at time 394.07/394.13 sec. Using the last valid frame instead.\n",
      "  warnings.warn(\n",
      "frame_index:  11%|█         | 11824/111308 [41:09<4:55:04,  5.62it/s, now=None]z:\\OneDrive\\Documents\\git_env\\Lib\\site-packages\\moviepy\\video\\io\\ffmpeg_reader.py:190: UserWarning: In file Z:\\OneDrive\\Gardening_2025\\Strategy_MIT\\Module_12 - Culture of Innovation\\videos\\12.1 The Future of AI.mp4, 6220800 bytes wanted but 0 bytes read at frame index 11823 (out of a total 11823 frames), at time 394.10/394.13 sec. Using the last valid frame instead.\n",
      "  warnings.warn(\n",
      "frame_index:  20%|█▉        | 21899/111308 [1:12:57<4:24:44,  5.63it/s, now=None]z:\\OneDrive\\Documents\\git_env\\Lib\\site-packages\\moviepy\\video\\io\\ffmpeg_reader.py:190: UserWarning: In file Z:\\OneDrive\\Gardening_2025\\Strategy_MIT\\Module_12 - Culture of Innovation\\videos\\12.2 The Future of AI II.mp4, 6220800 bytes wanted but 0 bytes read at frame index 10074 (out of a total 10076 frames), at time 335.80/335.87 sec. Using the last valid frame instead.\n",
      "  warnings.warn(\n",
      "frame_index:  20%|█▉        | 21900/111308 [1:12:57<4:23:30,  5.66it/s, now=None]z:\\OneDrive\\Documents\\git_env\\Lib\\site-packages\\moviepy\\video\\io\\ffmpeg_reader.py:190: UserWarning: In file Z:\\OneDrive\\Gardening_2025\\Strategy_MIT\\Module_12 - Culture of Innovation\\videos\\12.2 The Future of AI II.mp4, 6220800 bytes wanted but 0 bytes read at frame index 10075 (out of a total 10076 frames), at time 335.83/335.87 sec. Using the last valid frame instead.\n",
      "  warnings.warn(\n",
      "frame_index:  40%|███▉      | 44365/111308 [2:20:31<3:16:27,  5.68it/s, now=None]z:\\OneDrive\\Documents\\git_env\\Lib\\site-packages\\moviepy\\video\\io\\ffmpeg_reader.py:190: UserWarning: In file Z:\\OneDrive\\Gardening_2025\\Strategy_MIT\\Module_12 - Culture of Innovation\\videos\\12.3 The Future of AI and Work.mp4, 6220800 bytes wanted but 0 bytes read at frame index 22464 (out of a total 22465 frames), at time 748.80/748.86 sec. Using the last valid frame instead.\n",
      "  warnings.warn(\n",
      "frame_index:  40%|███▉      | 44366/111308 [2:20:31<3:14:34,  5.73it/s, now=None]z:\\OneDrive\\Documents\\git_env\\Lib\\site-packages\\moviepy\\video\\io\\ffmpeg_reader.py:190: UserWarning: In file Z:\\OneDrive\\Gardening_2025\\Strategy_MIT\\Module_12 - Culture of Innovation\\videos\\12.3 The Future of AI and Work.mp4, 6220800 bytes wanted but 0 bytes read at frame index 22465 (out of a total 22465 frames), at time 748.83/748.86 sec. Using the last valid frame instead.\n",
      "  warnings.warn(\n",
      "frame_index:  48%|████▊     | 53356/111308 [2:48:32<2:50:14,  5.67it/s, now=None]z:\\OneDrive\\Documents\\git_env\\Lib\\site-packages\\moviepy\\video\\io\\ffmpeg_reader.py:190: UserWarning: In file Z:\\OneDrive\\Gardening_2025\\Strategy_MIT\\Module_12 - Culture of Innovation\\videos\\12.4 Lessons for Leaders.mp4, 6220800 bytes wanted but 0 bytes read at frame index 8989 (out of a total 8991 frames), at time 299.63/299.71 sec. Using the last valid frame instead.\n",
      "  warnings.warn(\n",
      "frame_index:  48%|████▊     | 53357/111308 [2:48:32<2:50:52,  5.65it/s, now=None]z:\\OneDrive\\Documents\\git_env\\Lib\\site-packages\\moviepy\\video\\io\\ffmpeg_reader.py:190: UserWarning: In file Z:\\OneDrive\\Gardening_2025\\Strategy_MIT\\Module_12 - Culture of Innovation\\videos\\12.4 Lessons for Leaders.mp4, 6220800 bytes wanted but 0 bytes read at frame index 8990 (out of a total 8991 frames), at time 299.67/299.71 sec. Using the last valid frame instead.\n",
      "  warnings.warn(\n",
      "frame_index:  48%|████▊     | 53358/111308 [2:48:32<2:50:38,  5.66it/s, now=None]z:\\OneDrive\\Documents\\git_env\\Lib\\site-packages\\moviepy\\video\\io\\ffmpeg_reader.py:190: UserWarning: In file Z:\\OneDrive\\Gardening_2025\\Strategy_MIT\\Module_12 - Culture of Innovation\\videos\\12.4 Lessons for Leaders.mp4, 6220800 bytes wanted but 0 bytes read at frame index 8991 (out of a total 8991 frames), at time 299.70/299.71 sec. Using the last valid frame instead.\n",
      "  warnings.warn(\n",
      "frame_index:  56%|█████▋    | 62800/111308 [3:17:01<2:26:14,  5.53it/s, now=None]z:\\OneDrive\\Documents\\git_env\\Lib\\site-packages\\moviepy\\video\\io\\ffmpeg_reader.py:190: UserWarning: In file Z:\\OneDrive\\Gardening_2025\\Strategy_MIT\\Module_12 - Culture of Innovation\\videos\\12.5 Innovative Culture.mp4, 6220800 bytes wanted but 0 bytes read at frame index 9441 (out of a total 9443 frames), at time 314.70/314.77 sec. Using the last valid frame instead.\n",
      "  warnings.warn(\n",
      "frame_index:  56%|█████▋    | 62801/111308 [3:17:01<2:26:28,  5.52it/s, now=None]z:\\OneDrive\\Documents\\git_env\\Lib\\site-packages\\moviepy\\video\\io\\ffmpeg_reader.py:190: UserWarning: In file Z:\\OneDrive\\Gardening_2025\\Strategy_MIT\\Module_12 - Culture of Innovation\\videos\\12.5 Innovative Culture.mp4, 6220800 bytes wanted but 0 bytes read at frame index 9442 (out of a total 9443 frames), at time 314.73/314.77 sec. Using the last valid frame instead.\n",
      "  warnings.warn(\n",
      "frame_index:  65%|██████▌   | 72503/111308 [3:47:08<1:59:49,  5.40it/s, now=None]z:\\OneDrive\\Documents\\git_env\\Lib\\site-packages\\moviepy\\video\\io\\ffmpeg_reader.py:190: UserWarning: In file Z:\\OneDrive\\Gardening_2025\\Strategy_MIT\\Module_12 - Culture of Innovation\\videos\\12.6 Innovative Culture II.mp4, 6220800 bytes wanted but 0 bytes read at frame index 9701 (out of a total 9702 frames), at time 323.37/323.43 sec. Using the last valid frame instead.\n",
      "  warnings.warn(\n",
      "frame_index:  65%|██████▌   | 72504/111308 [3:47:08<2:01:29,  5.32it/s, now=None]z:\\OneDrive\\Documents\\git_env\\Lib\\site-packages\\moviepy\\video\\io\\ffmpeg_reader.py:190: UserWarning: In file Z:\\OneDrive\\Gardening_2025\\Strategy_MIT\\Module_12 - Culture of Innovation\\videos\\12.6 Innovative Culture II.mp4, 6220800 bytes wanted but 0 bytes read at frame index 9702 (out of a total 9702 frames), at time 323.40/323.43 sec. Using the last valid frame instead.\n",
      "  warnings.warn(\n",
      "frame_index:  68%|██████▊   | 76125/111308 [3:58:36<1:47:35,  5.45it/s, now=None]z:\\OneDrive\\Documents\\git_env\\Lib\\site-packages\\moviepy\\video\\io\\ffmpeg_reader.py:190: UserWarning: In file Z:\\OneDrive\\Gardening_2025\\Strategy_MIT\\Module_12 - Culture of Innovation\\videos\\12.7 Fostering the Innovative Culture.mp4, 6220800 bytes wanted but 0 bytes read at frame index 3620 (out of a total 3621 frames), at time 120.67/120.73 sec. Using the last valid frame instead.\n",
      "  warnings.warn(\n",
      "frame_index:  74%|███████▎  | 81853/111308 [4:15:51<1:28:56,  5.52it/s, now=None]z:\\OneDrive\\Documents\\git_env\\Lib\\site-packages\\moviepy\\video\\io\\ffmpeg_reader.py:190: UserWarning: In file Z:\\OneDrive\\Gardening_2025\\Strategy_MIT\\Module_12 - Culture of Innovation\\videos\\12.8 Examples of Innovative Culture.mp4, 6220800 bytes wanted but 0 bytes read at frame index 5727 (out of a total 5729 frames), at time 190.90/190.98 sec. Using the last valid frame instead.\n",
      "  warnings.warn(\n",
      "frame_index:  74%|███████▎  | 81854/111308 [4:15:51<1:27:53,  5.58it/s, now=None]z:\\OneDrive\\Documents\\git_env\\Lib\\site-packages\\moviepy\\video\\io\\ffmpeg_reader.py:190: UserWarning: In file Z:\\OneDrive\\Gardening_2025\\Strategy_MIT\\Module_12 - Culture of Innovation\\videos\\12.8 Examples of Innovative Culture.mp4, 6220800 bytes wanted but 0 bytes read at frame index 5728 (out of a total 5729 frames), at time 190.93/190.98 sec. Using the last valid frame instead.\n",
      "  warnings.warn(\n",
      "frame_index:  74%|███████▎  | 81855/111308 [4:15:51<1:26:22,  5.68it/s, now=None]z:\\OneDrive\\Documents\\git_env\\Lib\\site-packages\\moviepy\\video\\io\\ffmpeg_reader.py:190: UserWarning: In file Z:\\OneDrive\\Gardening_2025\\Strategy_MIT\\Module_12 - Culture of Innovation\\videos\\12.8 Examples of Innovative Culture.mp4, 6220800 bytes wanted but 0 bytes read at frame index 5729 (out of a total 5729 frames), at time 190.97/190.98 sec. Using the last valid frame instead.\n",
      "  warnings.warn(\n",
      "frame_index:  78%|███████▊  | 86455/111308 [4:29:59<1:15:57,  5.45it/s, now=None]z:\\OneDrive\\Documents\\git_env\\Lib\\site-packages\\moviepy\\video\\io\\ffmpeg_reader.py:190: UserWarning: In file Z:\\OneDrive\\Gardening_2025\\Strategy_MIT\\Module_12 - Culture of Innovation\\videos\\12.9 The Value of Rolling Experiments.mp4, 6220800 bytes wanted but 0 bytes read at frame index 4599 (out of a total 4600 frames), at time 153.30/153.34 sec. Using the last valid frame instead.\n",
      "  warnings.warn(\n",
      "frame_index:  84%|████████▍ | 93562/111308 [4:52:31<56:02,  5.28it/s, now=None]  z:\\OneDrive\\Documents\\git_env\\Lib\\site-packages\\moviepy\\video\\io\\ffmpeg_reader.py:190: UserWarning: In file Z:\\OneDrive\\Gardening_2025\\Strategy_MIT\\Module_12 - Culture of Innovation\\videos\\12.10 How the Right Data Empowers Organizations.mp4, 6220800 bytes wanted but 0 bytes read at frame index 7106 (out of a total 7107 frames), at time 236.87/236.93 sec. Using the last valid frame instead.\n",
      "  warnings.warn(\n",
      "frame_index:  84%|████████▍ | 93563/111308 [4:52:31<55:21,  5.34it/s, now=None]z:\\OneDrive\\Documents\\git_env\\Lib\\site-packages\\moviepy\\video\\io\\ffmpeg_reader.py:190: UserWarning: In file Z:\\OneDrive\\Gardening_2025\\Strategy_MIT\\Module_12 - Culture of Innovation\\videos\\12.10 How the Right Data Empowers Organizations.mp4, 6220800 bytes wanted but 0 bytes read at frame index 7107 (out of a total 7107 frames), at time 236.90/236.93 sec. Using the last valid frame instead.\n",
      "  warnings.warn(\n",
      "frame_index:  91%|█████████ | 100935/111308 [5:16:45<35:52,  4.82it/s, now=None] z:\\OneDrive\\Documents\\git_env\\Lib\\site-packages\\moviepy\\video\\io\\ffmpeg_reader.py:190: UserWarning: In file Z:\\OneDrive\\Gardening_2025\\Strategy_MIT\\Module_12 - Culture of Innovation\\videos\\12.11 The Future of Work.mp4, 6220800 bytes wanted but 0 bytes read at frame index 7371 (out of a total 7373 frames), at time 245.70/245.78 sec. Using the last valid frame instead.\n",
      "  warnings.warn(\n",
      "frame_index:  91%|█████████ | 100936/111308 [5:16:46<35:44,  4.84it/s, now=None]z:\\OneDrive\\Documents\\git_env\\Lib\\site-packages\\moviepy\\video\\io\\ffmpeg_reader.py:190: UserWarning: In file Z:\\OneDrive\\Gardening_2025\\Strategy_MIT\\Module_12 - Culture of Innovation\\videos\\12.11 The Future of Work.mp4, 6220800 bytes wanted but 0 bytes read at frame index 7372 (out of a total 7373 frames), at time 245.73/245.78 sec. Using the last valid frame instead.\n",
      "  warnings.warn(\n",
      "frame_index: 100%|██████████| 111308/111308 [5:55:39<00:00,  4.68it/s, now=None]  z:\\OneDrive\\Documents\\git_env\\Lib\\site-packages\\moviepy\\video\\io\\ffmpeg_reader.py:190: UserWarning: In file Z:\\OneDrive\\Gardening_2025\\Strategy_MIT\\Module_12 - Culture of Innovation\\videos\\12.12 Effective Networks.mp4, 6220800 bytes wanted but 0 bytes read at frame index 10371 (out of a total 10372 frames), at time 345.70/345.75 sec. Using the last valid frame instead.\n",
      "  warnings.warn(\n",
      "                                                                                \r"
     ]
    },
    {
     "name": "stdout",
     "output_type": "stream",
     "text": [
      "MoviePy - Done !\n",
      "MoviePy - video ready Z:\\OneDrive\\Gardening_2025\\Strategy_MIT\\Module_12 - Culture of Innovation\\videos\\combined.mp4\n",
      "Combined video saved to: Z:\\OneDrive\\Gardening_2025\\Strategy_MIT\\Module_12 - Culture of Innovation\\videos\\combined.mp4\n",
      "Chapters file saved to: Z:\\OneDrive\\Gardening_2025\\Strategy_MIT\\Module_12 - Culture of Innovation\\videos\\chapters.txt\n",
      "Now run the following ffmpeg command to add chapters:\n",
      "ffmpeg -i \"Z:\\OneDrive\\Gardening_2025\\Strategy_MIT\\Module_12 - Culture of Innovation\\videos\\combined.mp4\" -i \"Z:\\OneDrive\\Gardening_2025\\Strategy_MIT\\Module_12 - Culture of Innovation\\videos\\chapters.txt\" -map_metadata 1 -codec copy \"Z:\\OneDrive\\Gardening_2025\\Strategy_MIT\\Module_12 - Culture of Innovation\\videos\\combined_with_chapters.mp4\"\n"
     ]
    },
    {
     "ename": "",
     "evalue": "",
     "output_type": "error",
     "traceback": [
      "\u001b[1;31mThe Kernel crashed while executing code in the current cell or a previous cell. \n",
      "\u001b[1;31mPlease review the code in the cell(s) to identify a possible cause of the failure. \n",
      "\u001b[1;31mClick <a href='https://aka.ms/vscodeJupyterKernelCrash'>here</a> for more info. \n",
      "\u001b[1;31mView Jupyter <a href='command:jupyter.viewOutput'>log</a> for further details."
     ]
    }
   ],
   "source": [
    "combine_mp4s_with_chapters(r\"Z:\\OneDrive\\Gardening_2025\\Strategy_MIT\\Module_12 - Culture of Innovation\\videos\")"
   ]
  }
 ],
 "metadata": {
  "kernelspec": {
   "display_name": "git_env (3.13.4)",
   "language": "python",
   "name": "python3"
  },
  "language_info": {
   "codemirror_mode": {
    "name": "ipython",
    "version": 3
   },
   "file_extension": ".py",
   "mimetype": "text/x-python",
   "name": "python",
   "nbconvert_exporter": "python",
   "pygments_lexer": "ipython3",
   "version": "3.13.4"
  }
 },
 "nbformat": 4,
 "nbformat_minor": 5
}
