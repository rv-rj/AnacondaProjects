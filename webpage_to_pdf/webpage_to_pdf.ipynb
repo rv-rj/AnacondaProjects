{
 "cells": [
  {
   "cell_type": "code",
   "execution_count": 6,
   "id": "e91fa958",
   "metadata": {},
   "outputs": [],
   "source": [
    "import requests\n",
    "from bs4 import BeautifulSoup\n",
    "from fpdf import FPDF\n",
    "\n",
    "def get_main_text(url):\n",
    "    response = requests.get(url)\n",
    "    soup = BeautifulSoup(response.text, \"html.parser\")\n",
    "    # Try to get main content; fallback to all text\n",
    "    main = soup.find('main')\n",
    "    if main:\n",
    "        text = main.get_text(separator='\\n', strip=True)\n",
    "    else:\n",
    "        text = soup.get_text(separator='\\n', strip=True)\n",
    "    return text\n",
    "\n",
    "def save_texts_to_pdf(urls, output_pdf):\n",
    "    pdf = FPDF()\n",
    "    pdf.set_auto_page_break(auto=True, margin=15)\n",
    "    pdf.add_page()\n",
    "    pdf.set_font(\"Arial\", size=12)\n",
    "    for url in urls:\n",
    "        text = get_main_text(url)\n",
    "        # Encode to latin-1, replacing unsupported characters\n",
    "        safe_text = text.encode('latin-1', 'replace').decode('latin-1')\n",
    "        pdf.multi_cell(0, 10, f\"URL: {url}\\n\\n{safe_text}\\n\\n{'-'*40}\\n\")\n",
    "    pdf.output(output_pdf)\n",
    "\n",
    "# Example usage:\n",
    "urls = [\n",
    "    \"https://landing.ai/ai-transformation-playbook\",\n",
    "    \"https://bernardmarr.com/how-to-develop-your-artificial-intelligence-ai-strategy-with-handy-template\"\n",
    "]\n",
    "save_texts_to_pdf(urls, r\"G:\\My Drive\\Gardening_2025\\Strategy_MIT\\Module_3\\readings\\webpages.pdf\")"
   ]
  },
  {
   "cell_type": "markdown",
   "id": "62efef89",
   "metadata": {},
   "source": [
    "\n",
    "\n",
    "This change ensures that any characters not supported by `latin-1` are replaced, preventing the `UnicodeEncodeError`."
   ]
  }
 ],
 "metadata": {
  "kernelspec": {
   "display_name": ".venv",
   "language": "python",
   "name": "python3"
  },
  "language_info": {
   "codemirror_mode": {
    "name": "ipython",
    "version": 3
   },
   "file_extension": ".py",
   "mimetype": "text/x-python",
   "name": "python",
   "nbconvert_exporter": "python",
   "pygments_lexer": "ipython3",
   "version": "3.12.10"
  }
 },
 "nbformat": 4,
 "nbformat_minor": 5
}
